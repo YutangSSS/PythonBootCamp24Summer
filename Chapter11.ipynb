{
 "cells": [
  {
   "cell_type": "code",
   "execution_count": 25,
   "id": "810e3be8",
   "metadata": {},
   "outputs": [],
   "source": [
    "class Pokemon: # classes are usually defined with capitalized names\n",
    "    \"\"\"Class to create pokemons\"\"\" #docstring\n",
    "\n",
    "    def __init__(self, name, ptype):\n",
    "        \"\"\"Initialize name and type attributes\"\"\"\n",
    "        self.name = name\n",
    "        self.ptype = ptype\n",
    "        \n",
    "    def greeting(self):\n",
    "        \"\"\"Make your pokemon say hi to you\"\"\"\n",
    "        print(f\"{self.name} is saying hi to you!\")\n",
    "\n",
    "    def dance(self):\n",
    "        \"\"\"Make your pokemon dance\"\"\"\n",
    "        print(f\"{self.name} is dancing now!\")"
   ]
  },
  {
   "cell_type": "markdown",
   "id": "66ba0833",
   "metadata": {},
   "source": [
    "### More explanations on the code:\n",
    "\n",
    "- terminologies first:\n",
    "\n",
    "        - method: function that's part of a class\n",
    "        - attribute: variables that are accessible through instances\n",
    "        \n",
    "- \\__init\\__() (initialization): a special method that runs automatically whenever we create an instance from class (be mindful with using two leading underscores and two trailing underscores)\n",
    "\n",
    "- self: it is a reference to each instance itself. It has to always come first before the other parameters. When we create instances from class, we do not pass the self argument; it is passed automatically.\n",
    "\n",
    "- self.name = name: assigning the variable name (parameter) to the variable *name*, which is now attached to the instance.\n",
    "\n",
    "- greeting(self): one of the methods of the class Pokemon; it does not require any (other) parameter but the instance itself."
   ]
  },
  {
   "cell_type": "markdown",
   "id": "cd0bd92c",
   "metadata": {},
   "source": [
    "### Now let's create an instance representing a specific pokemon"
   ]
  },
  {
   "cell_type": "code",
   "execution_count": 26,
   "id": "92a8de7e",
   "metadata": {},
   "outputs": [],
   "source": [
    "my_pokemon = Pokemon('Pikachu', 'Electric')"
   ]
  },
  {
   "cell_type": "code",
   "execution_count": 27,
   "id": "625825e9",
   "metadata": {},
   "outputs": [
    {
     "data": {
      "text/plain": [
       "'Pikachu'"
      ]
     },
     "execution_count": 27,
     "metadata": {},
     "output_type": "execute_result"
    }
   ],
   "source": [
    "my_pokemon.name # attributes"
   ]
  },
  {
   "cell_type": "code",
   "execution_count": 29,
   "id": "74bbdbe2",
   "metadata": {},
   "outputs": [
    {
     "data": {
      "text/plain": [
       "'Electric'"
      ]
     },
     "execution_count": 29,
     "metadata": {},
     "output_type": "execute_result"
    }
   ],
   "source": [
    "my_pokemon.ptype # attributes"
   ]
  },
  {
   "cell_type": "code",
   "execution_count": 30,
   "id": "c72dd26a",
   "metadata": {},
   "outputs": [
    {
     "name": "stdout",
     "output_type": "stream",
     "text": [
      "Pikachu is saying hi to you!\n"
     ]
    }
   ],
   "source": [
    "my_pokemon.greeting()"
   ]
  },
  {
   "cell_type": "code",
   "execution_count": 31,
   "id": "333ff380",
   "metadata": {},
   "outputs": [
    {
     "name": "stdout",
     "output_type": "stream",
     "text": [
      "Pikachu is dancing now!\n"
     ]
    }
   ],
   "source": [
    "my_pokemon.dance()"
   ]
  },
  {
   "cell_type": "code",
   "execution_count": 34,
   "id": "22a3a9be",
   "metadata": {},
   "outputs": [],
   "source": [
    "# Of course you can have more than one pokemon\n",
    "\n",
    "my_pokemon2 = Pokemon('Squirtle', 'Water')"
   ]
  },
  {
   "cell_type": "code",
   "execution_count": 35,
   "id": "d243e6a8",
   "metadata": {},
   "outputs": [
    {
     "data": {
      "text/plain": [
       "'Squirtle'"
      ]
     },
     "execution_count": 35,
     "metadata": {},
     "output_type": "execute_result"
    }
   ],
   "source": [
    "my_pokemon2.name"
   ]
  },
  {
   "cell_type": "code",
   "execution_count": 36,
   "id": "ce42b82c",
   "metadata": {},
   "outputs": [
    {
     "data": {
      "text/plain": [
       "'Water'"
      ]
     },
     "execution_count": 36,
     "metadata": {},
     "output_type": "execute_result"
    }
   ],
   "source": [
    "my_pokemon2.ptype"
   ]
  },
  {
   "cell_type": "code",
   "execution_count": 59,
   "id": "f1386ee2",
   "metadata": {},
   "outputs": [],
   "source": [
    "### Setting a default value for an attribute\n",
    "class Pokemon: # classes are usually defined with capitalized names\n",
    "    \"\"\"Class to create pokemons\"\"\"\n",
    "\n",
    "    def __init__(self, name, ptype):\n",
    "        \"\"\"Initialize name and type attributes\"\"\"\n",
    "        self.name = name\n",
    "        self.ptype = ptype\n",
    "        self.level = 1 # Assume every pokemon instance starts with level 1\n",
    "        \n",
    "    def greeting(self):\n",
    "        \"\"\"Make your pokemon say hi to you\"\"\"\n",
    "        print(f\"{self.name} is saying hi to you!\")\n",
    "\n",
    "    def dance(self):\n",
    "        \"\"\"Make your pokemon dance\"\"\"\n",
    "        print(f\"{self.name} is dancing now!\")\n",
    "\n",
    "    def check_level(self):\n",
    "        \"\"\"Check your pokemon's current level\"\"\"\n",
    "        print(f\"the current level of {self.name} is {self.level}.\")"
   ]
  },
  {
   "cell_type": "code",
   "execution_count": 60,
   "id": "def8d0be",
   "metadata": {},
   "outputs": [],
   "source": [
    "my_pokemon = Pokemon('Pikachu', 'Electric')"
   ]
  },
  {
   "cell_type": "code",
   "execution_count": 61,
   "id": "74bc5ea3",
   "metadata": {},
   "outputs": [
    {
     "data": {
      "text/plain": [
       "1"
      ]
     },
     "execution_count": 61,
     "metadata": {},
     "output_type": "execute_result"
    }
   ],
   "source": [
    "my_pokemon.level"
   ]
  },
  {
   "cell_type": "code",
   "execution_count": 62,
   "id": "0d72a04e",
   "metadata": {},
   "outputs": [
    {
     "name": "stdout",
     "output_type": "stream",
     "text": [
      "the current level of Pikachu is 1.\n"
     ]
    }
   ],
   "source": [
    "my_pokemon.check_level()"
   ]
  },
  {
   "cell_type": "markdown",
   "id": "0ad9ff64",
   "metadata": {},
   "source": [
    "# modify attribute values\n",
    "modify an attribute value directly"
   ]
  },
  {
   "cell_type": "code",
   "execution_count": 63,
   "id": "f6f73d0e",
   "metadata": {},
   "outputs": [],
   "source": [
    "my_pokemon.level = 5"
   ]
  },
  {
   "cell_type": "code",
   "execution_count": 64,
   "id": "e75a2718",
   "metadata": {},
   "outputs": [
    {
     "name": "stdout",
     "output_type": "stream",
     "text": [
      "the current level of Pikachu is 5.\n"
     ]
    }
   ],
   "source": [
    "my_pokemon.check_level()"
   ]
  },
  {
   "cell_type": "code",
   "execution_count": 7,
   "id": "e036a5b2",
   "metadata": {},
   "outputs": [],
   "source": [
    "##Let us assign level 2 to our pikachu"
   ]
  },
  {
   "cell_type": "code",
   "execution_count": 65,
   "id": "7bfc76c1",
   "metadata": {},
   "outputs": [],
   "source": [
    "### Modifying an attribute's value through a method"
   ]
  },
  {
   "cell_type": "code",
   "execution_count": 66,
   "id": "260a2199",
   "metadata": {},
   "outputs": [],
   "source": [
    "class Pokemon: # classes are usually defined with capitalized names\n",
    "    \"\"\"Class to create pokemons\"\"\"\n",
    "\n",
    "    def __init__(self, name, ptype):\n",
    "        \"\"\"Initialize name and type attributes\"\"\"\n",
    "        self.name = name\n",
    "        self.ptype = ptype\n",
    "        self.level = 1 # Assume every pokemon instance starts with level 1\n",
    "        \n",
    "    def greeting(self):\n",
    "        \"\"\"Make your pokemon say hi to you\"\"\"\n",
    "        print(f\"{self.name} is saying hi to you!\")\n",
    "\n",
    "    def dance(self):\n",
    "        \"\"\"Make your pokemon dance\"\"\"\n",
    "        print(f\"{self.name} is dancing now!\")\n",
    "\n",
    "    def check_level(self):\n",
    "        \"\"\"Check your pokemon's current level\"\"\"\n",
    "        print(f\"the current level of {self.name} is {self.level}.\")\n",
    "        \n",
    "    def update_level(self, level):\n",
    "        \"\"\"Update the level of your pokemon\"\"\"\n",
    "        self.level = level"
   ]
  },
  {
   "cell_type": "code",
   "execution_count": 67,
   "id": "8124b6e5",
   "metadata": {},
   "outputs": [],
   "source": [
    "my_pokemon = Pokemon('Pikachu', 'Electric')"
   ]
  },
  {
   "cell_type": "code",
   "execution_count": 68,
   "id": "fcaaefc6",
   "metadata": {},
   "outputs": [
    {
     "data": {
      "text/plain": [
       "1"
      ]
     },
     "execution_count": 68,
     "metadata": {},
     "output_type": "execute_result"
    }
   ],
   "source": [
    "my_pokemon.level"
   ]
  },
  {
   "cell_type": "code",
   "execution_count": 69,
   "id": "7a6a2c28",
   "metadata": {},
   "outputs": [],
   "source": [
    "my_pokemon.update_level(3)"
   ]
  },
  {
   "cell_type": "code",
   "execution_count": 70,
   "id": "8401c4dc",
   "metadata": {},
   "outputs": [
    {
     "data": {
      "text/plain": [
       "3"
      ]
     },
     "execution_count": 70,
     "metadata": {},
     "output_type": "execute_result"
    }
   ],
   "source": [
    "my_pokemon.level"
   ]
  },
  {
   "cell_type": "code",
   "execution_count": 71,
   "id": "36488c70",
   "metadata": {},
   "outputs": [
    {
     "name": "stdout",
     "output_type": "stream",
     "text": [
      "the current level of Pikachu is 3.\n"
     ]
    }
   ],
   "source": [
    "my_pokemon.check_level()"
   ]
  },
  {
   "cell_type": "markdown",
   "id": "84ef7514",
   "metadata": {},
   "source": [
    "# Inheritance"
   ]
  },
  {
   "cell_type": "code",
   "execution_count": 72,
   "id": "530f0483",
   "metadata": {},
   "outputs": [],
   "source": [
    "#Let's create a new class by inheriting the original class\n",
    "#class\"pokemon"
   ]
  },
  {
   "cell_type": "code",
   "execution_count": 74,
   "id": "e800a3bb",
   "metadata": {},
   "outputs": [],
   "source": [
    "class Pokemon_new(Pokemon):\n",
    "    \"\"\"Class for the new version of Pokemon game.\"\"\"\n",
    "\n",
    "    def __init__(self, name, ptype):\n",
    "        \"\"\"Initialize attributes of the parent class.\"\"\"\n",
    "        super().__init__(name, ptype) # super refers to the parent class, or Pokemon here."
   ]
  },
  {
   "cell_type": "code",
   "execution_count": 75,
   "id": "64ec47a9",
   "metadata": {},
   "outputs": [],
   "source": [
    "my_pokemon = Pokemon_new(\"squirtle\",\"water\")"
   ]
  },
  {
   "cell_type": "code",
   "execution_count": 76,
   "id": "42b6d6cf",
   "metadata": {},
   "outputs": [
    {
     "data": {
      "text/plain": [
       "'Pikachu'"
      ]
     },
     "execution_count": 76,
     "metadata": {},
     "output_type": "execute_result"
    }
   ],
   "source": [
    "my_pokemon_new.name"
   ]
  },
  {
   "cell_type": "code",
   "execution_count": 77,
   "id": "9742a2ee",
   "metadata": {},
   "outputs": [
    {
     "name": "stdout",
     "output_type": "stream",
     "text": [
      "Pikachuis dancing frevently!\n"
     ]
    }
   ],
   "source": [
    "my_pokemon_new.dance()"
   ]
  },
  {
   "cell_type": "code",
   "execution_count": 78,
   "id": "35098a5c",
   "metadata": {},
   "outputs": [],
   "source": [
    "class Pokemon_new(Pokemon):\n",
    "    \"\"\"Class for the new version of Pokemon game.\"\"\"\n",
    "\n",
    "    def __init__(self, name, ptype):\n",
    "        \"\"\"Initialize attributes of the parent class.\"\"\"\n",
    "        #self.name =mname \n",
    "        #self.ptype=ptype\n",
    "        super().__init__(name, ptype) # super refers to the parent class, or Pokemon here.\n",
    "    def add_height(self,height_increase):\n",
    "        self.height=self.height + height_increment\n",
    "    #override preexsiting methods\n",
    "    def dance(self):\n",
    "        print(f\"{self.name}is dancing frevently!\")"
   ]
  },
  {
   "cell_type": "code",
   "execution_count": 79,
   "id": "0b29d262",
   "metadata": {},
   "outputs": [],
   "source": [
    "my_pokemon_new = Pokemon_new('Pikachu', 'Electric')"
   ]
  },
  {
   "cell_type": "code",
   "execution_count": 80,
   "id": "ec70486b",
   "metadata": {},
   "outputs": [
    {
     "name": "stdout",
     "output_type": "stream",
     "text": [
      "Pikachuis dancing frevently!\n"
     ]
    }
   ],
   "source": [
    "my_pokemon_new.dance()"
   ]
  },
  {
   "cell_type": "markdown",
   "id": "0566877b",
   "metadata": {},
   "source": [
    "# exercises"
   ]
  },
  {
   "cell_type": "markdown",
   "id": "36749a09",
   "metadata": {},
   "source": [
    "2. Let us create a class named \"STM_metro\" following the instructions below:\n",
    "\n",
    "   - it takes as (initial) parameters *name* and *line*; *name* specifies the name of a metro station and *line* assigns the line(s) that passes through the metro station (So be mindful that some stations can have more than one line passing through them).\n",
    "   - it has a method named *metro_description*, that takes no parameter but prints the name and line of the station. For example,\n",
    "     \"Welcome to the Peel station! It accommodates the metro green line(s).\"\n",
    "   - add an attribute *total_num_of_passengers*, whose default value is zero and that records the accumulated number of passengers using the metro station.\n",
    "   - add a method named *increment_num_of_passengers*, that takes as input the number of passengers evaluated for a certain period of time. After the method is executed, the increment should be applied to the *total_num_of_passengers* attribute."
   ]
  },
  {
   "cell_type": "code",
   "execution_count": null,
   "id": "38e0503d",
   "metadata": {},
   "outputs": [],
   "source": [
    "class STM-REM(STM_metro):\n",
    "    def __init__(self,name,line)\n",
    "        super().__init__(name,line)\n",
    "        self .stations =['']"
   ]
  }
 ],
 "metadata": {
  "kernelspec": {
   "display_name": "Python 3 (ipykernel)",
   "language": "python",
   "name": "python3"
  },
  "language_info": {
   "codemirror_mode": {
    "name": "ipython",
    "version": 3
   },
   "file_extension": ".py",
   "mimetype": "text/x-python",
   "name": "python",
   "nbconvert_exporter": "python",
   "pygments_lexer": "ipython3",
   "version": "3.11.5"
  }
 },
 "nbformat": 4,
 "nbformat_minor": 5
}
