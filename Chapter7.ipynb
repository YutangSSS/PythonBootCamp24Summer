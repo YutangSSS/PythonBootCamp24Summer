{
 "cells": [
  {
   "cell_type": "markdown",
   "id": "a4206745",
   "metadata": {},
   "source": [
    "# Continue"
   ]
  },
  {
   "cell_type": "code",
   "execution_count": null,
   "id": "ad50230d",
   "metadata": {},
   "outputs": [],
   "source": []
  },
  {
   "cell_type": "code",
   "execution_count": 1,
   "id": "1172bd6c",
   "metadata": {},
   "outputs": [
    {
     "ename": "SyntaxError",
     "evalue": "expected ':' (447431706.py, line 2)",
     "output_type": "error",
     "traceback": [
      "\u001b[0;36m  Cell \u001b[0;32mIn[1], line 2\u001b[0;36m\u001b[0m\n\u001b[0;31m    while True\u001b[0m\n\u001b[0m              ^\u001b[0m\n\u001b[0;31mSyntaxError\u001b[0m\u001b[0;31m:\u001b[0m expected ':'\n"
     ]
    }
   ],
   "source": [
    "i=0\n",
    "while True\n",
    "i=i+1\n",
    "if |"
   ]
  },
  {
   "cell_type": "code",
   "execution_count": null,
   "id": "5b3c0f85",
   "metadata": {},
   "outputs": [],
   "source": [
    "#Make sure that your while loop always terminate at some point"
   ]
  },
  {
   "cell_type": "code",
   "execution_count": null,
   "id": "06458927",
   "metadata": {},
   "outputs": [],
   "source": [
    "while True:\n",
    "    print(\"Doby is freeee!\")"
   ]
  },
  {
   "cell_type": "code",
   "execution_count": null,
   "id": "c3051f25",
   "metadata": {},
   "outputs": [],
   "source": [
    "#Adding iterator can be a good pratcie\n",
    "iterator=0\n",
    "while True:\n",
    "    print(\"Doby is free\")\n",
    "    iterator+= 1\n",
    "    if iterator == 10e+3:\n",
    "    \n",
    "    if "
   ]
  },
  {
   "cell_type": "markdown",
   "id": "99ccba41",
   "metadata": {},
   "source": [
    "# using while look for lists and dictionaries"
   ]
  },
  {
   "cell_type": "code",
   "execution_count": 5,
   "id": "b8688660",
   "metadata": {},
   "outputs": [],
   "source": [
    "#moving items from a list to anothe rlist one by one\n",
    "fall24 = ['Math208','Math240','Comp250','Phil311']\n",
    "winter25 =[]\n",
    "#move course name from fall 24 to winter 25 \n",
    "#one by one but assumen you don;t know the lenth of this dall24 list a priori\n",
    "while fall24: #this while loop will comtinue as long as long fall2 4 is not an empty list\n",
    "    course_name = fall24.pop(0)\n",
    "    winter25.append(course_name)"
   ]
  },
  {
   "cell_type": "code",
   "execution_count": 6,
   "id": "70981630",
   "metadata": {},
   "outputs": [
    {
     "data": {
      "text/plain": [
       "[]"
      ]
     },
     "execution_count": 6,
     "metadata": {},
     "output_type": "execute_result"
    }
   ],
   "source": [
    "fall24"
   ]
  },
  {
   "cell_type": "code",
   "execution_count": 7,
   "id": "afb72b63",
   "metadata": {},
   "outputs": [
    {
     "data": {
      "text/plain": [
       "['Math208', 'Math240', 'Comp250', 'Phil311']"
      ]
     },
     "execution_count": 7,
     "metadata": {},
     "output_type": "execute_result"
    }
   ],
   "source": [
    "winter25"
   ]
  },
  {
   "cell_type": "code",
   "execution_count": 29,
   "id": "e0ec8f4c",
   "metadata": {},
   "outputs": [],
   "source": [
    "# removing all instances of a specific value from a list\n",
    "fall24_friends =['Math208','Math240','Comp250','Phil311',\\\n",
    "                'Math208','Math240','Comp250','Phil311',\\\n",
    "                'Math208','Math240','Comp250','Phil311']\n",
    "#but everyone decided to drop Math208 : \n",
    "\n",
    "fall24_friends.remove('Math208')\n"
   ]
  },
  {
   "cell_type": "code",
   "execution_count": 30,
   "id": "076aa5d4",
   "metadata": {},
   "outputs": [
    {
     "data": {
      "text/plain": [
       "['Math240',\n",
       " 'Comp250',\n",
       " 'Phil311',\n",
       " 'Math208',\n",
       " 'Math240',\n",
       " 'Comp250',\n",
       " 'Phil311',\n",
       " 'Math208',\n",
       " 'Math240',\n",
       " 'Comp250',\n",
       " 'Phil311']"
      ]
     },
     "execution_count": 30,
     "metadata": {},
     "output_type": "execute_result"
    }
   ],
   "source": [
    "fall24_friends"
   ]
  },
  {
   "cell_type": "code",
   "execution_count": 32,
   "id": "1c2ebbc3",
   "metadata": {},
   "outputs": [],
   "source": [
    "while 'Math208'in fall24_friends:\n",
    "    fall24_friends.remove('Math208')"
   ]
  },
  {
   "cell_type": "code",
   "execution_count": 33,
   "id": "b10acb7b",
   "metadata": {},
   "outputs": [
    {
     "data": {
      "text/plain": [
       "['Math240',\n",
       " 'Comp250',\n",
       " 'Phil311',\n",
       " 'Math240',\n",
       " 'Comp250',\n",
       " 'Phil311',\n",
       " 'Math240',\n",
       " 'Comp250',\n",
       " 'Phil311']"
      ]
     },
     "execution_count": 33,
     "metadata": {},
     "output_type": "execute_result"
    }
   ],
   "source": [
    "fall24_friends"
   ]
  },
  {
   "cell_type": "code",
   "execution_count": 34,
   "id": "678a7cfa",
   "metadata": {},
   "outputs": [
    {
     "data": {
      "text/plain": [
       "{'Comp250', 'Math208', 'Math240', 'Phil311'}"
      ]
     },
     "execution_count": 34,
     "metadata": {},
     "output_type": "execute_result"
    }
   ],
   "source": [
    "#set?\n",
    "?set\n",
    "fall24_friends =['Math208','Math240','Comp250','Phil311',\\\n",
    "                'Math208','Math240','Comp250','Phil311',\\\n",
    "                'Math208','Math240','Comp250','Phil311']\n",
    "set(fall24_friends)"
   ]
  },
  {
   "cell_type": "markdown",
   "id": "638966f9",
   "metadata": {},
   "source": [
    "# Filling adictionary with user input\n",
    "goal: to create a dictionary containing your friends' names as key\n",
    "and their registered couse list as the corresponding values\n"
   ]
  },
  {
   "cell_type": "code",
   "execution_count": null,
   "id": "9f0781ba",
   "metadata": {},
   "outputs": [],
   "source": [
    "friends_course_dict = {}\n",
    "while True:\n",
    "    friends_name =input(\"add your friends name here:\")\n",
    "    course_list = input(\"Give a list of your friend has \\registered for\")\n",
    "    friends_course_dict[friends_name] = course_list\n",
    "    #adding the new key(friends name) and its coresponding value(course_list)\n",
    "    message = input(\"Enter 'quit' if you wnat to stop adding your friends\")\n",
    "    if message == \"quit\":\n",
    "        break"
   ]
  },
  {
   "cell_type": "code",
   "execution_count": 39,
   "id": "77ce5789",
   "metadata": {},
   "outputs": [
    {
     "data": {
      "text/plain": [
       "{'shsh': 'course'}"
      ]
     },
     "execution_count": 39,
     "metadata": {},
     "output_type": "execute_result"
    }
   ],
   "source": [
    "friends_course_dict"
   ]
  },
  {
   "cell_type": "markdown",
   "id": "4aed3717",
   "metadata": {},
   "source": [
    "# exercise"
   ]
  },
  {
   "cell_type": "markdown",
   "id": "bf3a48fa",
   "metadata": {},
   "source": [
    "# 1. Modify the \"guessing my favorite city\" with the following additional conditions:\n",
    "\n",
    "   - one can guess only up to 5 times, so once the guess reached 5 times and the answer is still wrong, your program has to terminate while printing the      following: \"I am sorry that you didn't make it. The answer is (...)!\"\n",
    "   - if one's guesses are wrong up to 3 times, print an additional hint, such as \"my favorite city is located in/near (...)\".\n",
    "   - Up to the maximum number of possible guesses (which is 5 in our case), print the number of remaining guesses.\n",
    "   # Make a guess for my favorite city <br>\n",
    "(Enter 'quit' when you are finished.) Seoul <br>\n",
    "I really love Seoul, but that is not my favorite!<br>\n",
    "Now you have only 4 left!<br>\n",
    "\n",
    " Make a guess for my favorite city<br>\n",
    "(Enter 'quit' when you are finished.) Paris<br>\n",
    "I really love Paris, but that is not my favorite!<br>\n",
    "Now you have only 3 left!<br>\n",
    "\n",
    " Make a guess for my favorite city<br>\n",
    "(Enter 'quit' when you are finished.) Shanghai<br>\n",
    "I really love Shanghai, but that is not my favorite!<br>\n",
    "Now you have only 2 left!<br>\n",
    "I'll give you a hint, my favorite city is in the province of Quebec!<br>\n",
    "\n",
    " Make a guess for my favorite city<br>\n",
    "(Enter 'quit' when you are finished.) Brossard<br>\n",
    "I really love Brossard, but that is not my favorite!<br>\n",
    "Now you have only 1 left!<br>\n",
    "I'll give you a hint, my favorite city is in the province of Quebec!<br>\n",
    "\n",
    " Make a guess for my favorite city<br>\n",
    "(Enter 'quit' when you are finished.) Montreal<br>\n",
    "You are absolutely right! My favorite city is Montreal!"
   ]
  },
  {
   "cell_type": "code",
   "execution_count": null,
   "id": "ac3406bd",
   "metadata": {},
   "outputs": [],
   "source": []
  }
 ],
 "metadata": {
  "kernelspec": {
   "display_name": "Python 3 (ipykernel)",
   "language": "python",
   "name": "python3"
  },
  "language_info": {
   "codemirror_mode": {
    "name": "ipython",
    "version": 3
   },
   "file_extension": ".py",
   "mimetype": "text/x-python",
   "name": "python",
   "nbconvert_exporter": "python",
   "pygments_lexer": "ipython3",
   "version": "3.11.5"
  }
 },
 "nbformat": 4,
 "nbformat_minor": 5
}
