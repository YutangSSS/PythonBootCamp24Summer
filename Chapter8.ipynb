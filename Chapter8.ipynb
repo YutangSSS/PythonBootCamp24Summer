{
 "cells": [
  {
   "cell_type": "markdown",
   "id": "9a2094e7",
   "metadata": {},
   "source": [
    "# Fuctions"
   ]
  },
  {
   "cell_type": "markdown",
   "id": "9cf380ff",
   "metadata": {},
   "source": [
    "# How to define a function"
   ]
  },
  {
   "cell_type": "code",
   "execution_count": 1,
   "id": "5060af7e",
   "metadata": {},
   "outputs": [],
   "source": [
    "def Bonjour_hi(): #define a fuction name\n",
    "    #duction body: what does this fuction do?\n",
    "    print(\"Bonjour/hi!\")"
   ]
  },
  {
   "cell_type": "code",
   "execution_count": 2,
   "id": "e7db9e61",
   "metadata": {},
   "outputs": [
    {
     "name": "stdout",
     "output_type": "stream",
     "text": [
      "Bonjour/hi!\n"
     ]
    }
   ],
   "source": [
    "Bonjour_hi()#don't forget the parentheses"
   ]
  },
  {
   "cell_type": "code",
   "execution_count": 5,
   "id": "8705b717",
   "metadata": {},
   "outputs": [],
   "source": [
    "#Let's pass information (input)to our fuction.\n",
    "def Bonjour_hi(name):#name is our input/argument\n",
    "    \"\"\"This fuction wil say\\Bonjour/hi to the input name\"\"\" #docstring:descibe what your fuction does\n",
    "    print(f\"bonjour/hi,{name}\")"
   ]
  },
  {
   "cell_type": "code",
   "execution_count": null,
   "id": "de12e332",
   "metadata": {
    "collapsed": true
   },
   "outputs": [],
   "source": [
    "Bonjour_hi()"
   ]
  },
  {
   "cell_type": "code",
   "execution_count": 6,
   "id": "67726275",
   "metadata": {},
   "outputs": [
    {
     "name": "stdout",
     "output_type": "stream",
     "text": [
      "bonjour/hi,kiwon\n"
     ]
    }
   ],
   "source": [
    "Bonjour_hi(\"kiwon\")"
   ]
  },
  {
   "cell_type": "code",
   "execution_count": 7,
   "id": "50f133cb",
   "metadata": {},
   "outputs": [
    {
     "name": "stdout",
     "output_type": "stream",
     "text": [
      "bonjour/hi,Spiro\n"
     ]
    }
   ],
   "source": [
    "Bonjour_hi(\"Spiro\")"
   ]
  },
  {
   "cell_type": "code",
   "execution_count": 8,
   "id": "79446c1e",
   "metadata": {},
   "outputs": [],
   "source": [
    "#How to pass arguments? positional arguments vs keyword arguments\n",
    "def course_description(course_name, prof_name):\n",
    "    \"\"\"Print the course name and the prof's name\"\"\"\n",
    "    print(f\"The course name is :{course_name}.\")\n",
    "    print(f\"The professor's name is:{prof_name}.\")"
   ]
  },
  {
   "cell_type": "code",
   "execution_count": 9,
   "id": "d26182bd",
   "metadata": {},
   "outputs": [
    {
     "name": "stdout",
     "output_type": "stream",
     "text": [
      "The course name is :Math208.\n",
      "The professor's name is:Lee.\n"
     ]
    }
   ],
   "source": [
    "course_description('Math208' ,'Lee' )"
   ]
  },
  {
   "cell_type": "code",
   "execution_count": 10,
   "id": "c63a3d67",
   "metadata": {},
   "outputs": [
    {
     "name": "stdout",
     "output_type": "stream",
     "text": [
      "The course name is :Lee.\n",
      "The professor's name is:Math208.\n"
     ]
    }
   ],
   "source": [
    "course_description('Lee','Math208')"
   ]
  },
  {
   "cell_type": "code",
   "execution_count": 11,
   "id": "7b8cf39d",
   "metadata": {},
   "outputs": [],
   "source": [
    "#positional arguments: their positions really matter!\n",
    "#keyword arguements: \n",
    "#name-value pair you pass through a function you don't have to worry about their order\n"
   ]
  },
  {
   "cell_type": "code",
   "execution_count": 12,
   "id": "512e8dd2",
   "metadata": {},
   "outputs": [],
   "source": [
    "def course_description(course_name, prof_name):\n",
    "    \"\"\"Print the course name and the prof's name\"\"\"\n",
    "    print(f\"The course name is :{course_name}.\")\n",
    "    print(f\"The professor's name is:{prof_name}.\")"
   ]
  },
  {
   "cell_type": "code",
   "execution_count": 13,
   "id": "43e07567",
   "metadata": {},
   "outputs": [
    {
     "name": "stdout",
     "output_type": "stream",
     "text": [
      "The course name is :Math208.\n",
      "The professor's name is:Lee.\n"
     ]
    }
   ],
   "source": [
    "course_description(course_name='Math208', prof_name='Lee')\n",
    "#keyword arguments: course-name and prof_name are argument keys and \n",
    "#the corresponding values are'Math208' and 'lee'"
   ]
  },
  {
   "cell_type": "code",
   "execution_count": 14,
   "id": "f57c05b8",
   "metadata": {},
   "outputs": [
    {
     "name": "stdout",
     "output_type": "stream",
     "text": [
      "The course name is :Math208.\n",
      "The professor's name is:Lee.\n"
     ]
    }
   ],
   "source": [
    "course_description(prof_name='Lee', course_name='Math208')"
   ]
  },
  {
   "cell_type": "code",
   "execution_count": 15,
   "id": "3d9d0330",
   "metadata": {},
   "outputs": [],
   "source": [
    "#Can we use both postional arguments and keyword arguments together?"
   ]
  },
  {
   "cell_type": "code",
   "execution_count": 23,
   "id": "81d85681",
   "metadata": {},
   "outputs": [],
   "source": [
    "def course_description_upgrade(course_name,prof_name,classroom):\n",
    "    \"\"\"Print the course name and the prof's name\"\"\"\n",
    "    print(f\"The course name is :{course_name}.\")\n",
    "    print(f\"The professor's name is:{prof_name}.\")\n",
    "    print(f\"The professor's name is:{classroom}.\")"
   ]
  },
  {
   "cell_type": "code",
   "execution_count": 42,
   "id": "88a5df9b",
   "metadata": {},
   "outputs": [
    {
     "name": "stdout",
     "output_type": "stream",
     "text": [
      "I'll take STIBI03/3 next semester. \n",
      "It is taught by Prof. Math208.\n",
      "The class will be held in Lee.\n"
     ]
    }
   ],
   "source": [
    "course_description_upgrade('Math208','Lee','STIBI03/3')"
   ]
  },
  {
   "cell_type": "code",
   "execution_count": 45,
   "id": "d1143e96",
   "metadata": {},
   "outputs": [
    {
     "name": "stdout",
     "output_type": "stream",
     "text": [
      "I'll take STIBI03/3 next semester. \n",
      "It is taught by Prof. Lee.\n",
      "The class will be held in Math208.\n"
     ]
    }
   ],
   "source": [
    "course_description_upgrade('Lee', 'Math208','STIBI03/3')"
   ]
  },
  {
   "cell_type": "code",
   "execution_count": 31,
   "id": "a7e89930",
   "metadata": {},
   "outputs": [
    {
     "ename": "SyntaxError",
     "evalue": "unexpected character after line continuation character (2988934316.py, line 2)",
     "output_type": "error",
     "traceback": [
      "\u001b[0;36m  Cell \u001b[0;32mIn[31], line 2\u001b[0;36m\u001b[0m\n\u001b[0;31m    course_descirption_upgrade('Math208',classroom='STIBI03/3',\\prof_name='Lee',)\u001b[0m\n\u001b[0m                                                                ^\u001b[0m\n\u001b[0;31mSyntaxError\u001b[0m\u001b[0;31m:\u001b[0m unexpected character after line continuation character\n"
     ]
    }
   ],
   "source": [
    "#so positional arguments have to come first followed by keyword arguments\n",
    "course_descirption_upgrade('Math208',classroom='STIBI03/3',\\prof_name='Lee',)\n",
    "#Math208 will be \n"
   ]
  },
  {
   "cell_type": "code",
   "execution_count": 32,
   "id": "5ef6e6c2",
   "metadata": {},
   "outputs": [],
   "source": [
    "### Default values\n"
   ]
  },
  {
   "cell_type": "code",
   "execution_count": 33,
   "id": "61ba407f",
   "metadata": {},
   "outputs": [],
   "source": [
    "#You can set certain default values"
   ]
  },
  {
   "cell_type": "code",
   "execution_count": 34,
   "id": "b0986093",
   "metadata": {},
   "outputs": [
    {
     "ename": "SyntaxError",
     "evalue": "non-default argument follows default argument (104380201.py, line 1)",
     "output_type": "error",
     "traceback": [
      "\u001b[0;36m  Cell \u001b[0;32mIn[34], line 1\u001b[0;36m\u001b[0m\n\u001b[0;31m    def course_description_upgrade(course_name = 'MATH208', prof_name, classroom): # make sure that default values come after non-default values\u001b[0m\n\u001b[0m                                                            ^\u001b[0m\n\u001b[0;31mSyntaxError\u001b[0m\u001b[0;31m:\u001b[0m non-default argument follows default argument\n"
     ]
    }
   ],
   "source": [
    "def course_description_upgrade(course_name = 'MATH208', prof_name, classroom): # make sure that default values come after non-default values\n",
    "    \"\"\"Display information about a course.\"\"\"\n",
    "    \"\"\"Default course name is 'Math208'\"\"\"\n",
    "    print(f\"I'll take {course_name} next semester. \")\n",
    "    print(f\"It is taught by Prof. {prof_name}.\")\n",
    "    print(f\"The class will be held in {classroom}.\")"
   ]
  },
  {
   "cell_type": "code",
   "execution_count": 35,
   "id": "a758eb22",
   "metadata": {},
   "outputs": [],
   "source": [
    "#the second rule: default arguments have to come after non defalut arguments"
   ]
  },
  {
   "cell_type": "code",
   "execution_count": 37,
   "id": "b8cbcef2",
   "metadata": {},
   "outputs": [],
   "source": [
    "def course_description_upgrade( prof_name, classroom,course_name = 'MATH208'): # make sure that default values come after non-default values\n",
    "    \"\"\"Display information about a course.\"\"\"\n",
    "    \"\"\"Default course name is 'Math208'\"\"\"\n",
    "    print(f\"I'll take {course_name} next semester. \")\n",
    "    print(f\"It is taught by Prof. {prof_name}.\")\n",
    "    print(f\"The class will be held in {classroom}.\")"
   ]
  },
  {
   "cell_type": "code",
   "execution_count": 38,
   "id": "ac322db3",
   "metadata": {},
   "outputs": [
    {
     "name": "stdout",
     "output_type": "stream",
     "text": [
      "I'll take MATH208 next semester. \n",
      "It is taught by Prof. Lee.\n",
      "The class will be held in STBI03/3.\n"
     ]
    }
   ],
   "source": [
    "#The default value of the course name='math208'was used\n",
    "course_description_upgrade('Lee','STBI03/3')"
   ]
  },
  {
   "cell_type": "code",
   "execution_count": 39,
   "id": "bf05a2ac",
   "metadata": {},
   "outputs": [
    {
     "name": "stdout",
     "output_type": "stream",
     "text": [
      "I'll take Math240 next semester. \n",
      "It is taught by Prof. Lee.\n",
      "The class will be held in STBI03/3.\n"
     ]
    }
   ],
   "source": [
    "#But you can change the course name\n",
    "course_description_upgrade('Lee','STBI03/3','Math240')"
   ]
  },
  {
   "cell_type": "markdown",
   "id": "36108807",
   "metadata": {},
   "source": [
    "# Exercise\n",
    "1. Create a function named \"my_summation\" that takes as arguments two natural numbers $n_1 < n_2$ and return the sume of all the natural numbers between $n_1$ and $n_2$. Give an error message if at least one of your inputs is not a natural number (how do you check if a number is a natural number?).\n",
    "my_summation(3,5)my_summation(3.1, 5)"
   ]
  },
  {
   "cell_type": "code",
   "execution_count": 76,
   "id": "8bbd0b86",
   "metadata": {},
   "outputs": [],
   "source": [
    "def my_summation (m,n):\n",
    "    \"\"\"evaluate the sum of all the natual numbers between\\m and n\"\"\"\n",
    "    #check if both m and n are natural numbers\n",
    "    if int(m)!=m or int(n)!=n:\n",
    "        print(\"both m and n have to be natural numbers\")\n",
    "    else: #m and n are both integers\n",
    "        print(sum(range(m,n+1)))"
   ]
  },
  {
   "cell_type": "code",
   "execution_count": 48,
   "id": "ed83a522",
   "metadata": {},
   "outputs": [
    {
     "data": {
      "text/plain": [
       "[1, 2, 3, 4, 5, 6, 7, 8, 9, 10]"
      ]
     },
     "execution_count": 48,
     "metadata": {},
     "output_type": "execute_result"
    }
   ],
   "source": [
    "list(range(1,11))"
   ]
  },
  {
   "cell_type": "code",
   "execution_count": 49,
   "id": "bd664872",
   "metadata": {},
   "outputs": [
    {
     "data": {
      "text/plain": [
       "55"
      ]
     },
     "execution_count": 49,
     "metadata": {},
     "output_type": "execute_result"
    }
   ],
   "source": [
    "sum(range(1,11))"
   ]
  },
  {
   "cell_type": "code",
   "execution_count": 52,
   "id": "7edc7afc",
   "metadata": {},
   "outputs": [],
   "source": [
    "sum_total = 0\n",
    "for i in range(1,11):\n",
    "    sum_total=sum_total + i\n",
    "    "
   ]
  },
  {
   "cell_type": "code",
   "execution_count": 53,
   "id": "fcddcd40",
   "metadata": {},
   "outputs": [
    {
     "data": {
      "text/plain": [
       "float"
      ]
     },
     "execution_count": 53,
     "metadata": {},
     "output_type": "execute_result"
    }
   ],
   "source": [
    "type(3.1)"
   ]
  },
  {
   "cell_type": "markdown",
   "id": "f24c4208",
   "metadata": {},
   "source": [
    "# return values"
   ]
  },
  {
   "cell_type": "code",
   "execution_count": 56,
   "id": "4b20ebaf",
   "metadata": {},
   "outputs": [],
   "source": [
    "def sum_of_two_numbers(a,b):\n",
    "    \"\"\"return sum of two inputs\"\"\"\n",
    "    return a+b #this iwll be your outcome"
   ]
  },
  {
   "cell_type": "code",
   "execution_count": 57,
   "id": "1cef7fbd",
   "metadata": {},
   "outputs": [
    {
     "data": {
      "text/plain": [
       "7"
      ]
     },
     "execution_count": 57,
     "metadata": {},
     "output_type": "execute_result"
    }
   ],
   "source": [
    "sum_of_two_numbers(3,4)\n"
   ]
  },
  {
   "cell_type": "code",
   "execution_count": 58,
   "id": "2130407d",
   "metadata": {},
   "outputs": [],
   "source": [
    "sum_example=sum_of_two_numbers(3,4)"
   ]
  },
  {
   "cell_type": "code",
   "execution_count": 59,
   "id": "9ee52213",
   "metadata": {},
   "outputs": [
    {
     "data": {
      "text/plain": [
       "7"
      ]
     },
     "execution_count": 59,
     "metadata": {},
     "output_type": "execute_result"
    }
   ],
   "source": [
    "sum_example"
   ]
  },
  {
   "cell_type": "code",
   "execution_count": 61,
   "id": "e5427bf6",
   "metadata": {},
   "outputs": [],
   "source": [
    "def build_person_dict(first_name, last_name):\n",
    "    \"\"\"Return a dictionary of information about a person\"\"\"\n",
    "    person = {'first': first_name.title(), 'last': last_name.title()}\n",
    "    return person #I am retruning a dictionary"
   ]
  },
  {
   "cell_type": "code",
   "execution_count": 62,
   "id": "d462d852",
   "metadata": {},
   "outputs": [
    {
     "data": {
      "text/plain": [
       "{'first': 'Kiwon', 'last': 'Lee'}"
      ]
     },
     "execution_count": 62,
     "metadata": {},
     "output_type": "execute_result"
    }
   ],
   "source": [
    "name_dict = build_person_dict('kiwon', 'lee')"
   ]
  },
  {
   "cell_type": "code",
   "execution_count": 64,
   "id": "12171fb2",
   "metadata": {},
   "outputs": [
    {
     "name": "stdout",
     "output_type": "stream",
     "text": [
      "Kiwon\n",
      "Lee\n"
     ]
    }
   ],
   "source": [
    "name = build_person_dict('kiwon', 'lee')\n",
    "print(name['first'])\n",
    "print(name['last'])"
   ]
  },
  {
   "cell_type": "code",
   "execution_count": 65,
   "id": "b1558cd9",
   "metadata": {},
   "outputs": [],
   "source": [
    "# Placeholder\n",
    "def build_person_dict(first_name, last_name, age = None): # Use none for a placeholder for numerical values\n",
    "    \"\"\"Return a dictionary of information about a person\"\"\"\n",
    "    #age as default doesn't exist but you can still specify it's value\n",
    "    person = {'first': first_name.title(), 'last': last_name.title()}\n",
    "    if age: #so if age is not None\n",
    "        person['age'] = age\n",
    "    return person\n"
   ]
  },
  {
   "cell_type": "code",
   "execution_count": 66,
   "id": "8112d318",
   "metadata": {},
   "outputs": [
    {
     "data": {
      "text/plain": [
       "{'first': 'Kiwon', 'last': 'Lee'}"
      ]
     },
     "execution_count": 66,
     "metadata": {},
     "output_type": "execute_result"
    }
   ],
   "source": [
    "build_person_dict('kiwon', 'lee')"
   ]
  },
  {
   "cell_type": "code",
   "execution_count": 67,
   "id": "30c36570",
   "metadata": {},
   "outputs": [
    {
     "data": {
      "text/plain": [
       "{'first': 'Kiwon', 'last': 'Lee', 'age': 20}"
      ]
     },
     "execution_count": 67,
     "metadata": {},
     "output_type": "execute_result"
    }
   ],
   "source": [
    "build_person_dict('kiwon', 'lee', 20)"
   ]
  },
  {
   "cell_type": "code",
   "execution_count": 68,
   "id": "cb567da0",
   "metadata": {},
   "outputs": [],
   "source": [
    "### You do not have to return anything: but return can terminate your fuction"
   ]
  },
  {
   "cell_type": "code",
   "execution_count": 70,
   "id": "f3e2c1ef",
   "metadata": {},
   "outputs": [],
   "source": [
    "def say_hi(name,num_limits):\n",
    "    \"\"\"print hi for num_limits times\"\"\"\n",
    "    while True:\n",
    "        print(f\"Hi,{name}!\")\n",
    "        i=i+1\n",
    "        if i> num_limits:\n",
    "            return #The function call will terminate here \n",
    "        "
   ]
  },
  {
   "cell_type": "markdown",
   "id": "9d22bf04",
   "metadata": {},
   "source": [
    "# 2. Modify the function \"my_summation\" in a way that\n",
    "\n",
    "   - If only one natural number is used as an argument, return the sum of all the natural numbers up to that input.\n",
    "   - The order of your input shouldn't matter; so my_summation(1,2) and my_summation(2,1) both should give 3."
   ]
  },
  {
   "cell_type": "code",
   "execution_count": 73,
   "id": "05408c97",
   "metadata": {},
   "outputs": [],
   "source": [
    "def my_summation (m,n=-1):\n",
    "    \"\"\"evaluate the sum of all the natual numbers between\\m and n\"\"\"\n",
    "    #check if both m and n are natural numbers\n",
    "    \n",
    "        \n",
    "    if n\n",
    "        print(\"both m and n have to be natural numbers\")\n",
    "    else: #m and n are both integers\n",
    "        print(sum(range(m,n+1)))"
   ]
  },
  {
   "cell_type": "code",
   "execution_count": null,
   "id": "ca320667",
   "metadata": {},
   "outputs": [],
   "source": []
  }
 ],
 "metadata": {
  "kernelspec": {
   "display_name": "Python 3 (ipykernel)",
   "language": "python",
   "name": "python3"
  },
  "language_info": {
   "codemirror_mode": {
    "name": "ipython",
    "version": 3
   },
   "file_extension": ".py",
   "mimetype": "text/x-python",
   "name": "python",
   "nbconvert_exporter": "python",
   "pygments_lexer": "ipython3",
   "version": "3.11.5"
  }
 },
 "nbformat": 4,
 "nbformat_minor": 5
}
