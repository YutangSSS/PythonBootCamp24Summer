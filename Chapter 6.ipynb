{
 "cells": [
  {
   "cell_type": "markdown",
   "id": "00663895",
   "metadata": {},
   "source": [
    "# Dictionaries"
   ]
  },
  {
   "cell_type": "code",
   "execution_count": 1,
   "id": "a32750d1",
   "metadata": {},
   "outputs": [],
   "source": [
    "fall24=['Math208','Math240','Comp250','Phil311']"
   ]
  },
  {
   "cell_type": "code",
   "execution_count": 2,
   "id": "4bee14f3",
   "metadata": {},
   "outputs": [],
   "source": [
    "Math208={'course_name':'Math208','prof':'Lee','classroom':'ARTS150','schedule':'TR_1600:1730'}\n",
    "#Curly breakets/braces"
   ]
  },
  {
   "cell_type": "code",
   "execution_count": 3,
   "id": "82b4391b",
   "metadata": {},
   "outputs": [
    {
     "data": {
      "text/plain": [
       "{'course_name': 'Math208',\n",
       " 'prof': 'Lee',\n",
       " 'classroom': 'ARTS150',\n",
       " 'schedule': 'TR_1600:1730'}"
      ]
     },
     "execution_count": 3,
     "metadata": {},
     "output_type": "execute_result"
    }
   ],
   "source": [
    "Math208"
   ]
  },
  {
   "cell_type": "code",
   "execution_count": 4,
   "id": "a91c0ccd",
   "metadata": {},
   "outputs": [],
   "source": [
    "#Dictionaries are comprised of '\"key\":\"value\"'"
   ]
  },
  {
   "cell_type": "code",
   "execution_count": 5,
   "id": "a04e6c6e",
   "metadata": {},
   "outputs": [],
   "source": [
    "#working with dictionaries"
   ]
  },
  {
   "cell_type": "code",
   "execution_count": 6,
   "id": "f132b2e0",
   "metadata": {},
   "outputs": [
    {
     "data": {
      "text/plain": [
       "'Lee'"
      ]
     },
     "execution_count": 6,
     "metadata": {},
     "output_type": "execute_result"
    }
   ],
   "source": [
    "Math208['prof']#specify a key to access its coresponding value"
   ]
  },
  {
   "cell_type": "code",
   "execution_count": 7,
   "id": "8a9e63f6",
   "metadata": {},
   "outputs": [
    {
     "data": {
      "text/plain": [
       "'ARTS150'"
      ]
     },
     "execution_count": 7,
     "metadata": {},
     "output_type": "execute_result"
    }
   ],
   "source": [
    "Math208['classroom']"
   ]
  },
  {
   "cell_type": "code",
   "execution_count": 8,
   "id": "d221019d",
   "metadata": {},
   "outputs": [],
   "source": [
    "#dictionaries don't really have order!"
   ]
  },
  {
   "cell_type": "code",
   "execution_count": 14,
   "id": "9aff3878",
   "metadata": {},
   "outputs": [
    {
     "ename": "KeyError",
     "evalue": "0",
     "output_type": "error",
     "traceback": [
      "\u001b[0;31m---------------------------------------------------------------------------\u001b[0m",
      "\u001b[0;31mKeyError\u001b[0m                                  Traceback (most recent call last)",
      "Cell \u001b[0;32mIn[14], line 1\u001b[0m\n\u001b[0;32m----> 1\u001b[0m Math208[\u001b[38;5;241m0\u001b[39m]\n",
      "\u001b[0;31mKeyError\u001b[0m: 0"
     ]
    }
   ],
   "source": [
    "Math208[0]\n"
   ]
  },
  {
   "cell_type": "code",
   "execution_count": 15,
   "id": "bdd14590",
   "metadata": {},
   "outputs": [],
   "source": [
    "Math240={}"
   ]
  },
  {
   "cell_type": "code",
   "execution_count": 16,
   "id": "ea74e114",
   "metadata": {},
   "outputs": [],
   "source": [
    "#Adding new key value pairs\n",
    "Math240['prof']='Macdonald'"
   ]
  },
  {
   "cell_type": "code",
   "execution_count": 17,
   "id": "306fcf77",
   "metadata": {},
   "outputs": [
    {
     "data": {
      "text/plain": [
       "{'prof': 'Macdonald'}"
      ]
     },
     "execution_count": 17,
     "metadata": {},
     "output_type": "execute_result"
    }
   ],
   "source": [
    "Math240"
   ]
  },
  {
   "cell_type": "code",
   "execution_count": 18,
   "id": "da3e6b8c",
   "metadata": {},
   "outputs": [],
   "source": [
    "#Modifying value"
   ]
  },
  {
   "cell_type": "code",
   "execution_count": 21,
   "id": "ec10777a",
   "metadata": {},
   "outputs": [],
   "source": [
    "my_favorite_book={'Title','Author','Genre','Published_year','Publisher'}"
   ]
  },
  {
   "cell_type": "code",
   "execution_count": 22,
   "id": "86a2eb24",
   "metadata": {},
   "outputs": [],
   "source": [
    "Author={'Keith','1973','U.S.'}"
   ]
  },
  {
   "cell_type": "code",
   "execution_count": 23,
   "id": "cf476b90",
   "metadata": {},
   "outputs": [
    {
     "data": {
      "text/plain": [
       "{'1973', 'Keith', 'U.S.'}"
      ]
     },
     "execution_count": 23,
     "metadata": {},
     "output_type": "execute_result"
    }
   ],
   "source": [
    "Author\n"
   ]
  },
  {
   "cell_type": "code",
   "execution_count": 24,
   "id": "0dea2c52",
   "metadata": {},
   "outputs": [],
   "source": [
    "#Modifiying value in a dictionary"
   ]
  },
  {
   "cell_type": "code",
   "execution_count": 30,
   "id": "fe5f2481",
   "metadata": {},
   "outputs": [],
   "source": [
    "Math208['classroom'] = 'BURNB102' #assign a new value to a corespoding key"
   ]
  },
  {
   "cell_type": "code",
   "execution_count": 31,
   "id": "6d4218ae",
   "metadata": {},
   "outputs": [
    {
     "data": {
      "text/plain": [
       "{'course_name': 'Math208',\n",
       " 'prof': 'Lee',\n",
       " 'classroom': 'BURNB102',\n",
       " 'schedule': 'TR_1600:1730'}"
      ]
     },
     "execution_count": 31,
     "metadata": {},
     "output_type": "execute_result"
    }
   ],
   "source": [
    "Math208"
   ]
  },
  {
   "cell_type": "code",
   "execution_count": 32,
   "id": "ba380f28",
   "metadata": {},
   "outputs": [
    {
     "ename": "KeyError",
     "evalue": "'capacity'",
     "output_type": "error",
     "traceback": [
      "\u001b[0;31m---------------------------------------------------------------------------\u001b[0m",
      "\u001b[0;31mKeyError\u001b[0m                                  Traceback (most recent call last)",
      "Cell \u001b[0;32mIn[32], line 2\u001b[0m\n\u001b[1;32m      1\u001b[0m \u001b[38;5;66;03m#Remove key-value pairs\u001b[39;00m\n\u001b[0;32m----> 2\u001b[0m \u001b[38;5;28;01mdel\u001b[39;00m Math208[\u001b[38;5;124m'\u001b[39m\u001b[38;5;124mcapacity\u001b[39m\u001b[38;5;124m'\u001b[39m]\n",
      "\u001b[0;31mKeyError\u001b[0m: 'capacity'"
     ]
    }
   ],
   "source": [
    "#Remove key-value pairs\n",
    "del Math208['capacity']"
   ]
  },
  {
   "cell_type": "code",
   "execution_count": 33,
   "id": "338b0b14",
   "metadata": {},
   "outputs": [
    {
     "data": {
      "text/plain": [
       "{'course_name': 'Math208',\n",
       " 'prof': 'Lee',\n",
       " 'classroom': 'BURNB102',\n",
       " 'schedule': 'TR_1600:1730'}"
      ]
     },
     "execution_count": 33,
     "metadata": {},
     "output_type": "execute_result"
    }
   ],
   "source": [
    "Math208"
   ]
  },
  {
   "cell_type": "code",
   "execution_count": 34,
   "id": "3ec7d2d9",
   "metadata": {},
   "outputs": [],
   "source": [
    "?Math208.get"
   ]
  },
  {
   "cell_type": "code",
   "execution_count": 35,
   "id": "0ce5a851",
   "metadata": {},
   "outputs": [
    {
     "data": {
      "text/plain": [
       "'No such key exists'"
      ]
     },
     "execution_count": 35,
     "metadata": {},
     "output_type": "execute_result"
    }
   ],
   "source": [
    "Math208.get('capacity','No such key exists')"
   ]
  },
  {
   "cell_type": "code",
   "execution_count": 36,
   "id": "628fc871",
   "metadata": {},
   "outputs": [
    {
     "data": {
      "text/plain": [
       "'Lee'"
      ]
     },
     "execution_count": 36,
     "metadata": {},
     "output_type": "execute_result"
    }
   ],
   "source": [
    "Math208.get('prof','No such key exists')"
   ]
  },
  {
   "cell_type": "markdown",
   "id": "4a424547",
   "metadata": {},
   "source": [
    "# Looping through a dictionary"
   ]
  },
  {
   "cell_type": "code",
   "execution_count": 37,
   "id": "7ef33427",
   "metadata": {},
   "outputs": [
    {
     "data": {
      "text/plain": [
       "{'course_name': 'Math208',\n",
       " 'prof': 'Lee',\n",
       " 'classroom': 'BURNB102',\n",
       " 'schedule': 'TR_1600:1730'}"
      ]
     },
     "execution_count": 37,
     "metadata": {},
     "output_type": "execute_result"
    }
   ],
   "source": [
    "Math208"
   ]
  },
  {
   "cell_type": "code",
   "execution_count": 38,
   "id": "840409e4",
   "metadata": {},
   "outputs": [
    {
     "data": {
      "text/plain": [
       "4"
      ]
     },
     "execution_count": 38,
     "metadata": {},
     "output_type": "execute_result"
    }
   ],
   "source": [
    "len(Math208)"
   ]
  },
  {
   "cell_type": "code",
   "execution_count": 41,
   "id": "f8b95a01",
   "metadata": {},
   "outputs": [
    {
     "ename": "TypeError",
     "evalue": "'dict' object is not callable",
     "output_type": "error",
     "traceback": [
      "\u001b[0;31m---------------------------------------------------------------------------\u001b[0m",
      "\u001b[0;31mTypeError\u001b[0m                                 Traceback (most recent call last)",
      "Cell \u001b[0;32mIn[41], line 3\u001b[0m\n\u001b[1;32m      1\u001b[0m \u001b[38;5;66;03m#Is the following going to work?\u001b[39;00m\n\u001b[1;32m      2\u001b[0m \u001b[38;5;28;01mfor\u001b[39;00m i \u001b[38;5;129;01min\u001b[39;00m \u001b[38;5;28mrange\u001b[39m(\u001b[38;5;28mlen\u001b[39m(Math208)):\u001b[38;5;66;03m#iterate i form 0 to 3\u001b[39;00m\n\u001b[0;32m----> 3\u001b[0m     \u001b[38;5;28mprint\u001b[39m(Math208(i))\n",
      "\u001b[0;31mTypeError\u001b[0m: 'dict' object is not callable"
     ]
    }
   ],
   "source": [
    "#Is the following going to work?\n",
    "for i in range(len(Math208)):#iterate i form 0 to 3\n",
    "    print(Math208(i))#print the i-th element of Math208\n",
    "    #this dones't work bc dictionaries don't have indices"
   ]
  },
  {
   "cell_type": "code",
   "execution_count": 42,
   "id": "5a571067",
   "metadata": {},
   "outputs": [],
   "source": [
    "?Math208.items"
   ]
  },
  {
   "cell_type": "code",
   "execution_count": 43,
   "id": "18505223",
   "metadata": {},
   "outputs": [
    {
     "data": {
      "text/plain": [
       "dict_items([('course_name', 'Math208'), ('prof', 'Lee'), ('classroom', 'BURNB102'), ('schedule', 'TR_1600:1730')])"
      ]
     },
     "execution_count": 43,
     "metadata": {},
     "output_type": "execute_result"
    }
   ],
   "source": [
    "Math208.items() #gives key-value pair elements "
   ]
  },
  {
   "cell_type": "code",
   "execution_count": 45,
   "id": "7ebda8fa",
   "metadata": {},
   "outputs": [
    {
     "name": "stdout",
     "output_type": "stream",
     "text": [
      "key:course_name\n",
      "\n",
      "value:Math208\n",
      "\n",
      "key:prof\n",
      "\n",
      "value:Lee\n",
      "\n",
      "key:classroom\n",
      "\n",
      "value:BURNB102\n",
      "\n",
      "key:schedule\n",
      "\n",
      "value:TR_1600:1730\n",
      "\n"
     ]
    }
   ],
   "source": [
    "#Instead \n",
    "for key,value in Math208.items():\n",
    "    #looping over Math208, where each elements is key-value\n",
    "    print(f\"key:{key}\\n\")\n",
    "    print(f\"value:{value}\\n\")"
   ]
  },
  {
   "cell_type": "code",
   "execution_count": 46,
   "id": "803d3c21",
   "metadata": {},
   "outputs": [],
   "source": [
    "#loop over only the keys"
   ]
  },
  {
   "cell_type": "code",
   "execution_count": 47,
   "id": "0817f7c6",
   "metadata": {},
   "outputs": [
    {
     "data": {
      "text/plain": [
       "dict_keys(['course_name', 'prof', 'classroom', 'schedule'])"
      ]
     },
     "execution_count": 47,
     "metadata": {},
     "output_type": "execute_result"
    }
   ],
   "source": [
    "Math208.keys()"
   ]
  },
  {
   "cell_type": "code",
   "execution_count": 49,
   "id": "f5e17014",
   "metadata": {},
   "outputs": [
    {
     "name": "stdout",
     "output_type": "stream",
     "text": [
      "course_name\n",
      "prof\n",
      "classroom\n",
      "schedule\n"
     ]
    }
   ],
   "source": [
    "for key in Math208.keys():\n",
    "    print(key)"
   ]
  },
  {
   "cell_type": "code",
   "execution_count": 50,
   "id": "db98e061",
   "metadata": {},
   "outputs": [
    {
     "name": "stdout",
     "output_type": "stream",
     "text": [
      "Math208\n",
      "Lee\n",
      "BURNB102\n",
      "TR_1600:1730\n"
     ]
    }
   ],
   "source": [
    "#What if you want to print values instead\n",
    "for key in Math208.keys():\n",
    "    print(Math208[key])"
   ]
  },
  {
   "cell_type": "code",
   "execution_count": 51,
   "id": "178c1431",
   "metadata": {},
   "outputs": [
    {
     "name": "stdout",
     "output_type": "stream",
     "text": [
      "Math208\n",
      "Lee\n",
      "BURNB102\n",
      "TR_1600:1730\n"
     ]
    }
   ],
   "source": [
    "for value in Math208.values():\n",
    "    print(value)"
   ]
  },
  {
   "cell_type": "code",
   "execution_count": 52,
   "id": "3e1934a0",
   "metadata": {},
   "outputs": [],
   "source": [
    "#Can we access key using their values?"
   ]
  },
  {
   "cell_type": "code",
   "execution_count": 53,
   "id": "f20a3f58",
   "metadata": {},
   "outputs": [
    {
     "ename": "SyntaxError",
     "evalue": "invalid syntax (2511079866.py, line 1)",
     "output_type": "error",
     "traceback": [
      "\u001b[0;36m  Cell \u001b[0;32mIn[53], line 1\u001b[0;36m\u001b[0m\n\u001b[0;31m    Zihang(green,red,blue)milad(blue, black, white)jessica(Pink, yellow, purple)\u001b[0m\n\u001b[0m                          ^\u001b[0m\n\u001b[0;31mSyntaxError\u001b[0m\u001b[0;31m:\u001b[0m invalid syntax\n"
     ]
    }
   ],
   "source": [
    "Zihang(green,red,blue)milad(blue, black, white)jessica(Pink, yellow, purple)"
   ]
  },
  {
   "cell_type": "code",
   "execution_count": 56,
   "id": "e7df57a1",
   "metadata": {},
   "outputs": [],
   "source": [
    "my_favorite_colors=['Green','blue','pink']\n",
    "friends_favorite_colors={'Zihang':['Green','red','blue'],'Milad':['blue','black','white'],\n",
    "                         'Jessica':['Pink','yellow','purple']}"
   ]
  },
  {
   "cell_type": "code",
   "execution_count": 69,
   "id": "f4cab1f9",
   "metadata": {},
   "outputs": [
    {
     "name": "stdout",
     "output_type": "stream",
     "text": [
      "Zihang's fav colors are:\n",
      "Green\n",
      "\n",
      "\n",
      "red\n",
      "\n",
      "\n",
      "blue\n",
      "\n",
      "\n",
      "Milad's fav colors are:\n",
      "blue\n",
      "\n",
      "\n",
      "black\n",
      "\n",
      "\n",
      "white\n",
      "\n",
      "\n",
      "Jessica's fav colors are:\n",
      "Pink\n",
      "\n",
      "\n",
      "yellow\n",
      "\n",
      "\n",
      "purple\n",
      "\n",
      "\n"
     ]
    }
   ],
   "source": [
    "for name,color_list in friends_favorite_colors.items():\n",
    "    print(f\"{name}'s fav colors are:\")\n",
    "    for color in color_list:\n",
    "                  print(f\"{color}\")\n",
    "                  print(\"\\n\")"
   ]
  },
  {
   "cell_type": "markdown",
   "id": "f3e73f91",
   "metadata": {},
   "source": [
    "# Nesting"
   ]
  },
  {
   "cell_type": "code",
   "execution_count": 71,
   "id": "17be0dd9",
   "metadata": {},
   "outputs": [
    {
     "data": {
      "text/plain": [
       "{'course_name': 'Math208',\n",
       " 'prof': 'Lee',\n",
       " 'classroom': 'BURNB102',\n",
       " 'schedule': 'TR_1600:1730'}"
      ]
     },
     "execution_count": 71,
     "metadata": {},
     "output_type": "execute_result"
    }
   ],
   "source": [
    "Math208 #Dictionaries in a list"
   ]
  },
  {
   "cell_type": "code",
   "execution_count": 72,
   "id": "1d0fca09",
   "metadata": {},
   "outputs": [
    {
     "data": {
      "text/plain": [
       "['Math208', 'Math240', 'Comp250', 'Phil311']"
      ]
     },
     "execution_count": 72,
     "metadata": {},
     "output_type": "execute_result"
    }
   ],
   "source": [
    "fall24"
   ]
  },
  {
   "cell_type": "code",
   "execution_count": 81,
   "id": "cd9207ba",
   "metadata": {},
   "outputs": [],
   "source": [
    "Math240= {'course_name':'Math240','prof':'Lee2','classroom':'ARTS150','schedule':'TR_1600:1730'}"
   ]
  },
  {
   "cell_type": "code",
   "execution_count": 82,
   "id": "a6bd1d71",
   "metadata": {},
   "outputs": [],
   "source": [
    "Comp250={'course_name':'Math240','prof':'Lee2','classroom':'ARTS150','schedule':'TR_1600:1730'}"
   ]
  },
  {
   "cell_type": "code",
   "execution_count": 83,
   "id": "2eb00975",
   "metadata": {},
   "outputs": [],
   "source": [
    "Math240={'course_name':'Math240','prof':'Lee2','classroom':'ARTS150','schedule':'TR_1600:1730'}"
   ]
  },
  {
   "cell_type": "code",
   "execution_count": 101,
   "id": "21c51171",
   "metadata": {},
   "outputs": [],
   "source": [
    "fall24_list=[Math240,Comp250,Math240]"
   ]
  },
  {
   "cell_type": "code",
   "execution_count": 102,
   "id": "3c824439",
   "metadata": {},
   "outputs": [
    {
     "name": "stdout",
     "output_type": "stream",
     "text": [
      "{'course_name': 'Math240', 'prof': 'Lee2', 'classroom': 'ARTS150', 'schedule': 'TR_1600:1730'}\n",
      "{'course_name': 'Math240', 'prof': 'Lee2', 'classroom': 'ARTS150', 'schedule': 'TR_1600:1730'}\n",
      "{'course_name': 'Math240', 'prof': 'Lee2', 'classroom': 'ARTS150', 'schedule': 'TR_1600:1730'}\n"
     ]
    }
   ],
   "source": [
    "for course in fall24_list:\n",
    "    print(course)"
   ]
  },
  {
   "cell_type": "code",
   "execution_count": 103,
   "id": "4e0852d9",
   "metadata": {},
   "outputs": [
    {
     "name": "stdout",
     "output_type": "stream",
     "text": [
      "course_name:Math240\n",
      "\n",
      "\n",
      "prof:Lee2\n",
      "\n",
      "\n",
      "classroom:ARTS150\n",
      "\n",
      "\n",
      "schedule:TR_1600:1730\n",
      "\n",
      "\n",
      "course_name:Math240\n",
      "\n",
      "\n",
      "prof:Lee2\n",
      "\n",
      "\n",
      "classroom:ARTS150\n",
      "\n",
      "\n",
      "schedule:TR_1600:1730\n",
      "\n",
      "\n",
      "course_name:Math240\n",
      "\n",
      "\n",
      "prof:Lee2\n",
      "\n",
      "\n",
      "classroom:ARTS150\n",
      "\n",
      "\n",
      "schedule:TR_1600:1730\n",
      "\n",
      "\n"
     ]
    }
   ],
   "source": [
    "for course in fall24_list:\n",
    "    for key, value in course.items():#loop over each dictionary item\n",
    "        print(f\"{key}:{value}\")\n",
    "        print(\"\\n\")"
   ]
  },
  {
   "cell_type": "code",
   "execution_count": 106,
   "id": "e2fe7d0a",
   "metadata": {},
   "outputs": [
    {
     "name": "stdout",
     "output_type": "stream",
     "text": [
      "Math240) has a very late schedule, i might drop it\n",
      "Math240) has a very late schedule, i might drop it\n",
      "Math240) has a very late schedule, i might drop it\n"
     ]
    }
   ],
   "source": [
    "#Mix loop and conditional statements\n",
    "for cours in fall24_list:\n",
    "    if course ['schedule']==\"TR_1600:1730\":\n",
    "        print(f\"{course['course_name']}) has a very late schedule, i might drop it\")"
   ]
  },
  {
   "cell_type": "code",
   "execution_count": 107,
   "id": "84a9cc2f",
   "metadata": {},
   "outputs": [
    {
     "data": {
      "text/plain": [
       "{'course_name': 'Math240',\n",
       " 'prof': 'Lee2',\n",
       " 'classroom': 'ARTS150',\n",
       " 'schedule': 'TR_1600:1730'}"
      ]
     },
     "execution_count": 107,
     "metadata": {},
     "output_type": "execute_result"
    }
   ],
   "source": [
    "fall24_list[0]"
   ]
  },
  {
   "cell_type": "code",
   "execution_count": 108,
   "id": "9c08b7fd",
   "metadata": {},
   "outputs": [
    {
     "data": {
      "text/plain": [
       "{'course_name': 'Math208',\n",
       " 'prof': 'Lee',\n",
       " 'classroom': 'BURNB102',\n",
       " 'schedule': 'TR_1600:1730',\n",
       " 'friends': ['Jonathan', 'ling', 'Andrew']}"
      ]
     },
     "execution_count": 108,
     "metadata": {},
     "output_type": "execute_result"
    }
   ],
   "source": [
    "Math208"
   ]
  },
  {
   "cell_type": "code",
   "execution_count": 109,
   "id": "8d563372",
   "metadata": {},
   "outputs": [],
   "source": [
    "Math208['friends']=['Jonathan','ling','Andrew']"
   ]
  },
  {
   "cell_type": "code",
   "execution_count": 110,
   "id": "3c752cc3",
   "metadata": {},
   "outputs": [
    {
     "data": {
      "text/plain": [
       "{'course_name': 'Math208',\n",
       " 'prof': 'Lee',\n",
       " 'classroom': 'BURNB102',\n",
       " 'schedule': 'TR_1600:1730',\n",
       " 'friends': ['Jonathan', 'ling', 'Andrew']}"
      ]
     },
     "execution_count": 110,
     "metadata": {},
     "output_type": "execute_result"
    }
   ],
   "source": [
    "Math208"
   ]
  },
  {
   "cell_type": "code",
   "execution_count": 111,
   "id": "f4aa3697",
   "metadata": {},
   "outputs": [
    {
     "name": "stdout",
     "output_type": "stream",
     "text": [
      "I'ill take Math208 withJonathan\n",
      "I'ill take Math208 withling\n",
      "I'ill take Math208 withAndrew\n"
     ]
    }
   ],
   "source": [
    "for friend in Math208 ['friends']:#loop over \n",
    "    print(f\"I'ill take Math208 with{friend}\")"
   ]
  },
  {
   "cell_type": "markdown",
   "id": "31160a29",
   "metadata": {},
   "source": [
    "# Dictionaries in a dictionary"
   ]
  },
  {
   "cell_type": "code",
   "execution_count": 112,
   "id": "c3227e94",
   "metadata": {},
   "outputs": [
    {
     "data": {
      "text/plain": [
       "[{'course_name': 'Math240',\n",
       "  'prof': 'Lee2',\n",
       "  'classroom': 'ARTS150',\n",
       "  'schedule': 'TR_1600:1730'},\n",
       " {'course_name': 'Math240',\n",
       "  'prof': 'Lee2',\n",
       "  'classroom': 'ARTS150',\n",
       "  'schedule': 'TR_1600:1730'},\n",
       " {'course_name': 'Math240',\n",
       "  'prof': 'Lee2',\n",
       "  'classroom': 'ARTS150',\n",
       "  'schedule': 'TR_1600:1730'}]"
      ]
     },
     "execution_count": 112,
     "metadata": {},
     "output_type": "execute_result"
    }
   ],
   "source": [
    "fall24_list"
   ]
  },
  {
   "cell_type": "code",
   "execution_count": 116,
   "id": "a7078df6",
   "metadata": {},
   "outputs": [],
   "source": [
    "fall24_dic={'Math208':{}}"
   ]
  },
  {
   "cell_type": "code",
   "execution_count": 118,
   "id": "614fbb93",
   "metadata": {
    "scrolled": true
   },
   "outputs": [
    {
     "name": "stdout",
     "output_type": "stream",
     "text": [
      "I am takingMath208next semester and its information is as follows:\n",
      "{}\n",
      "\n"
     ]
    }
   ],
   "source": [
    "for course, course_info in fall24_dic.items():\n",
    "    print(f\"I am taking{course}next semester and its information is as follows:\")\n",
    "    print(f\"{course_info}\\n\")"
   ]
  },
  {
   "cell_type": "code",
   "execution_count": null,
   "id": "98f66041",
   "metadata": {},
   "outputs": [],
   "source": [
    "#exercises"
   ]
  },
  {
   "cell_type": "code",
   "execution_count": 119,
   "id": "baed110b",
   "metadata": {},
   "outputs": [
    {
     "data": {
      "text/plain": [
       "{'Green', 'blue', 'pink'}"
      ]
     },
     "execution_count": 119,
     "metadata": {},
     "output_type": "execute_result"
    }
   ],
   "source": [
    "my_favorite_colors"
   ]
  },
  {
   "cell_type": "code",
   "execution_count": 143,
   "id": "e0b50d44",
   "metadata": {},
   "outputs": [
    {
     "data": {
      "text/plain": [
       "{'Zihang': ['Green', 'red', 'blue'],\n",
       " 'Milad': ['blue', 'black', 'white'],\n",
       " 'Jessica': ['Pink', 'yellow', 'purple']}"
      ]
     },
     "execution_count": 143,
     "metadata": {},
     "output_type": "execute_result"
    }
   ],
   "source": [
    "friends_favorite_colors"
   ]
  },
  {
   "cell_type": "code",
   "execution_count": 148,
   "id": "84d0c239",
   "metadata": {},
   "outputs": [
    {
     "name": "stdout",
     "output_type": "stream",
     "text": [
      "Me and Zihang are both like Green:\n",
      "Me and Zihang are both like blue:\n",
      "Me and Milad are both like blue:\n"
     ]
    }
   ],
   "source": [
    "for mycolor in my_favorite_colors: #We looping over my favorite color #ere my color is fixed\n",
    "    for key in friends_favorite_colors.keys():\n",
    "        #print(friends_favorite_colors[key])\n",
    "        if mycolor in friends_favorite_colors[key]:\n",
    "            print(f\"Me and {key} are both like {mycolor}:\")"
   ]
  },
  {
   "cell_type": "code",
   "execution_count": 147,
   "id": "cb230742",
   "metadata": {},
   "outputs": [
    {
     "ename": "ValueError",
     "evalue": "too many values to unpack (expected 2)",
     "output_type": "error",
     "traceback": [
      "\u001b[0;31m---------------------------------------------------------------------------\u001b[0m",
      "\u001b[0;31mValueError\u001b[0m                                Traceback (most recent call last)",
      "Cell \u001b[0;32mIn[147], line 2\u001b[0m\n\u001b[1;32m      1\u001b[0m \u001b[38;5;28;01mfor\u001b[39;00m color \u001b[38;5;129;01min\u001b[39;00m my_favorite_colors: \n\u001b[0;32m----> 2\u001b[0m     \u001b[38;5;28;01mfor\u001b[39;00m name, my_favorite_colors \u001b[38;5;129;01min\u001b[39;00m friends_favorite_colors\u001b[38;5;241m.\u001b[39mkeys():\n\u001b[1;32m      3\u001b[0m         \u001b[38;5;28;01mif\u001b[39;00m color \u001b[38;5;129;01min\u001b[39;00m color_list:\n\u001b[1;32m      4\u001b[0m             \u001b[38;5;28mprint\u001b[39m(\u001b[38;5;124mf\u001b[39m\u001b[38;5;124m\"\u001b[39m\u001b[38;5;124mBoth I and \u001b[39m\u001b[38;5;132;01m{\u001b[39;00mname\u001b[38;5;132;01m}\u001b[39;00m\u001b[38;5;124m love \u001b[39m\u001b[38;5;132;01m{\u001b[39;00mcolor\u001b[38;5;132;01m}\u001b[39;00m\u001b[38;5;124m!\u001b[39m\u001b[38;5;124m\"\u001b[39m)\n",
      "\u001b[0;31mValueError\u001b[0m: too many values to unpack (expected 2)"
     ]
    }
   ],
   "source": [
    "for color in my_favorite_colors: \n",
    "    for name, my_favorite_colors in friends_favorite_colors.keys():\n",
    "        if color in color_list:\n",
    "            print(f\"Both I and {name} love {color}!\")\n",
    "            "
   ]
  },
  {
   "cell_type": "code",
   "execution_count": 146,
   "id": "448ec745",
   "metadata": {},
   "outputs": [
    {
     "ename": "NameError",
     "evalue": "name 'firends_colors' is not defined",
     "output_type": "error",
     "traceback": [
      "\u001b[0;31m---------------------------------------------------------------------------\u001b[0m",
      "\u001b[0;31mNameError\u001b[0m                                 Traceback (most recent call last)",
      "Cell \u001b[0;32mIn[146], line 1\u001b[0m\n\u001b[0;32m----> 1\u001b[0m \u001b[38;5;28;01mfor\u001b[39;00m name, color_list \u001b[38;5;129;01min\u001b[39;00m firends_colors\u001b[38;5;241m.\u001b[39mitems():\n\u001b[1;32m      2\u001b[0m     \u001b[38;5;28;01mfor\u001b[39;00m color \u001b[38;5;129;01min\u001b[39;00m color_list:\n\u001b[1;32m      3\u001b[0m         \u001b[38;5;28;01mif\u001b[39;00m color \u001b[38;5;129;01min\u001b[39;00m my_favorite_colors:\n",
      "\u001b[0;31mNameError\u001b[0m: name 'firends_colors' is not defined"
     ]
    }
   ],
   "source": [
    "for name, color_list in firends_colors.items():\n",
    "    for color in color_list:\n",
    "        if color in my_favorite_colors:\n",
    "            print(f\"Both I and {name}love{color}!\")"
   ]
  },
  {
   "cell_type": "code",
   "execution_count": 140,
   "id": "e27d2f1c",
   "metadata": {},
   "outputs": [
    {
     "name": "stdout",
     "output_type": "stream",
     "text": [
      "he\n",
      "llo\n",
      "hbfbshfbd df\bsf\n",
      "sgeg\"\n",
      "this is after a space\n"
     ]
    }
   ],
   "source": [
    "print(\"he\\nllo\")\n",
    "print(\"hbfbshfbd df\\bsf\")\n",
    "\n",
    "print(\"sgeg\\\"\")\n",
    "print(\"this is after a space\")"
   ]
  },
  {
   "cell_type": "code",
   "execution_count": null,
   "id": "7cadf22d",
   "metadata": {},
   "outputs": [],
   "source": []
  }
 ],
 "metadata": {
  "kernelspec": {
   "display_name": "Python 3 (ipykernel)",
   "language": "python",
   "name": "python3"
  },
  "language_info": {
   "codemirror_mode": {
    "name": "ipython",
    "version": 3
   },
   "file_extension": ".py",
   "mimetype": "text/x-python",
   "name": "python",
   "nbconvert_exporter": "python",
   "pygments_lexer": "ipython3",
   "version": "3.11.5"
  }
 },
 "nbformat": 4,
 "nbformat_minor": 5
}
