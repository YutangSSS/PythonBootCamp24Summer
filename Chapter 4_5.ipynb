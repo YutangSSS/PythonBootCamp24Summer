{
 "cells": [
  {
   "cell_type": "markdown",
   "id": "0ae38d8e",
   "metadata": {},
   "source": [
    "# Looping"
   ]
  },
  {
   "cell_type": "code",
   "execution_count": null,
   "id": "34b8f19c",
   "metadata": {},
   "outputs": [],
   "source": [
    "sum_total= 0\n",
    "for i in range (11): #range(11)={0,1...10}\n",
    "sum_total = sum_total+1\n",
    "print(sum_total)"
   ]
  },
  {
   "cell_type": "code",
   "execution_count": null,
   "id": "e81377c5",
   "metadata": {},
   "outputs": [],
   "source": [
    "?range"
   ]
  },
  {
   "cell_type": "code",
   "execution_count": null,
   "id": "22670dd9",
   "metadata": {},
   "outputs": [],
   "source": [
    "fall24=['MATH208','Math240']"
   ]
  },
  {
   "cell_type": "code",
   "execution_count": null,
   "id": "2123ad2e",
   "metadata": {},
   "outputs": [],
   "source": [
    "print(fall24[0])"
   ]
  },
  {
   "cell_type": "code",
   "execution_count": null,
   "id": "09d718bc",
   "metadata": {},
   "outputs": [],
   "source": [
    "for course in fall24:\n",
    "    print(course)"
   ]
  },
  {
   "cell_type": "code",
   "execution_count": null,
   "id": "2749b8e0",
   "metadata": {},
   "outputs": [],
   "source": [
    "for i in fall24:\n",
    "    print(i)\n",
    "    "
   ]
  },
  {
   "cell_type": "code",
   "execution_count": null,
   "id": "15320a43",
   "metadata": {},
   "outputs": [],
   "source": [
    "for j in range(4): #jwill be increased from 0-3\n",
    "    print(fall24[1])"
   ]
  },
  {
   "cell_type": "code",
   "execution_count": null,
   "id": "e71b269c",
   "metadata": {},
   "outputs": [],
   "source": [
    "#use f string to print thigs\n",
    "for course in fall24:\n",
    "    print(f\"I will take{course}next semester!\")"
   ]
  },
  {
   "cell_type": "code",
   "execution_count": null,
   "id": "247a47de",
   "metadata": {},
   "outputs": [],
   "source": [
    "#Automatic indentation is made for \"for\" loops Bc indentation matters in Python\n",
    "#what happens of there is no indentation?\n",
    "for couse in fall24:\n",
    "    print(f\"i will take {course}next semester!\")#this code doesn't apply to the for loop!\n"
   ]
  },
  {
   "cell_type": "code",
   "execution_count": null,
   "id": "04d1d596",
   "metadata": {},
   "outputs": [],
   "source": [
    "#what if we make unnecessary indentation?\n",
    "message=\"I am excited for the new semester\"\n",
    "print(message)"
   ]
  },
  {
   "cell_type": "markdown",
   "id": "3f8c22e4",
   "metadata": {},
   "source": [
    "# Numerical lists\n"
   ]
  },
  {
   "cell_type": "code",
   "execution_count": null,
   "id": "30b7e674",
   "metadata": {},
   "outputs": [],
   "source": [
    "?range"
   ]
  },
  {
   "cell_type": "code",
   "execution_count": null,
   "id": "beee4e44",
   "metadata": {},
   "outputs": [],
   "source": [
    "range(4)"
   ]
  },
  {
   "cell_type": "code",
   "execution_count": null,
   "id": "51217e4a",
   "metadata": {},
   "outputs": [],
   "source": [
    "list(range(4))"
   ]
  },
  {
   "cell_type": "code",
   "execution_count": null,
   "id": "3f64407f",
   "metadata": {},
   "outputs": [],
   "source": [
    "#specify starting point as well\n",
    "list(range(1,4))"
   ]
  },
  {
   "cell_type": "code",
   "execution_count": null,
   "id": "31eda232",
   "metadata": {},
   "outputs": [],
   "source": [
    "#Define steps as well\n",
    "list(range(1,10,2))"
   ]
  },
  {
   "cell_type": "code",
   "execution_count": null,
   "id": "1e242b55",
   "metadata": {},
   "outputs": [],
   "source": [
    "#How can we evaluate 1^2 +2^2+...+10^2?\n",
    "#list(range(1,11))\n",
    "#for i in range (11):\n",
    "    #sum_total=sum_total**2\n",
    "    #print(sum_total)\n",
    "    \n",
    "sum_total=0\n",
    "for i in range(11):# i iterates form 0 to 10\n",
    "    sum_total=sum_total+ i**2\n",
    "    print(sum_total)"
   ]
  },
  {
   "cell_type": "code",
   "execution_count": null,
   "id": "65f6605e",
   "metadata": {},
   "outputs": [],
   "source": [
    "#You can use numpy array as well\n",
    "\n",
    "import numpy as np"
   ]
  },
  {
   "cell_type": "code",
   "execution_count": null,
   "id": "24e6bddb",
   "metadata": {},
   "outputs": [],
   "source": [
    "np.array(range(1,11))"
   ]
  },
  {
   "cell_type": "code",
   "execution_count": null,
   "id": "87ca143b",
   "metadata": {},
   "outputs": [],
   "source": [
    "np.array(range(1,11))**2"
   ]
  },
  {
   "cell_type": "code",
   "execution_count": null,
   "id": "59a87517",
   "metadata": {},
   "outputs": [],
   "source": [
    "np.sum(np.array(range(1,11))**2)"
   ]
  },
  {
   "cell_type": "code",
   "execution_count": null,
   "id": "1977ff10",
   "metadata": {},
   "outputs": [],
   "source": [
    "#list comprehension\n",
    "squares = [number**2 for number in range(1,11)]#number will be the element of the new list"
   ]
  },
  {
   "cell_type": "code",
   "execution_count": null,
   "id": "82c7aecb",
   "metadata": {},
   "outputs": [],
   "source": [
    "squares"
   ]
  },
  {
   "cell_type": "code",
   "execution_count": null,
   "id": "53141d22",
   "metadata": {},
   "outputs": [],
   "source": [
    "sum(squares)"
   ]
  },
  {
   "cell_type": "markdown",
   "id": "bbf1a8f7",
   "metadata": {},
   "source": [
    "# Working with part of the list"
   ]
  },
  {
   "cell_type": "code",
   "execution_count": null,
   "id": "bc0723e1",
   "metadata": {},
   "outputs": [],
   "source": [
    "fall24"
   ]
  },
  {
   "cell_type": "code",
   "execution_count": null,
   "id": "238beb16",
   "metadata": {},
   "outputs": [],
   "source": [
    "fall24.append('EAST213')"
   ]
  },
  {
   "cell_type": "code",
   "execution_count": null,
   "id": "e8722ccb",
   "metadata": {},
   "outputs": [],
   "source": [
    "fall24"
   ]
  },
  {
   "cell_type": "code",
   "execution_count": null,
   "id": "b9cc4950",
   "metadata": {},
   "outputs": [],
   "source": [
    "fall24[0]"
   ]
  },
  {
   "cell_type": "code",
   "execution_count": null,
   "id": "bcb5be57",
   "metadata": {},
   "outputs": [],
   "source": [
    "fall24[0:2] #access elements who indices lie bewteen 0 and 1"
   ]
  },
  {
   "cell_type": "code",
   "execution_count": null,
   "id": "3a5743a5",
   "metadata": {},
   "outputs": [],
   "source": [
    "fall24[:3]#empty space before the double colon means you are subsetting from the index 0"
   ]
  },
  {
   "cell_type": "code",
   "execution_count": null,
   "id": "6d0795bd",
   "metadata": {},
   "outputs": [],
   "source": [
    "fall24[2:]#empty space after the double colon means you are subsetting up to the last index\n"
   ]
  },
  {
   "cell_type": "code",
   "execution_count": null,
   "id": "5810f011",
   "metadata": {},
   "outputs": [],
   "source": [
    "fall24[-1]#last element of the list"
   ]
  },
  {
   "cell_type": "code",
   "execution_count": null,
   "id": "f4215428",
   "metadata": {},
   "outputs": [],
   "source": [
    "fall24[-2:-1]"
   ]
  },
  {
   "cell_type": "code",
   "execution_count": null,
   "id": "b2a38f34",
   "metadata": {},
   "outputs": [],
   "source": [
    "fall24[3:1]#doesn't give any output"
   ]
  },
  {
   "cell_type": "markdown",
   "id": "09baa379",
   "metadata": {},
   "source": [
    "## Retrieve index from list values"
   ]
  },
  {
   "cell_type": "code",
   "execution_count": null,
   "id": "d9d8f039",
   "metadata": {},
   "outputs": [],
   "source": [
    "?fall24.index"
   ]
  },
  {
   "cell_type": "code",
   "execution_count": null,
   "id": "c8f815f7",
   "metadata": {},
   "outputs": [],
   "source": [
    "fall24"
   ]
  },
  {
   "cell_type": "code",
   "execution_count": null,
   "id": "eaeadaf2",
   "metadata": {},
   "outputs": [],
   "source": [
    "fall24.index('Math240')"
   ]
  },
  {
   "cell_type": "code",
   "execution_count": null,
   "id": "fb3c3e3b",
   "metadata": {},
   "outputs": [],
   "source": [
    "fall24.index('Math242')#index of an unexisting element"
   ]
  },
  {
   "cell_type": "markdown",
   "id": "76fecab3",
   "metadata": {},
   "source": [
    "## Boolean varibales to filter list(numpy arrays)"
   ]
  },
  {
   "cell_type": "code",
   "execution_count": null,
   "id": "88221f8d",
   "metadata": {},
   "outputs": [],
   "source": [
    "#what are the boolean varibales? they are True/False"
   ]
  },
  {
   "cell_type": "code",
   "execution_count": null,
   "id": "699a8269",
   "metadata": {},
   "outputs": [],
   "source": [
    "1==2#double equal sign is to hceck whether two values around it are equal"
   ]
  },
  {
   "cell_type": "code",
   "execution_count": null,
   "id": "8a7c1666",
   "metadata": {},
   "outputs": [],
   "source": [
    "1!= 2 #are the two numbers not equal?"
   ]
  },
  {
   "cell_type": "code",
   "execution_count": null,
   "id": "e488e613",
   "metadata": {},
   "outputs": [],
   "source": [
    "1>2"
   ]
  },
  {
   "cell_type": "code",
   "execution_count": null,
   "id": "2f4b1c69",
   "metadata": {},
   "outputs": [],
   "source": [
    "1<=2 #less than equal to"
   ]
  },
  {
   "cell_type": "code",
   "execution_count": null,
   "id": "aeebcfc8",
   "metadata": {},
   "outputs": [],
   "source": [
    "a=np.array([1,2,3,4])\n",
    "b=np.array([1,3,2,4])"
   ]
  },
  {
   "cell_type": "code",
   "execution_count": null,
   "id": "d445ea5a",
   "metadata": {},
   "outputs": [],
   "source": [
    "#boolean operators work element wise for arrays you can use this to filter your arrays\n",
    "a==b"
   ]
  },
  {
   "cell_type": "code",
   "execution_count": null,
   "id": "09a6869f",
   "metadata": {},
   "outputs": [],
   "source": [
    "a[a==b] #we are filtering elements who outcome of the Boolean operation (a==b) is True"
   ]
  },
  {
   "cell_type": "code",
   "execution_count": null,
   "id": "4c5d5d35",
   "metadata": {},
   "outputs": [],
   "source": [
    "list(a[a==b])#convert array to list by using the \"list\"function\n"
   ]
  },
  {
   "cell_type": "code",
   "execution_count": null,
   "id": "551e63a2",
   "metadata": {},
   "outputs": [],
   "source": [
    "#%operator\n",
    "7%3"
   ]
  },
  {
   "cell_type": "code",
   "execution_count": null,
   "id": "575a538a",
   "metadata": {},
   "outputs": [],
   "source": [
    "7%4 #7=4*1 +3"
   ]
  },
  {
   "cell_type": "code",
   "execution_count": null,
   "id": "9b80e8a3",
   "metadata": {},
   "outputs": [],
   "source": [
    "7%2 #7=2*3 +1"
   ]
  },
  {
   "cell_type": "code",
   "execution_count": null,
   "id": "df8cf054",
   "metadata": {},
   "outputs": [],
   "source": [
    "4%2 #4=2*2+0"
   ]
  },
  {
   "cell_type": "code",
   "execution_count": null,
   "id": "9000605a",
   "metadata": {},
   "outputs": [],
   "source": [
    "# % variable is very useful to tell whether a number is divisible by another number"
   ]
  },
  {
   "cell_type": "code",
   "execution_count": null,
   "id": "792ab9c0",
   "metadata": {},
   "outputs": [],
   "source": [
    "#exercise2\n",
    "a=np.array(range(1,101))"
   ]
  },
  {
   "cell_type": "code",
   "execution_count": null,
   "id": "2ede9aad",
   "metadata": {},
   "outputs": [],
   "source": [
    "#create a subarray(sublist)of that contains only the numers divisible by 3,\n",
    "#i.e.[3,6,9,...,99]\n",
    "#hint: the % operator and subsetting technique using boolean operators!\n",
    "\n",
    "a%3 "
   ]
  },
  {
   "cell_type": "code",
   "execution_count": null,
   "id": "1b66b0ac",
   "metadata": {},
   "outputs": [],
   "source": [
    "a%3==0#is the remainder from the division by 3"
   ]
  },
  {
   "cell_type": "code",
   "execution_count": null,
   "id": "cf7b6ca0",
   "metadata": {},
   "outputs": [],
   "source": [
    "a[a%3==0]"
   ]
  },
  {
   "cell_type": "markdown",
   "id": "c3df6332",
   "metadata": {},
   "source": [
    "# Copying a list"
   ]
  },
  {
   "cell_type": "code",
   "execution_count": null,
   "id": "a9a987d9",
   "metadata": {},
   "outputs": [],
   "source": [
    "fall24"
   ]
  },
  {
   "cell_type": "code",
   "execution_count": null,
   "id": "6b54c09c",
   "metadata": {},
   "outputs": [],
   "source": [
    "#assume you'll take the same courses in the winter semester\n",
    "winter24=fall24\n",
    "winter24"
   ]
  },
  {
   "cell_type": "code",
   "execution_count": null,
   "id": "5f02f9aa",
   "metadata": {},
   "outputs": [],
   "source": [
    "#you changed your mind for the fall semester, decided to take COM252 instead of COMP250\n",
    "fall24[2]='COMP252'"
   ]
  },
  {
   "cell_type": "code",
   "execution_count": null,
   "id": "73abe574",
   "metadata": {},
   "outputs": [],
   "source": [
    "fall24"
   ]
  },
  {
   "cell_type": "code",
   "execution_count": null,
   "id": "6000922a",
   "metadata": {},
   "outputs": [],
   "source": [
    "#AM i still taking COMP250 in the winter semester?\n",
    "winter24\n"
   ]
  },
  {
   "cell_type": "code",
   "execution_count": null,
   "id": "03dc6344",
   "metadata": {},
   "outputs": [],
   "source": [
    "#It turns out that fall24 and winter 24 are exactly the same list (with different naming)\n",
    "Then how could we actually make a copy?\n",
    "winter25=fall24[:]\n",
    "winter25"
   ]
  },
  {
   "cell_type": "code",
   "execution_count": null,
   "id": "e248ae30",
   "metadata": {},
   "outputs": [],
   "source": [
    "fall24[2]=\"COMP250\"\n",
    "fall24"
   ]
  },
  {
   "cell_type": "code",
   "execution_count": null,
   "id": "0d7b542c",
   "metadata": {},
   "outputs": [],
   "source": [
    "winter25"
   ]
  },
  {
   "cell_type": "markdown",
   "id": "6cb66f21",
   "metadata": {},
   "source": [
    "# TUPLES"
   ]
  },
  {
   "cell_type": "code",
   "execution_count": null,
   "id": "e2922969",
   "metadata": {},
   "outputs": [],
   "source": [
    "#Tuples are basically lists that are inmutable, \n",
    "#use parentheses instead of brakets to define them"
   ]
  },
  {
   "cell_type": "code",
   "execution_count": null,
   "id": "e259adac",
   "metadata": {},
   "outputs": [],
   "source": [
    "requirements=('Math208', 'Comp250')\n",
    "requirements"
   ]
  },
  {
   "cell_type": "code",
   "execution_count": null,
   "id": "503a137b",
   "metadata": {},
   "outputs": [],
   "source": [
    "requirements[0]='Math240'"
   ]
  },
  {
   "cell_type": "code",
   "execution_count": null,
   "id": "85a894b9",
   "metadata": {},
   "outputs": [],
   "source": [
    "#You can still do similar things on tuple objects that you would do on lists\n",
    "for course in requirements:\n",
    "    print(course)"
   ]
  },
  {
   "cell_type": "code",
   "execution_count": null,
   "id": "725066ba",
   "metadata": {},
   "outputs": [],
   "source": [
    "#If you wnat to modify a tuple onject, you'ill have to reassign every element!\n",
    "requirements=('Math240','COMP250')"
   ]
  },
  {
   "cell_type": "code",
   "execution_count": null,
   "id": "90bf95a1",
   "metadata": {},
   "outputs": [],
   "source": [
    "requirements"
   ]
  },
  {
   "cell_type": "code",
   "execution_count": null,
   "id": "f8568519",
   "metadata": {},
   "outputs": [],
   "source": [
    "Kiwon=['apple','mango','banana','matermelon','pineapple']\n",
    "Andrew=['mango','banada','pineapple','watermelon','apple']\n",
    "#Using for loop, print your fav fruit in order, \"apple is my 1st favorite fruit! \n",
    "#I see that Andrew likes apple as his 5th favorite fruit!\"\n"
   ]
  },
  {
   "cell_type": "markdown",
   "id": "0b1cdf38",
   "metadata": {},
   "source": [
    "# Chapter5"
   ]
  },
  {
   "cell_type": "code",
   "execution_count": null,
   "id": "79283dc5",
   "metadata": {},
   "outputs": [],
   "source": [
    "my_age=18"
   ]
  },
  {
   "cell_type": "code",
   "execution_count": null,
   "id": "d452b721",
   "metadata": {},
   "outputs": [],
   "source": [
    "my_age>18"
   ]
  },
  {
   "cell_type": "code",
   "execution_count": null,
   "id": "26d2b94f",
   "metadata": {},
   "outputs": [],
   "source": [
    "my_age==18"
   ]
  },
  {
   "cell_type": "code",
   "execution_count": null,
   "id": "b580b808",
   "metadata": {},
   "outputs": [],
   "source": [
    "my_age<18"
   ]
  },
  {
   "cell_type": "code",
   "execution_count": null,
   "id": "9ec3f0ba",
   "metadata": {},
   "outputs": [],
   "source": [
    "my_age>17 and my_age <19 #not zero?yes, bc it is true, so chekc the second one as well, yes bc it is true"
   ]
  },
  {
   "cell_type": "code",
   "execution_count": null,
   "id": "91e9187e",
   "metadata": {},
   "outputs": [],
   "source": [
    "my_age<17 and my_age<19"
   ]
  },
  {
   "cell_type": "code",
   "execution_count": null,
   "id": "66cff8a6",
   "metadata": {},
   "outputs": [],
   "source": [
    "#better readibility\n",
    "(my_age>17) and (my_age<19)"
   ]
  },
  {
   "cell_type": "code",
   "execution_count": null,
   "id": "cd0021d2",
   "metadata": {},
   "outputs": [],
   "source": [
    "#in operator : check whether a value is in a list\n",
    "fall24=['MATH208','MATH240','COMP250','PHIL311']"
   ]
  },
  {
   "cell_type": "code",
   "execution_count": null,
   "id": "11fdbd00",
   "metadata": {},
   "outputs": [],
   "source": [
    "#I want to check whether a course name exists in the list\n",
    "'MATH208' in fall24"
   ]
  },
  {
   "cell_type": "code",
   "execution_count": null,
   "id": "e5e4fd4a",
   "metadata": {},
   "outputs": [],
   "source": [
    "\"Math242\" in fall24"
   ]
  },
  {
   "cell_type": "code",
   "execution_count": null,
   "id": "7aa39945",
   "metadata": {},
   "outputs": [],
   "source": [
    "'MATH242' not in fall24 #Is Math242 not in the fall 24 list?"
   ]
  },
  {
   "cell_type": "code",
   "execution_count": null,
   "id": "710d281c",
   "metadata": {},
   "outputs": [],
   "source": [
    "#so the following grammar indeed makes snes!\n",
    "for i in range(10): #increase i from 0 until \"in range(10)\" is true!\n",
    "    #When i reaches 10, it is not\"in range(10)anymore, so we stop the process\n",
    "    print(i)"
   ]
  },
  {
   "cell_type": "markdown",
   "id": "c22c03cd",
   "metadata": {},
   "source": [
    "# IF Statements"
   ]
  },
  {
   "cell_type": "markdown",
   "id": "0b22d5b5",
   "metadata": {},
   "source": [
    "# The basic grammar of the *if* statements is as follows:\n",
    "    if (condition to be tested):\n",
    "        <<do something>>(As long as the condition is TRUE)\n",
    "        "
   ]
  },
  {
   "cell_type": "code",
   "execution_count": null,
   "id": "391a77b5",
   "metadata": {},
   "outputs": [],
   "source": [
    "my_age=20"
   ]
  },
  {
   "cell_type": "code",
   "execution_count": null,
   "id": "4c2108bf",
   "metadata": {},
   "outputs": [],
   "source": [
    "if my_age>18:\n",
    "    print(\"You can drink in Quebec\")#20 is igger than equal to 18, we do the printing"
   ]
  },
  {
   "cell_type": "code",
   "execution_count": null,
   "id": "4483dd3f",
   "metadata": {},
   "outputs": [],
   "source": [
    "if my_age <18:\n",
    "    print(\"You can drink in Quebec\")#The condition (my_age<18) is false, so no print."
   ]
  },
  {
   "cell_type": "markdown",
   "id": "a1e07726",
   "metadata": {},
   "source": [
    "# IF-else statement"
   ]
  },
  {
   "cell_type": "code",
   "execution_count": null,
   "id": "a410cf8b",
   "metadata": {},
   "outputs": [],
   "source": [
    "my_age =18\n",
    "if my_age>=18:\n",
    "    print(\"You may dirnk in Quebec\")\n",
    "else: #if my_age <18:\n",
    "    print(\"You may not dirnk in Quebec!\")"
   ]
  },
  {
   "cell_type": "code",
   "execution_count": null,
   "id": "7ae2f2d8",
   "metadata": {},
   "outputs": [],
   "source": [
    "my_age =15\n",
    "if my_age>=18: \n",
    "    print(\"You may drink in Quebec\")\n",
    "    \n",
    "else:#this will be effective\n",
    "    print(\"You may not drink in Quebec\")"
   ]
  },
  {
   "cell_type": "markdown",
   "id": "251f91ef",
   "metadata": {},
   "source": [
    "# IF-elif-else Chain"
   ]
  },
  {
   "cell_type": "code",
   "execution_count": null,
   "id": "bc2ab099",
   "metadata": {},
   "outputs": [],
   "source": [
    "my_age=20\n",
    "if my_age >=21:\n",
    "    print(\"You may drink in the US!\")\n",
    "elif my_age>=18: #my_age >=18 AND my_age <21\n",
    "    print(\"You may not drink in the US but you cna drink in QC\")\n",
    "else: #my_age <18\n",
    "    print(\"You may not even drink in Quebec!\")"
   ]
  },
  {
   "cell_type": "code",
   "execution_count": null,
   "id": "98eeb767",
   "metadata": {},
   "outputs": [],
   "source": [
    "my_age=30\n",
    "if my_age>=30:\n",
    "    print(\"You may drink everywhere but think of your health!\")\n",
    "if my_age >=21:\n",
    "    print(\"You may drink in the US!\")\n",
    "elif my_age>=18: #my_age >=18 AND my_age <21\n",
    "    print(\"You may not drink in the US but you cna drink in QC\")\n",
    "else: #my_age <18\n",
    "    print(\"You may not even drink in Quebec!\")"
   ]
  },
  {
   "cell_type": "markdown",
   "id": "f7905464",
   "metadata": {},
   "source": [
    "# Exercise\n",
    "Define one input variable, for example"
   ]
  },
  {
   "cell_type": "code",
   "execution_count": null,
   "id": "2b56d9da",
   "metadata": {},
   "outputs": [],
   "source": [
    "a =100"
   ]
  },
  {
   "cell_type": "markdown",
   "id": "095099a4",
   "metadata": {},
   "source": [
    "#wirte code that tells you whether this input is divisible by 2, or 5.\n",
    "Give some message if it is not divisible by any of them.\n",
    "you can give an error messgage if your input is not an integer between 1 and 100.\n"
   ]
  },
  {
   "cell_type": "code",
   "execution_count": null,
   "id": "3005698b",
   "metadata": {},
   "outputs": [],
   "source": [
    "a%2"
   ]
  },
  {
   "cell_type": "code",
   "execution_count": null,
   "id": "9bbbd6ae",
   "metadata": {},
   "outputs": [],
   "source": [
    "if a%5==0:\n",
    "    print(f\"{a} is divisible by 2.\")\n",
    "elif a%3==0:\n",
    "    print(f\"{a} is divisible by 2.\")\n",
    "elif a%2==0:\n",
    "    print(f\"{a} is divisible by 2.\")"
   ]
  },
  {
   "cell_type": "code",
   "execution_count": null,
   "id": "e78abc4d",
   "metadata": {},
   "outputs": [],
   "source": [
    "#version2: check all the three conditions\n",
    "a=11\n",
    "\n",
    "if a%2!=0 and a%3=0 and a%5!=0:\n",
    "    print(\"This number is not great\")\n",
    "else: #so a is divisable by 2,3 or 5\n",
    "    if a%5==0:\n",
    "        print(f\"{a} is divisible by 5.\")\n",
    "    if a%3==0:\n",
    "        print(f\"{a} is divisible by 3.\")\n",
    "    if a%2==0:\n",
    "        print(f\"{a} is divisible by 2.\")"
   ]
  },
  {
   "cell_type": "code",
   "execution_count": null,
   "id": "69f2bcb9",
   "metadata": {},
   "outputs": [],
   "source": [
    "int(2.9) #rounds the number"
   ]
  },
  {
   "cell_type": "code",
   "execution_count": null,
   "id": "d81c3907",
   "metadata": {},
   "outputs": [],
   "source": [
    "int(a)==a #how you can check thwether an input is an interger"
   ]
  },
  {
   "cell_type": "code",
   "execution_count": null,
   "id": "88c8a440",
   "metadata": {},
   "outputs": [],
   "source": [
    "int(2.5)==2.5"
   ]
  },
  {
   "cell_type": "code",
   "execution_count": null,
   "id": "07ea9ab5",
   "metadata": {},
   "outputs": [],
   "source": [
    "a =100\n",
    "a=11\n",
    "a=500\n",
    "if int(a)==a and a>=1 and a<=100:\n",
    "\n",
    "if a%2!=0 and a%3=0 and a%5!=0:\n",
    "    print(\"This number is not great\")\n",
    "else: #so a is divisable by 2,3 or 5\n",
    "    if a%5==0:\n",
    "        print(f\"{a} is divisible by 5.\")\n",
    "    if a%3==0:\n",
    "        print(f\"{a} is divisible by 3.\")\n",
    "    if a%2==0:\n",
    "        print(f\"{a} is divisible by 2.\")\n",
    "else: \n",
    "    print(\"Our input doesn't satisfy\")\n",
    "    print(\"It has to be an integer between 1 and 100\")"
   ]
  },
  {
   "cell_type": "markdown",
   "id": "e33e070d",
   "metadata": {},
   "source": [
    "# Working with lists using the if statement"
   ]
  },
  {
   "cell_type": "code",
   "execution_count": null,
   "id": "2a99c9d4",
   "metadata": {},
   "outputs": [],
   "source": [
    "a=list(range(1,101))"
   ]
  },
  {
   "cell_type": "code",
   "execution_count": null,
   "id": "cdbfebe9",
   "metadata": {},
   "outputs": [],
   "source": [
    "b=[]\n",
    "for number in a : #looping over numbers in the list a from 1 to 100\n",
    "    if number%3 ==0: #if the number is divisible by 3\n",
    "        b.append(number)"
   ]
  },
  {
   "cell_type": "markdown",
   "id": "cb9c17ef",
   "metadata": {},
   "source": [
    "# Working on multiple lists"
   ]
  },
  {
   "cell_type": "code",
   "execution_count": null,
   "id": "c6cd6bb1",
   "metadata": {},
   "outputs": [],
   "source": [
    "fall24"
   ]
  },
  {
   "cell_type": "code",
   "execution_count": null,
   "id": "526a9fd6",
   "metadata": {},
   "outputs": [],
   "source": [
    "fall24_Lee =fall24 [:]\n",
    "fall24_Kim =['MATH208','MATH242','EAST312','COMP250']"
   ]
  },
  {
   "cell_type": "code",
   "execution_count": null,
   "id": "b3ab2ae9",
   "metadata": {},
   "outputs": [],
   "source": [
    "#Goal: print the names of the courses that the two people registered for together!\n",
    "for course in fall24_Lee:\n",
    "    #check if each couse name appears in teh second list:\n",
    "    if course in fall24_Kim:\n",
    "        print(\"Kim and lee will be taking {course} together next semester!\")"
   ]
  },
  {
   "cell_type": "code",
   "execution_count": null,
   "id": "6ea6251a",
   "metadata": {},
   "outputs": [],
   "source": [
    "#How to check whether a list is empty or not:\n",
    "fall24_Lee=[]#creating an empty list\n",
    "if fall24_Lee: #True if the list is not empty\n",
    "    print(f\"I will take {course}next semester!\")\n",
    "          \n",
    "else: #the list is empty\n",
    "          print(\"Are you sure you won;t take any courses?\")"
   ]
  },
  {
   "cell_type": "markdown",
   "id": "a4801b99",
   "metadata": {},
   "source": [
    "# While loop"
   ]
  },
  {
   "cell_type": "code",
   "execution_count": null,
   "id": "7ac7f5d3",
   "metadata": {},
   "outputs": [],
   "source": [
    "#while loop will run as long as a certain condition is true"
   ]
  },
  {
   "cell_type": "code",
   "execution_count": null,
   "id": "81c1d49b",
   "metadata": {},
   "outputs": [],
   "source": [
    "#The basic grammar:\n",
    "while (condition to be tested):\n",
    "    do somthing(as long as the consition is True)\n",
    "    (Go back to the beginning of the while loop)"
   ]
  },
  {
   "cell_type": "code",
   "execution_count": null,
   "id": "6cd4168a",
   "metadata": {},
   "outputs": [],
   "source": [
    "for i in range(1,11):\n",
    "    print(i)"
   ]
  },
  {
   "cell_type": "code",
   "execution_count": null,
   "id": "8c633f4d",
   "metadata": {},
   "outputs": [],
   "source": [
    "iterator = 1\n",
    "while(iterator <=10):\n",
    "    print(iterator)\n",
    "    iterator = iterator + 1\n",
    "    #or you can write down ietrator+=1"
   ]
  },
  {
   "cell_type": "code",
   "execution_count": null,
   "id": "903aded4",
   "metadata": {},
   "outputs": [],
   "source": [
    "iterator"
   ]
  },
  {
   "cell_type": "code",
   "execution_count": null,
   "id": "3fa4bdc9",
   "metadata": {},
   "outputs": [],
   "source": [
    "#while loop can be useful when you don't know when to stop your loop a priori."
   ]
  },
  {
   "cell_type": "markdown",
   "id": "8739603f",
   "metadata": {},
   "source": [
    "# Quitting while loop using \"User input\""
   ]
  },
  {
   "cell_type": "code",
   "execution_count": 1,
   "id": "d0574bfd",
   "metadata": {},
   "outputs": [],
   "source": [
    "?input"
   ]
  },
  {
   "cell_type": "markdown",
   "id": "12f2eb65",
   "metadata": {},
   "source": [
    "input(\"say whatever youw want to say\")"
   ]
  },
  {
   "cell_type": "code",
   "execution_count": 2,
   "id": "0f2c60cc",
   "metadata": {},
   "outputs": [
    {
     "name": "stdout",
     "output_type": "stream",
     "text": [
      "say whatever youw want to say:hello\n"
     ]
    }
   ],
   "source": [
    "message = input(\"say whatever youw want to say:\")"
   ]
  },
  {
   "cell_type": "code",
   "execution_count": 3,
   "id": "b92fd5bb",
   "metadata": {},
   "outputs": [
    {
     "data": {
      "text/plain": [
       "'hello'"
      ]
     },
     "execution_count": 3,
     "metadata": {},
     "output_type": "execute_result"
    }
   ],
   "source": [
    "message"
   ]
  },
  {
   "cell_type": "code",
   "execution_count": null,
   "id": "ef087301",
   "metadata": {},
   "outputs": [
    {
     "name": "stdout",
     "output_type": "stream",
     "text": [
      "Press 'quit' if you want to stop talking\n"
     ]
    }
   ],
   "source": [
    "\n",
    "message=\"\"\n",
    "while(message !=\"quit\"):\n",
    "    print(\"Press 'quit' if you want to stop talking\")\n",
    "    message =input(\"what do you want to eat today?\")\n",
    "    if message !=\"quit\":\n",
    "                print(f\"I want to eat {message}today.\")"
   ]
  },
  {
   "cell_type": "code",
   "execution_count": null,
   "id": "96f99085",
   "metadata": {},
   "outputs": [],
   "source": [
    "number_example =input(\"Give me a number\")"
   ]
  },
  {
   "cell_type": "code",
   "execution_count": null,
   "id": "e2985141",
   "metadata": {},
   "outputs": [],
   "source": [
    "number_example"
   ]
  },
  {
   "cell_type": "code",
   "execution_count": null,
   "id": "df63978f",
   "metadata": {},
   "outputs": [],
   "source": [
    "type(number_example)"
   ]
  },
  {
   "cell_type": "code",
   "execution_count": null,
   "id": "0d4526f9",
   "metadata": {},
   "outputs": [],
   "source": [
    "number_example +3"
   ]
  },
  {
   "cell_type": "code",
   "execution_count": null,
   "id": "d4f5d6eb",
   "metadata": {},
   "outputs": [],
   "source": [
    "number_example_2=interint(input(\"give me a number\"))"
   ]
  },
  {
   "cell_type": "code",
   "execution_count": null,
   "id": "7e630cf8",
   "metadata": {},
   "outputs": [],
   "source": [
    "number_example_2"
   ]
  },
  {
   "cell_type": "code",
   "execution_count": null,
   "id": "0ef9b216",
   "metadata": {},
   "outputs": [],
   "source": [
    "type(Num)"
   ]
  }
 ],
 "metadata": {
  "kernelspec": {
   "display_name": "Python 3 (ipykernel)",
   "language": "python",
   "name": "python3"
  },
  "language_info": {
   "codemirror_mode": {
    "name": "ipython",
    "version": 3
   },
   "file_extension": ".py",
   "mimetype": "text/x-python",
   "name": "python",
   "nbconvert_exporter": "python",
   "pygments_lexer": "ipython3",
   "version": "3.11.5"
  }
 },
 "nbformat": 4,
 "nbformat_minor": 5
}
