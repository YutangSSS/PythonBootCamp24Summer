{
 "cells": [
  {
   "cell_type": "markdown",
   "id": "9e667786",
   "metadata": {},
   "source": [
    "# List"
   ]
  },
  {
   "cell_type": "markdown",
   "id": "aa980244",
   "metadata": {},
   "source": [
    "# A list is\n",
    "- a collection of items\n",
    "- in a \"particular\" order"
   ]
  },
  {
   "cell_type": "code",
   "execution_count": 2,
   "id": "9819889d",
   "metadata": {},
   "outputs": [
    {
     "data": {
      "text/plain": [
       "['Math208', 'Math240', 'COMP250', 'PHIL311']"
      ]
     },
     "execution_count": 2,
     "metadata": {},
     "output_type": "execute_result"
    }
   ],
   "source": [
    "#Create a list\n",
    "fall24 =['Math208','Math240','COMP250','PHIL311']#Use comma to separate different elements\n",
    "fall24"
   ]
  },
  {
   "cell_type": "code",
   "execution_count": 3,
   "id": "b309caab",
   "metadata": {},
   "outputs": [],
   "source": [
    "#You can also create an empty list\n",
    "winter25=[]#don't add anything inside your bracket"
   ]
  },
  {
   "cell_type": "code",
   "execution_count": 4,
   "id": "bd1ce866",
   "metadata": {},
   "outputs": [],
   "source": [
    "#Keep in mind a list is an \"ordered\" collection of items, each of list has its position number or \"index\""
   ]
  },
  {
   "cell_type": "code",
   "execution_count": 5,
   "id": "9f694d75",
   "metadata": {},
   "outputs": [
    {
     "data": {
      "text/plain": [
       "'Math240'"
      ]
     },
     "execution_count": 5,
     "metadata": {},
     "output_type": "execute_result"
    }
   ],
   "source": [
    "fall24[1]"
   ]
  },
  {
   "cell_type": "code",
   "execution_count": 6,
   "id": "abfbb961",
   "metadata": {},
   "outputs": [
    {
     "data": {
      "text/plain": [
       "'Math208'"
      ]
     },
     "execution_count": 6,
     "metadata": {},
     "output_type": "execute_result"
    }
   ],
   "source": [
    "fall24[0]"
   ]
  },
  {
   "cell_type": "code",
   "execution_count": 7,
   "id": "7f1d5383",
   "metadata": {},
   "outputs": [
    {
     "data": {
      "text/plain": [
       "'PHIL311'"
      ]
     },
     "execution_count": 7,
     "metadata": {},
     "output_type": "execute_result"
    }
   ],
   "source": [
    "fall24[3]"
   ]
  },
  {
   "cell_type": "code",
   "execution_count": 9,
   "id": "3d57bf85",
   "metadata": {},
   "outputs": [
    {
     "data": {
      "text/plain": [
       "'PHIL311'"
      ]
     },
     "execution_count": 9,
     "metadata": {},
     "output_type": "execute_result"
    }
   ],
   "source": [
    "fall24[-1]#the very last element"
   ]
  },
  {
   "cell_type": "code",
   "execution_count": 10,
   "id": "f2d5a7fe",
   "metadata": {},
   "outputs": [
    {
     "data": {
      "text/plain": [
       "'COMP250'"
      ]
     },
     "execution_count": 10,
     "metadata": {},
     "output_type": "execute_result"
    }
   ],
   "source": [
    "fall24[-2]"
   ]
  },
  {
   "cell_type": "code",
   "execution_count": 11,
   "id": "9bd29f8b",
   "metadata": {},
   "outputs": [],
   "source": [
    "##Manipulate te list"
   ]
  },
  {
   "cell_type": "code",
   "execution_count": 12,
   "id": "3cd0202d",
   "metadata": {},
   "outputs": [
    {
     "data": {
      "text/plain": [
       "['Math208', 'Math240', 'COMP250', 'PHIL311']"
      ]
     },
     "execution_count": 12,
     "metadata": {},
     "output_type": "execute_result"
    }
   ],
   "source": [
    "fall24"
   ]
  },
  {
   "cell_type": "code",
   "execution_count": 14,
   "id": "eed7b54f",
   "metadata": {},
   "outputs": [],
   "source": [
    "#Modify an element?\n",
    "#For example, how could we replace Math240 with Math242?\n",
    "fall24[1]='Math242'"
   ]
  },
  {
   "cell_type": "code",
   "execution_count": 15,
   "id": "aa1f0582",
   "metadata": {},
   "outputs": [
    {
     "data": {
      "text/plain": [
       "['Math208', 'Math242', 'COMP250', 'PHIL311']"
      ]
     },
     "execution_count": 15,
     "metadata": {},
     "output_type": "execute_result"
    }
   ],
   "source": [
    "fall24"
   ]
  },
  {
   "cell_type": "code",
   "execution_count": 17,
   "id": "1f202dc5",
   "metadata": {},
   "outputs": [],
   "source": [
    "#Now to add an element\n",
    "fall24.append(\"East213\")#Append an element at the end of the list"
   ]
  },
  {
   "cell_type": "code",
   "execution_count": 18,
   "id": "a10ba3f4",
   "metadata": {},
   "outputs": [
    {
     "data": {
      "text/plain": [
       "['Math208', 'Math242', 'COMP250', 'PHIL311', 'East213']"
      ]
     },
     "execution_count": 18,
     "metadata": {},
     "output_type": "execute_result"
    }
   ],
   "source": [
    "fall24"
   ]
  },
  {
   "cell_type": "code",
   "execution_count": 21,
   "id": "94712191",
   "metadata": {},
   "outputs": [
    {
     "data": {
      "text/plain": [
       "['Math240']"
      ]
     },
     "execution_count": 21,
     "metadata": {},
     "output_type": "execute_result"
    }
   ],
   "source": [
    "winter25.append('Math240')\n",
    "winter25"
   ]
  },
  {
   "cell_type": "markdown",
   "id": "da2a6d3e",
   "metadata": {},
   "source": [
    "# How to add an elemnet at any posistion in the list?\n"
   ]
  },
  {
   "cell_type": "code",
   "execution_count": 24,
   "id": "c2b66849",
   "metadata": {},
   "outputs": [],
   "source": [
    "?fall24.insert"
   ]
  },
  {
   "cell_type": "code",
   "execution_count": 25,
   "id": "90b41710",
   "metadata": {},
   "outputs": [],
   "source": [
    "fall24.insert(1,'PHYS242')"
   ]
  },
  {
   "cell_type": "code",
   "execution_count": 26,
   "id": "938012a6",
   "metadata": {},
   "outputs": [
    {
     "data": {
      "text/plain": [
       "['Math208', 'PHYS242', 'PHYS242', 'Math242', 'COMP250', 'PHIL311', 'East213']"
      ]
     },
     "execution_count": 26,
     "metadata": {},
     "output_type": "execute_result"
    }
   ],
   "source": [
    "fall24"
   ]
  },
  {
   "cell_type": "markdown",
   "id": "727dd509",
   "metadata": {},
   "source": [
    "## How to remove element"
   ]
  },
  {
   "cell_type": "code",
   "execution_count": 28,
   "id": "4264b1f1",
   "metadata": {},
   "outputs": [],
   "source": [
    "#1. del\n",
    "del fall24[1]"
   ]
  },
  {
   "cell_type": "code",
   "execution_count": 29,
   "id": "70f87c3c",
   "metadata": {},
   "outputs": [
    {
     "data": {
      "text/plain": [
       "['Math208', 'PHYS242', 'Math242', 'COMP250', 'PHIL311', 'East213']"
      ]
     },
     "execution_count": 29,
     "metadata": {},
     "output_type": "execute_result"
    }
   ],
   "source": [
    "fall24"
   ]
  },
  {
   "cell_type": "code",
   "execution_count": 31,
   "id": "9512bdbe",
   "metadata": {},
   "outputs": [
    {
     "data": {
      "text/plain": [
       "'East213'"
      ]
     },
     "execution_count": 31,
     "metadata": {},
     "output_type": "execute_result"
    }
   ],
   "source": [
    "#2.pop\n",
    "fall24.pop()"
   ]
  },
  {
   "cell_type": "code",
   "execution_count": 32,
   "id": "8ebda654",
   "metadata": {},
   "outputs": [
    {
     "data": {
      "text/plain": [
       "['Math208', 'PHYS242', 'Math242', 'COMP250', 'PHIL311']"
      ]
     },
     "execution_count": 32,
     "metadata": {},
     "output_type": "execute_result"
    }
   ],
   "source": [
    "fall24"
   ]
  },
  {
   "cell_type": "code",
   "execution_count": 33,
   "id": "8ca7f52e",
   "metadata": {},
   "outputs": [],
   "source": [
    "?fall24.pop"
   ]
  },
  {
   "cell_type": "code",
   "execution_count": 39,
   "id": "d3e82297",
   "metadata": {},
   "outputs": [
    {
     "data": {
      "text/plain": [
       "'COMP250'"
      ]
     },
     "execution_count": 39,
     "metadata": {},
     "output_type": "execute_result"
    }
   ],
   "source": [
    "fall24.pop(1) #specify an index of the element that you want to remove"
   ]
  },
  {
   "cell_type": "code",
   "execution_count": 40,
   "id": "2b538ae2",
   "metadata": {},
   "outputs": [
    {
     "data": {
      "text/plain": [
       "['Math242', 'PHIL311']"
      ]
     },
     "execution_count": 40,
     "metadata": {},
     "output_type": "execute_result"
    }
   ],
   "source": [
    "fall24"
   ]
  },
  {
   "cell_type": "code",
   "execution_count": 44,
   "id": "b47b8643",
   "metadata": {},
   "outputs": [],
   "source": [
    "winter25=['math240','math242','math240']"
   ]
  },
  {
   "cell_type": "code",
   "execution_count": 45,
   "id": "d3d6df70",
   "metadata": {},
   "outputs": [
    {
     "data": {
      "text/plain": [
       "['math240', 'math242', 'math240']"
      ]
     },
     "execution_count": 45,
     "metadata": {},
     "output_type": "execute_result"
    }
   ],
   "source": [
    "winter25"
   ]
  },
  {
   "cell_type": "code",
   "execution_count": 47,
   "id": "1b4d4304",
   "metadata": {},
   "outputs": [],
   "source": [
    "winter25.remove('math240')"
   ]
  },
  {
   "cell_type": "code",
   "execution_count": 48,
   "id": "a612750e",
   "metadata": {},
   "outputs": [
    {
     "data": {
      "text/plain": [
       "['math242', 'math240']"
      ]
     },
     "execution_count": 48,
     "metadata": {},
     "output_type": "execute_result"
    }
   ],
   "source": [
    "winter25 #Math240=index=0"
   ]
  },
  {
   "cell_type": "markdown",
   "id": "7bc66108",
   "metadata": {},
   "source": [
    "# Sorting lists"
   ]
  },
  {
   "cell_type": "code",
   "execution_count": 49,
   "id": "6c7c75b8",
   "metadata": {},
   "outputs": [
    {
     "data": {
      "text/plain": [
       "['Math242', 'PHIL311']"
      ]
     },
     "execution_count": 49,
     "metadata": {},
     "output_type": "execute_result"
    }
   ],
   "source": [
    "fall24"
   ]
  },
  {
   "cell_type": "code",
   "execution_count": 50,
   "id": "c8cbefc9",
   "metadata": {},
   "outputs": [],
   "source": [
    "?fall24.sort"
   ]
  },
  {
   "cell_type": "code",
   "execution_count": 52,
   "id": "3f9ed169",
   "metadata": {},
   "outputs": [],
   "source": [
    "fall24.sort()"
   ]
  },
  {
   "cell_type": "code",
   "execution_count": 53,
   "id": "a3549e11",
   "metadata": {},
   "outputs": [
    {
     "data": {
      "text/plain": [
       "['Math242', 'PHIL311']"
      ]
     },
     "execution_count": 53,
     "metadata": {},
     "output_type": "execute_result"
    }
   ],
   "source": [
    "fall24"
   ]
  },
  {
   "cell_type": "code",
   "execution_count": 57,
   "id": "54bd27c2",
   "metadata": {},
   "outputs": [],
   "source": [
    "fall24=['Math208', 'PHYS242', 'Math242', 'COMP250', 'PHIL311']#\"sorted function won't change the original list unlike the \"sort\""
   ]
  },
  {
   "cell_type": "code",
   "execution_count": 58,
   "id": "98700988",
   "metadata": {},
   "outputs": [
    {
     "data": {
      "text/plain": [
       "['COMP250', 'Math208', 'Math242', 'PHIL311', 'PHYS242']"
      ]
     },
     "execution_count": 58,
     "metadata": {},
     "output_type": "execute_result"
    }
   ],
   "source": [
    "sorted(fall24)"
   ]
  },
  {
   "cell_type": "code",
   "execution_count": 59,
   "id": "7c4a427a",
   "metadata": {},
   "outputs": [
    {
     "data": {
      "text/plain": [
       "['Math208', 'PHYS242', 'Math242', 'COMP250', 'PHIL311']"
      ]
     },
     "execution_count": 59,
     "metadata": {},
     "output_type": "execute_result"
    }
   ],
   "source": [
    "fall24"
   ]
  },
  {
   "cell_type": "code",
   "execution_count": 60,
   "id": "55f7d787",
   "metadata": {},
   "outputs": [],
   "source": [
    "#reverse order\n",
    "fall24.reverse()"
   ]
  },
  {
   "cell_type": "code",
   "execution_count": 61,
   "id": "ae19076c",
   "metadata": {},
   "outputs": [
    {
     "data": {
      "text/plain": [
       "['PHIL311', 'COMP250', 'Math242', 'PHYS242', 'Math208']"
      ]
     },
     "execution_count": 61,
     "metadata": {},
     "output_type": "execute_result"
    }
   ],
   "source": [
    "fall24"
   ]
  },
  {
   "cell_type": "code",
   "execution_count": 63,
   "id": "6372c456",
   "metadata": {},
   "outputs": [
    {
     "data": {
      "text/plain": [
       "5"
      ]
     },
     "execution_count": 63,
     "metadata": {},
     "output_type": "execute_result"
    }
   ],
   "source": [
    "#finding the length of a list \n",
    "len(fall24)"
   ]
  },
  {
   "cell_type": "code",
   "execution_count": null,
   "id": "190161f0",
   "metadata": {},
   "outputs": [],
   "source": []
  }
 ],
 "metadata": {
  "kernelspec": {
   "display_name": "Python 3 (ipykernel)",
   "language": "python",
   "name": "python3"
  },
  "language_info": {
   "codemirror_mode": {
    "name": "ipython",
    "version": 3
   },
   "file_extension": ".py",
   "mimetype": "text/x-python",
   "name": "python",
   "nbconvert_exporter": "python",
   "pygments_lexer": "ipython3",
   "version": "3.11.5"
  }
 },
 "nbformat": 4,
 "nbformat_minor": 5
}
