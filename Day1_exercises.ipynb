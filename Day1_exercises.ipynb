{
 "cells": [
  {
   "cell_type": "markdown",
   "id": "08c009f9",
   "metadata": {},
   "source": [
    "# Exercise problems\n",
    "Montreal is known for its good public transportation system, especially the metro. Let us make a list named \"STM_metro\" that contains the following names of some metro stations:\n",
    "\"McGill\", \"Prefontaine\", \"Berry_UQAM\", \"Mont_Royal\", \"Lionel_Groux\"\n",
    "\n",
    "Create such a list.\n",
    "In the list, we found a typo; replace \"Berry_UQAM\" by \"Berri_UQAM\".\n",
    "\"Mont_Royal\" is the only metro station that is not on the green line. Use one of the functions we learned in class, save \"Mont_Royal\" in a variable named \"not_on_green_line\" and \"STM_metro\" now should contain the other four stations in it.\n",
    "Add \"Peel\" station at the end of the list.\n",
    "Add \"Angrignon\" station between \"Prefontaine\" and \"Berry_UQAM\"; so after having finished all the exercise problems so far, your list has to look like the following:\n",
    "McGill, Prefontaine, Angrignon, Berri_UQAM, Lionel_Groux, Peel\n",
    "\n",
    "If you take the green line metro on a daily basis, you must have realized that the station names are not ordered like the real order of the metro stations. More specifically, it should be:\n",
    "[\"Angriognon\", \"Lionel_Groux\", \"Peel\", \"McGill\", \"Berri_UQAM\", \"Prefontaine\"]\n",
    "\n",
    "What would be the easiest way of creating such list from \"STM_metro\" without literally typing the station names all again?"
   ]
  },
  {
   "cell_type": "code",
   "execution_count": 11,
   "id": "30fcc2b5",
   "metadata": {},
   "outputs": [],
   "source": [
    "STM_metro=[\"McGill\", \"Prefontaine\", \"Berry_UQAM\", \"Mont_Royal\", \"Lionel_Groux\"]"
   ]
  },
  {
   "cell_type": "code",
   "execution_count": 12,
   "id": "3498a928",
   "metadata": {},
   "outputs": [],
   "source": [
    "STM_metro[2]='Berri_UQAM'"
   ]
  },
  {
   "cell_type": "code",
   "execution_count": 13,
   "id": "1881a187",
   "metadata": {},
   "outputs": [
    {
     "data": {
      "text/plain": [
       "['McGill', 'Prefontaine', 'Berri_UQAM', 'Mont_Royal', 'Lionel_Groux']"
      ]
     },
     "execution_count": 13,
     "metadata": {},
     "output_type": "execute_result"
    }
   ],
   "source": [
    "STM_metro"
   ]
  },
  {
   "cell_type": "code",
   "execution_count": 14,
   "id": "788fa5c8",
   "metadata": {},
   "outputs": [],
   "source": [
    "not_on_green_line = 'Mont_Royal'"
   ]
  },
  {
   "cell_type": "code",
   "execution_count": 19,
   "id": "0218d3fa",
   "metadata": {},
   "outputs": [],
   "source": [
    "not_on_green_line = STM_metro.pop(3)\n",
    "#Remove 'mont_Royal' from the list and also svaing it into a new variable\"not_on the green line\""
   ]
  },
  {
   "cell_type": "code",
   "execution_count": 20,
   "id": "291130e0",
   "metadata": {},
   "outputs": [
    {
     "data": {
      "text/plain": [
       "['McGill', 'Prefontaine', 'Berri_UQAM', 'Lionel_Groux']"
      ]
     },
     "execution_count": 20,
     "metadata": {},
     "output_type": "execute_result"
    }
   ],
   "source": [
    "STM_metro\n"
   ]
  },
  {
   "cell_type": "code",
   "execution_count": 23,
   "id": "b5f64baa",
   "metadata": {},
   "outputs": [],
   "source": [
    "STM_metro.append('Peel')"
   ]
  },
  {
   "cell_type": "code",
   "execution_count": 22,
   "id": "4b7811c9",
   "metadata": {},
   "outputs": [
    {
     "data": {
      "text/plain": [
       "['McGill', 'Prefontaine', 'Berri_UQAM', 'Peel', 'Lionel_Groux']"
      ]
     },
     "execution_count": 22,
     "metadata": {},
     "output_type": "execute_result"
    }
   ],
   "source": [
    "STM_metro"
   ]
  },
  {
   "cell_type": "code",
   "execution_count": 24,
   "id": "9ba4a3a7",
   "metadata": {},
   "outputs": [],
   "source": [
    "STM_metro.insert(2,'Angrignon')"
   ]
  },
  {
   "cell_type": "code",
   "execution_count": 25,
   "id": "b0e0759f",
   "metadata": {},
   "outputs": [
    {
     "data": {
      "text/plain": [
       "['McGill',\n",
       " 'Prefontaine',\n",
       " 'Angrignon',\n",
       " 'Berri_UQAM',\n",
       " 'Peel',\n",
       " 'Lionel_Groux',\n",
       " 'Peel']"
      ]
     },
     "execution_count": 25,
     "metadata": {},
     "output_type": "execute_result"
    }
   ],
   "source": [
    "STM_metro"
   ]
  },
  {
   "cell_type": "code",
   "execution_count": 26,
   "id": "4e49582b",
   "metadata": {},
   "outputs": [],
   "source": [
    "#Dont' do this! \n",
    "#Use STM_metro list to create STM_metro_sorted, but without typing metro station out\n",
    "STM_metro_sorted=['Angrignon']"
   ]
  },
  {
   "cell_type": "code",
   "execution_count": 28,
   "id": "a1eb619d",
   "metadata": {},
   "outputs": [
    {
     "data": {
      "text/plain": [
       "'Angrignon'"
      ]
     },
     "execution_count": 28,
     "metadata": {},
     "output_type": "execute_result"
    }
   ],
   "source": [
    "#Method 1: use pop function\n",
    "STM_metro_sorted=[]#empty list\n",
    "STM_metro.pop(2)#pop Angrignon"
   ]
  },
  {
   "cell_type": "code",
   "execution_count": 29,
   "id": "170bc7aa",
   "metadata": {},
   "outputs": [
    {
     "data": {
      "text/plain": [
       "['Angrignon']"
      ]
     },
     "execution_count": 29,
     "metadata": {},
     "output_type": "execute_result"
    }
   ],
   "source": [
    "STM_metro_sorted"
   ]
  },
  {
   "cell_type": "code",
   "execution_count": 30,
   "id": "d595cced",
   "metadata": {},
   "outputs": [
    {
     "data": {
      "text/plain": [
       "['McGill', 'Prefontaine', 'Berri_UQAM', 'Peel', 'Lionel_Groux']"
      ]
     },
     "execution_count": 30,
     "metadata": {},
     "output_type": "execute_result"
    }
   ],
   "source": [
    "STM_metro"
   ]
  },
  {
   "cell_type": "code",
   "execution_count": 33,
   "id": "7e49aa31",
   "metadata": {},
   "outputs": [],
   "source": [
    "STM_metro_sorted.append(STM_metro.pop(3))#lionel Groux"
   ]
  },
  {
   "cell_type": "code",
   "execution_count": 34,
   "id": "0c5b59be",
   "metadata": {},
   "outputs": [
    {
     "data": {
      "text/plain": [
       "['McGill', 'Prefontaine', 'Berri_UQAM']"
      ]
     },
     "execution_count": 34,
     "metadata": {},
     "output_type": "execute_result"
    }
   ],
   "source": [
    "STM_metro"
   ]
  },
  {
   "cell_type": "code",
   "execution_count": 35,
   "id": "ef97c1d2",
   "metadata": {},
   "outputs": [
    {
     "data": {
      "text/plain": [
       "['Angrignon', 'Peel', 'Lionel_Groux']"
      ]
     },
     "execution_count": 35,
     "metadata": {},
     "output_type": "execute_result"
    }
   ],
   "source": [
    "STM_metro_sorted"
   ]
  },
  {
   "cell_type": "code",
   "execution_count": 36,
   "id": "ed5eda56",
   "metadata": {},
   "outputs": [],
   "source": [
    "#2. use the indices of each element of the STM_metro list\n",
    "STM_metro=['McGill', 'Prefontaine', 'Berri_UQAM', 'Peel', 'Lionel_Groux']\n"
   ]
  },
  {
   "cell_type": "code",
   "execution_count": 37,
   "id": "793f205e",
   "metadata": {},
   "outputs": [
    {
     "data": {
      "text/plain": [
       "'McGill'"
      ]
     },
     "execution_count": 37,
     "metadata": {},
     "output_type": "execute_result"
    }
   ],
   "source": [
    "STM_metro[0]"
   ]
  },
  {
   "cell_type": "code",
   "execution_count": 38,
   "id": "33510a52",
   "metadata": {},
   "outputs": [],
   "source": [
    "STM_metro_sorted=[STM_metro[2],]"
   ]
  },
  {
   "cell_type": "code",
   "execution_count": 39,
   "id": "72faeb37",
   "metadata": {},
   "outputs": [],
   "source": [
    "#Zipping"
   ]
  },
  {
   "cell_type": "code",
   "execution_count": 41,
   "id": "3d7eff8e",
   "metadata": {},
   "outputs": [],
   "source": [
    "STM_metro=['McGill', 'Prefontaine', 'Angrignon','Berri_UQAM', 'Peel', 'Lionel_Groux']"
   ]
  },
  {
   "cell_type": "code",
   "execution_count": 44,
   "id": "29612e97",
   "metadata": {},
   "outputs": [],
   "source": [
    "specific_order=[4,5,1,6,2,3]\n"
   ]
  },
  {
   "cell_type": "code",
   "execution_count": 45,
   "id": "1f57d6a2",
   "metadata": {},
   "outputs": [
    {
     "data": {
      "text/plain": [
       "[(4, 'McGill'),\n",
       " (5, 'Prefontaine'),\n",
       " (1, 'Angrignon'),\n",
       " (6, 'Berri_UQAM'),\n",
       " (2, 'Peel'),\n",
       " (3, 'Lionel_Groux')]"
      ]
     },
     "execution_count": 45,
     "metadata": {},
     "output_type": "execute_result"
    }
   ],
   "source": [
    "list(zip(specific_order,STM_metro))"
   ]
  },
  {
   "cell_type": "code",
   "execution_count": 46,
   "id": "80ac68ca",
   "metadata": {},
   "outputs": [
    {
     "data": {
      "text/plain": [
       "[(1, 'Angrignon'),\n",
       " (2, 'Peel'),\n",
       " (3, 'Lionel_Groux'),\n",
       " (4, 'McGill'),\n",
       " (5, 'Prefontaine'),\n",
       " (6, 'Berri_UQAM')]"
      ]
     },
     "execution_count": 46,
     "metadata": {},
     "output_type": "execute_result"
    }
   ],
   "source": [
    "sorted(list(zip(specific_order,STM_metro)))"
   ]
  },
  {
   "cell_type": "code",
   "execution_count": 47,
   "id": "0c41d98e",
   "metadata": {},
   "outputs": [
    {
     "data": {
      "text/plain": [
       "['Angrignon', 'Peel', 'Lionel_Groux', 'McGill', 'Prefontaine', 'Berri_UQAM']"
      ]
     },
     "execution_count": 47,
     "metadata": {},
     "output_type": "execute_result"
    }
   ],
   "source": [
    "[y for x,y in sorted(list(zip(specific_order,STM_metro)))]"
   ]
  },
  {
   "cell_type": "code",
   "execution_count": null,
   "id": "6a58c300",
   "metadata": {},
   "outputs": [],
   "source": []
  }
 ],
 "metadata": {
  "kernelspec": {
   "display_name": "Python 3 (ipykernel)",
   "language": "python",
   "name": "python3"
  },
  "language_info": {
   "codemirror_mode": {
    "name": "ipython",
    "version": 3
   },
   "file_extension": ".py",
   "mimetype": "text/x-python",
   "name": "python",
   "nbconvert_exporter": "python",
   "pygments_lexer": "ipython3",
   "version": "3.11.5"
  }
 },
 "nbformat": 4,
 "nbformat_minor": 5
}
