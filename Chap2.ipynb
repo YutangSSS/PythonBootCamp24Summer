{
 "cells": [
  {
   "cell_type": "markdown",
   "id": "a97d613b",
   "metadata": {},
   "source": [
    "#Variables"
   ]
  },
  {
   "cell_type": "code",
   "execution_count": 1,
   "id": "a449488d",
   "metadata": {},
   "outputs": [],
   "source": [
    "#Diifferent typs of data in python ,how to use variables to reprent data in Python"
   ]
  },
  {
   "cell_type": "code",
   "execution_count": 3,
   "id": "086e635f",
   "metadata": {},
   "outputs": [],
   "source": [
    "mymajor=\"Mathematics\""
   ]
  },
  {
   "cell_type": "code",
   "execution_count": 4,
   "id": "dfbb09cf",
   "metadata": {},
   "outputs": [
    {
     "name": "stdout",
     "output_type": "stream",
     "text": [
      "Mathematics\n"
     ]
    }
   ],
   "source": [
    "print(mymajor)"
   ]
  },
  {
   "cell_type": "markdown",
   "id": "c80f77b6",
   "metadata": {},
   "source": [
    "## what are we seeing?\n",
    "1. we are saving *string\"math\" to a variable names my major using the qual sign\n",
    "printing \"my major inside the paretheses(), where we put\"argument as input variables"
   ]
  },
  {
   "cell_type": "code",
   "execution_count": 6,
   "id": "f4214abe",
   "metadata": {},
   "outputs": [
    {
     "data": {
      "text/plain": [
       "'Mathematics'"
      ]
     },
     "execution_count": 6,
     "metadata": {},
     "output_type": "execute_result"
    }
   ],
   "source": [
    "mymajor #you cna type varibale name to see its value"
   ]
  },
  {
   "cell_type": "code",
   "execution_count": 7,
   "id": "cb71b32a",
   "metadata": {},
   "outputs": [],
   "source": [
    "your_friends_major =\"math\""
   ]
  },
  {
   "cell_type": "code",
   "execution_count": 11,
   "id": "316c9863",
   "metadata": {},
   "outputs": [
    {
     "data": {
      "text/plain": [
       "('Mathematics', 'math')"
      ]
     },
     "execution_count": 11,
     "metadata": {},
     "output_type": "execute_result"
    }
   ],
   "source": [
    "#print two variables simultaneously by using comma\n",
    "mymajor, your_friends_major"
   ]
  },
  {
   "cell_type": "code",
   "execution_count": 12,
   "id": "497d4184",
   "metadata": {},
   "outputs": [],
   "source": [
    "mymajor, your_friends_major =\"chemistry\",\"chemistry\""
   ]
  },
  {
   "cell_type": "code",
   "execution_count": 13,
   "id": "a7e97bc3",
   "metadata": {},
   "outputs": [
    {
     "data": {
      "text/plain": [
       "('chemistry', 'chemistry')"
      ]
     },
     "execution_count": 13,
     "metadata": {},
     "output_type": "execute_result"
    }
   ],
   "source": [
    "mymajor, your_friends_major #these parethesis mean a\" tuple\" onject, which we will learn in next few days"
   ]
  },
  {
   "cell_type": "code",
   "execution_count": 16,
   "id": "f6a2cfe0",
   "metadata": {},
   "outputs": [
    {
     "ename": "NameError",
     "evalue": "name 'myminor' is not defined",
     "output_type": "error",
     "traceback": [
      "\u001b[0;31m---------------------------------------------------------------------------\u001b[0m",
      "\u001b[0;31mNameError\u001b[0m                                 Traceback (most recent call last)",
      "Cell \u001b[0;32mIn[16], line 2\u001b[0m\n\u001b[1;32m      1\u001b[0m \u001b[38;5;66;03m#what happens if we use a different variable variable name that is not defined yet?\u001b[39;00m\n\u001b[0;32m----> 2\u001b[0m myminor\n",
      "\u001b[0;31mNameError\u001b[0m: name 'myminor' is not defined"
     ]
    }
   ],
   "source": [
    "#what happens if we use a different variable variable name that is not defined yet?\n",
    "myminor"
   ]
  },
  {
   "cell_type": "code",
   "execution_count": null,
   "id": "eab5ba28",
   "metadata": {},
   "outputs": [],
   "source": [
    "#Traceback halpes you identify the eooro you ade, \"NameError\" indicates that there's an error in your varibale name"
   ]
  },
  {
   "cell_type": "markdown",
   "id": "859126b8",
   "metadata": {},
   "source": [
    "# A few guidelines for naming and using variables\n",
    "- Variabels names can contain only ** letters, numbers, and underscore\" they can start with a letter or an underscore, but not a number\n",
    "- Spaces are not allowed in you rvaribale names, but underscores cna be used to separate words in variable names\n",
    "- Avoid using Python fuction names and keywords \n",
    "- Variable names should be short and descriptive something people can easy to understand and read\n",
    "- Lower case number \"l\" vs number1: capital\"0\" vs Arabic number 0\n",
    "- Default is using lowercase for varibale names; capitals are reserved for special cases such as classes we will elanr later."
   ]
  },
  {
   "cell_type": "code",
   "execution_count": 17,
   "id": "7f1f3893",
   "metadata": {},
   "outputs": [
    {
     "data": {
      "text/plain": [
       "'Mathematics'"
      ]
     },
     "execution_count": 17,
     "metadata": {},
     "output_type": "execute_result"
    }
   ],
   "source": [
    "mymajor_1=\"Mathematics\"\n",
    "mymajor_1"
   ]
  },
  {
   "cell_type": "code",
   "execution_count": 18,
   "id": "3acab671",
   "metadata": {},
   "outputs": [
    {
     "ename": "SyntaxError",
     "evalue": "invalid decimal literal (2842859909.py, line 1)",
     "output_type": "error",
     "traceback": [
      "\u001b[0;36m  Cell \u001b[0;32mIn[18], line 1\u001b[0;36m\u001b[0m\n\u001b[0;31m    1_mymajor=\"Mathematics\"\u001b[0m\n\u001b[0m     ^\u001b[0m\n\u001b[0;31mSyntaxError\u001b[0m\u001b[0;31m:\u001b[0m invalid decimal literal\n"
     ]
    }
   ],
   "source": [
    "1_mymajor=\"Mathematics\""
   ]
  },
  {
   "cell_type": "code",
   "execution_count": 19,
   "id": "69bc953c",
   "metadata": {},
   "outputs": [
    {
     "ename": "SyntaxError",
     "evalue": "invalid syntax (4163882196.py, line 1)",
     "output_type": "error",
     "traceback": [
      "\u001b[0;36m  Cell \u001b[0;32mIn[19], line 1\u001b[0;36m\u001b[0m\n\u001b[0;31m    my major=\"Mathematics\"\u001b[0m\n\u001b[0m       ^\u001b[0m\n\u001b[0;31mSyntaxError\u001b[0m\u001b[0;31m:\u001b[0m invalid syntax\n"
     ]
    }
   ],
   "source": [
    "my major=\"Mathematics\""
   ]
  },
  {
   "cell_type": "code",
   "execution_count": 20,
   "id": "5818775f",
   "metadata": {},
   "outputs": [],
   "source": [
    "print=\" Does this actually work?\"#here our print fuction lost its job and became another varibale "
   ]
  },
  {
   "cell_type": "code",
   "execution_count": 21,
   "id": "5786ae49",
   "metadata": {},
   "outputs": [
    {
     "ename": "TypeError",
     "evalue": "'str' object is not callable",
     "output_type": "error",
     "traceback": [
      "\u001b[0;31m---------------------------------------------------------------------------\u001b[0m",
      "\u001b[0;31mTypeError\u001b[0m                                 Traceback (most recent call last)",
      "Cell \u001b[0;32mIn[21], line 1\u001b[0m\n\u001b[0;32m----> 1\u001b[0m \u001b[38;5;28mprint\u001b[39m(\u001b[38;5;124m\"\u001b[39m\u001b[38;5;124mMathematics\u001b[39m\u001b[38;5;124m\"\u001b[39m)\n",
      "\u001b[0;31mTypeError\u001b[0m: 'str' object is not callable"
     ]
    }
   ],
   "source": [
    "print(\"Mathematics\")"
   ]
  },
  {
   "cell_type": "markdown",
   "id": "09e2c45b",
   "metadata": {},
   "source": [
    "# 2. Strings"
   ]
  },
  {
   "cell_type": "code",
   "execution_count": 22,
   "id": "d67e286e",
   "metadata": {},
   "outputs": [],
   "source": [
    "#A string is a series of charatcters you can use single quote('') or double quotes (\"\")around your string \n",
    "#to indicate that its a string object"
   ]
  },
  {
   "cell_type": "code",
   "execution_count": 23,
   "id": "5aae2057",
   "metadata": {},
   "outputs": [
    {
     "data": {
      "text/plain": [
       "'This is an example'"
      ]
     },
     "execution_count": 23,
     "metadata": {},
     "output_type": "execute_result"
    }
   ],
   "source": [
    "\"This is an example\"\n",
    "'This is an example'"
   ]
  },
  {
   "cell_type": "code",
   "execution_count": 24,
   "id": "aa227484",
   "metadata": {},
   "outputs": [
    {
     "data": {
      "text/plain": [
       "'I asked my friend,\"would you like to get some ice cream?\", but they replied,\"Not really\".'"
      ]
     },
     "execution_count": 24,
     "metadata": {},
     "output_type": "execute_result"
    }
   ],
   "source": [
    "#use single quote and double quotes simultaenously:\n",
    "'I asked my friend,\"would you like to get some ice cream?\", but they replied,\"Not really\".'"
   ]
  },
  {
   "cell_type": "code",
   "execution_count": 25,
   "id": "de428d63",
   "metadata": {},
   "outputs": [
    {
     "ename": "SyntaxError",
     "evalue": "invalid syntax (1483439879.py, line 2)",
     "output_type": "error",
     "traceback": [
      "\u001b[0;36m  Cell \u001b[0;32mIn[25], line 2\u001b[0;36m\u001b[0m\n\u001b[0;31m    \"I asked my friend,\"would you like to get some ice cream?\", but they replied,\"Not really\".'\"#here we have three string varibales connected with ramdom varibales whose values are not defined\u001b[0m\n\u001b[0m                        ^\u001b[0m\n\u001b[0;31mSyntaxError\u001b[0m\u001b[0;31m:\u001b[0m invalid syntax\n"
     ]
    }
   ],
   "source": [
    "#can't we use double quotes to wrap this sentence?\n",
    "\"I asked my friend,\"would you like to get some ice cream?\", but they replied,\"Not really\".'\"\n",
    "#here we have three string varibales connected with ramdom varibales whose values are not defined"
   ]
  },
  {
   "cell_type": "code",
   "execution_count": 27,
   "id": "c8dad3ae",
   "metadata": {},
   "outputs": [
    {
     "data": {
      "text/plain": [
       "'I asked my friend,\"would you like to get some ice cream?\", but they replied,\"Not really\".\\''"
      ]
     },
     "execution_count": 27,
     "metadata": {},
     "output_type": "execute_result"
    }
   ],
   "source": [
    "\"I asked my friend,\\\"would you like to get some ice cream?\\\", but they replied,\\\"Not really\\\".'\""
   ]
  },
  {
   "cell_type": "code",
   "execution_count": 30,
   "id": "4c99d781",
   "metadata": {},
   "outputs": [],
   "source": [
    "#How to use variables of strings(characters)\n",
    "first_name = \"Kiwon\"\n",
    "last_name = \"Lee\"\n"
   ]
  },
  {
   "cell_type": "code",
   "execution_count": 31,
   "id": "642db215",
   "metadata": {},
   "outputs": [
    {
     "data": {
      "text/plain": [
       "'KiwonLee'"
      ]
     },
     "execution_count": 31,
     "metadata": {},
     "output_type": "execute_result"
    }
   ],
   "source": [
    "#How to combine these two?\n",
    "first_name +last_name"
   ]
  },
  {
   "cell_type": "code",
   "execution_count": 32,
   "id": "04ea0685",
   "metadata": {},
   "outputs": [
    {
     "data": {
      "text/plain": [
       "'Kiwon Lee'"
      ]
     },
     "execution_count": 32,
     "metadata": {},
     "output_type": "execute_result"
    }
   ],
   "source": [
    "first_name +' '+last_name #add an empty space between two string varibales"
   ]
  },
  {
   "cell_type": "markdown",
   "id": "59a8b65b",
   "metadata": {},
   "source": [
    "### f strings\n",
    "f stands for format, python formats the string by replacing the name of any variable in\"bracses\"{}with its value. We will use this in our workshop"
   ]
  },
  {
   "cell_type": "code",
   "execution_count": 33,
   "id": "c54616b3",
   "metadata": {},
   "outputs": [
    {
     "data": {
      "text/plain": [
       "'first_name'"
      ]
     },
     "execution_count": 33,
     "metadata": {},
     "output_type": "execute_result"
    }
   ],
   "source": [
    "f\"{first_name}\""
   ]
  },
  {
   "cell_type": "code",
   "execution_count": 36,
   "id": "31fdcc34",
   "metadata": {},
   "outputs": [
    {
     "data": {
      "text/plain": [
       "'Kiwon'"
      ]
     },
     "execution_count": 36,
     "metadata": {},
     "output_type": "execute_result"
    }
   ],
   "source": [
    "f\"{first_name}\""
   ]
  },
  {
   "cell_type": "code",
   "execution_count": 39,
   "id": "58621008",
   "metadata": {},
   "outputs": [
    {
     "data": {
      "text/plain": [
       "'Kiwon Lee'"
      ]
     },
     "execution_count": 39,
     "metadata": {},
     "output_type": "execute_result"
    }
   ],
   "source": [
    "f\"{first_name} {last_name}\"\n"
   ]
  },
  {
   "cell_type": "code",
   "execution_count": 40,
   "id": "d197be13",
   "metadata": {},
   "outputs": [],
   "source": [
    "del print# remove a variable"
   ]
  },
  {
   "cell_type": "code",
   "execution_count": 41,
   "id": "56716573",
   "metadata": {},
   "outputs": [
    {
     "name": "stdout",
     "output_type": "stream",
     "text": [
      "My first name isKiwonand my last name isLee.\n"
     ]
    }
   ],
   "source": [
    "print(f\"My first name is{first_name}and my last name is{last_name}.\")"
   ]
  },
  {
   "cell_type": "code",
   "execution_count": 42,
   "id": "db6dbb3c",
   "metadata": {},
   "outputs": [
    {
     "name": "stdout",
     "output_type": "stream",
     "text": [
      "Kiwon Lee\n"
     ]
    }
   ],
   "source": [
    "#How to change case in a string?\n",
    "full_name=\"Kiwon Lee\"\n",
    "print(full_name)"
   ]
  },
  {
   "cell_type": "code",
   "execution_count": 43,
   "id": "6734f1d9",
   "metadata": {},
   "outputs": [
    {
     "data": {
      "text/plain": [
       "'Kiwon Lee'"
      ]
     },
     "execution_count": 43,
     "metadata": {},
     "output_type": "execute_result"
    }
   ],
   "source": [
    "full_name.title()#we say we are applying\" title\"\"method\" to the\"full_name\"variable\n"
   ]
  },
  {
   "cell_type": "code",
   "execution_count": 44,
   "id": "804096b7",
   "metadata": {},
   "outputs": [],
   "source": [
    "?full_name.title"
   ]
  },
  {
   "cell_type": "code",
   "execution_count": 45,
   "id": "453eb6a3",
   "metadata": {},
   "outputs": [
    {
     "ename": "AttributeError",
     "evalue": "'str' object has no attribute '_dir_'",
     "output_type": "error",
     "traceback": [
      "\u001b[0;31m---------------------------------------------------------------------------\u001b[0m",
      "\u001b[0;31mAttributeError\u001b[0m                            Traceback (most recent call last)",
      "Cell \u001b[0;32mIn[45], line 1\u001b[0m\n\u001b[0;32m----> 1\u001b[0m full_name\u001b[38;5;241m.\u001b[39m_dir_()\n",
      "\u001b[0;31mAttributeError\u001b[0m: 'str' object has no attribute '_dir_'"
     ]
    }
   ],
   "source": [
    "full_name._dir_()#this can be show "
   ]
  },
  {
   "cell_type": "code",
   "execution_count": 46,
   "id": "a5538d73",
   "metadata": {},
   "outputs": [
    {
     "data": {
      "text/plain": [
       "'KIWON LEE'"
      ]
     },
     "execution_count": 46,
     "metadata": {},
     "output_type": "execute_result"
    }
   ],
   "source": [
    "full_name.upper()"
   ]
  },
  {
   "cell_type": "code",
   "execution_count": 47,
   "id": "baf02bc1",
   "metadata": {},
   "outputs": [
    {
     "data": {
      "text/plain": [
       "'Kiwon Lee'"
      ]
     },
     "execution_count": 47,
     "metadata": {},
     "output_type": "execute_result"
    }
   ],
   "source": [
    "full_name #the result of the upper method is not\"saved\""
   ]
  },
  {
   "cell_type": "code",
   "execution_count": 48,
   "id": "04697ea7",
   "metadata": {},
   "outputs": [],
   "source": [
    "#if you want to save the result\n",
    "full_name = full_name.upper()"
   ]
  },
  {
   "cell_type": "code",
   "execution_count": 49,
   "id": "92ca4cf4",
   "metadata": {},
   "outputs": [
    {
     "data": {
      "text/plain": [
       "'KIWON LEE'"
      ]
     },
     "execution_count": 49,
     "metadata": {},
     "output_type": "execute_result"
    }
   ],
   "source": [
    "full_name"
   ]
  },
  {
   "cell_type": "code",
   "execution_count": 50,
   "id": "3f911d47",
   "metadata": {},
   "outputs": [
    {
     "data": {
      "text/plain": [
       "'kiwon lee'"
      ]
     },
     "execution_count": 50,
     "metadata": {},
     "output_type": "execute_result"
    }
   ],
   "source": [
    "full_name.lower()"
   ]
  },
  {
   "cell_type": "markdown",
   "id": "ce025f33",
   "metadata": {},
   "source": [
    "## Dealing with spaces\n",
    "In python, whitespace refers to any nonprinting charaters such as spaces, tabs, the end-of-line symbpls. You might want to use whitespac to orgnize your output for a better readiblity"
   ]
  },
  {
   "cell_type": "code",
   "execution_count": 51,
   "id": "59aa8b38",
   "metadata": {},
   "outputs": [
    {
     "name": "stdout",
     "output_type": "stream",
     "text": [
      "Math is fun\n"
     ]
    }
   ],
   "source": [
    "print(\"Math is fun\")"
   ]
  },
  {
   "cell_type": "code",
   "execution_count": 55,
   "id": "96fc44d9",
   "metadata": {},
   "outputs": [
    {
     "name": "stdout",
     "output_type": "stream",
     "text": [
      "Math \tis \tfun!\n"
     ]
    }
   ],
   "source": [
    "print(\"Math \\tis \\tfun!\") #\\t for adding \"tabs\""
   ]
  },
  {
   "cell_type": "code",
   "execution_count": 58,
   "id": "4d8415b9",
   "metadata": {},
   "outputs": [],
   "source": [
    "#How to remove spaces?\n",
    "example_text =\"Math is fun!\""
   ]
  },
  {
   "cell_type": "code",
   "execution_count": 59,
   "id": "5ee506d9",
   "metadata": {},
   "outputs": [
    {
     "data": {
      "text/plain": [
       "'Math is fun!'"
      ]
     },
     "execution_count": 59,
     "metadata": {},
     "output_type": "execute_result"
    }
   ],
   "source": [
    "example_text"
   ]
  },
  {
   "cell_type": "code",
   "execution_count": 60,
   "id": "ae954560",
   "metadata": {},
   "outputs": [
    {
     "data": {
      "text/plain": [
       "'Math is fun!'"
      ]
     },
     "execution_count": 60,
     "metadata": {},
     "output_type": "execute_result"
    }
   ],
   "source": [
    "example_text.rstrip()#strip spaces on the most right"
   ]
  },
  {
   "cell_type": "code",
   "execution_count": 61,
   "id": "133909af",
   "metadata": {},
   "outputs": [
    {
     "data": {
      "text/plain": [
       "'Math is fun!'"
      ]
     },
     "execution_count": 61,
     "metadata": {},
     "output_type": "execute_result"
    }
   ],
   "source": [
    "example_text.lstrip()"
   ]
  },
  {
   "cell_type": "code",
   "execution_count": 62,
   "id": "24bb6afb",
   "metadata": {},
   "outputs": [
    {
     "data": {
      "text/plain": [
       "'Math is fun!'"
      ]
     },
     "execution_count": 62,
     "metadata": {},
     "output_type": "execute_result"
    }
   ],
   "source": [
    "example_text.strip()#strip every space in the sentence?"
   ]
  },
  {
   "cell_type": "code",
   "execution_count": 66,
   "id": "f3ac2e28",
   "metadata": {},
   "outputs": [
    {
     "data": {
      "text/plain": [
       "'Mathisfun!'"
      ]
     },
     "execution_count": 66,
     "metadata": {},
     "output_type": "execute_result"
    }
   ],
   "source": [
    "#what if we want to remove every space in the sentence?\n",
    "example_text.replace(\" \",\"\")"
   ]
  },
  {
   "cell_type": "code",
   "execution_count": 73,
   "id": "a05665bf",
   "metadata": {},
   "outputs": [],
   "source": [
    "##how to check whether a string starts with a certain character/letter\n",
    "?example_text.startswith"
   ]
  },
  {
   "cell_type": "code",
   "execution_count": 71,
   "id": "d73ca926",
   "metadata": {},
   "outputs": [
    {
     "data": {
      "text/plain": [
       "True"
      ]
     },
     "execution_count": 71,
     "metadata": {},
     "output_type": "execute_result"
    }
   ],
   "source": [
    "example_text.startswith(\"M\")"
   ]
  },
  {
   "cell_type": "code",
   "execution_count": 72,
   "id": "5038b14f",
   "metadata": {},
   "outputs": [
    {
     "data": {
      "text/plain": [
       "True"
      ]
     },
     "execution_count": 72,
     "metadata": {},
     "output_type": "execute_result"
    }
   ],
   "source": [
    "example_text.startswith(\"\")"
   ]
  },
  {
   "cell_type": "code",
   "execution_count": 74,
   "id": "95a66b3d",
   "metadata": {},
   "outputs": [],
   "source": [
    "#index refers to \"location\", and python start with 0"
   ]
  },
  {
   "cell_type": "code",
   "execution_count": 76,
   "id": "50498892",
   "metadata": {},
   "outputs": [
    {
     "data": {
      "text/plain": [
       "True"
      ]
     },
     "execution_count": 76,
     "metadata": {},
     "output_type": "execute_result"
    }
   ],
   "source": [
    "example_text.lstrip().startswith(\"M\")#You can use multiple methods simultaneously as well"
   ]
  },
  {
   "cell_type": "code",
   "execution_count": 79,
   "id": "6abce001",
   "metadata": {},
   "outputs": [],
   "source": [
    "#How to remove prefix?\n",
    "example_text = example_text.strip()"
   ]
  },
  {
   "cell_type": "code",
   "execution_count": 80,
   "id": "4ec2822d",
   "metadata": {},
   "outputs": [
    {
     "data": {
      "text/plain": [
       "'Math is fun!'"
      ]
     },
     "execution_count": 80,
     "metadata": {},
     "output_type": "execute_result"
    }
   ],
   "source": [
    "example_text"
   ]
  },
  {
   "cell_type": "code",
   "execution_count": 81,
   "id": "e5f964a2",
   "metadata": {},
   "outputs": [
    {
     "data": {
      "text/plain": [
       "' is fun!'"
      ]
     },
     "execution_count": 81,
     "metadata": {},
     "output_type": "execute_result"
    }
   ],
   "source": [
    "example_text.removeprefix('Math')"
   ]
  },
  {
   "cell_type": "code",
   "execution_count": 82,
   "id": "da076162",
   "metadata": {},
   "outputs": [
    {
     "data": {
      "text/plain": [
       "'Physics is fun!'"
      ]
     },
     "execution_count": 82,
     "metadata": {},
     "output_type": "execute_result"
    }
   ],
   "source": [
    "'Physics'+example_text.removeprefix('Math')"
   ]
  },
  {
   "cell_type": "code",
   "execution_count": 85,
   "id": "b59f5ffe",
   "metadata": {},
   "outputs": [
    {
     "data": {
      "text/plain": [
       "'physics is fun!'"
      ]
     },
     "execution_count": 85,
     "metadata": {},
     "output_type": "execute_result"
    }
   ],
   "source": [
    "f\"physics{example_text.removeprefix('Math')}\""
   ]
  },
  {
   "cell_type": "code",
   "execution_count": 86,
   "id": "e6279828",
   "metadata": {},
   "outputs": [],
   "source": [
    "##Single quote and double quots are interchangeable\n",
    "##triple quotes?\n",
    "##triple quotes will be used for \"docstrings\",wich is used to describe fuctions"
   ]
  },
  {
   "cell_type": "code",
   "execution_count": 87,
   "id": "67bad884",
   "metadata": {},
   "outputs": [],
   "source": [
    "def print_message(message):\n",
    "    \"\"\"print the input string variale\"\"\"\n",
    "    print(message)"
   ]
  },
  {
   "cell_type": "code",
   "execution_count": 88,
   "id": "83a28489",
   "metadata": {},
   "outputs": [
    {
     "name": "stdout",
     "output_type": "stream",
     "text": [
      "Math is fun!\n"
     ]
    }
   ],
   "source": [
    "print_message(example_text)"
   ]
  },
  {
   "cell_type": "markdown",
   "id": "c4612efb",
   "metadata": {},
   "source": [
    "# 3. Numbers"
   ]
  },
  {
   "cell_type": "code",
   "execution_count": 89,
   "id": "95cb5ad5",
   "metadata": {},
   "outputs": [],
   "source": [
    "##Intergers(No decimal points) vs floats(decimal points)"
   ]
  },
  {
   "cell_type": "code",
   "execution_count": 91,
   "id": "54bc54f7",
   "metadata": {},
   "outputs": [],
   "source": [
    "a=2"
   ]
  },
  {
   "cell_type": "code",
   "execution_count": 92,
   "id": "03bd685e",
   "metadata": {},
   "outputs": [
    {
     "data": {
      "text/plain": [
       "int"
      ]
     },
     "execution_count": 92,
     "metadata": {},
     "output_type": "execute_result"
    }
   ],
   "source": [
    "type(a)"
   ]
  },
  {
   "cell_type": "code",
   "execution_count": 93,
   "id": "a8562a24",
   "metadata": {},
   "outputs": [],
   "source": [
    "b=2.0"
   ]
  },
  {
   "cell_type": "code",
   "execution_count": 94,
   "id": "56d4032f",
   "metadata": {},
   "outputs": [
    {
     "data": {
      "text/plain": [
       "float"
      ]
     },
     "execution_count": 94,
     "metadata": {},
     "output_type": "execute_result"
    }
   ],
   "source": [
    "type(b)"
   ]
  },
  {
   "cell_type": "code",
   "execution_count": 96,
   "id": "3d116280",
   "metadata": {},
   "outputs": [
    {
     "data": {
      "text/plain": [
       "4.0"
      ]
     },
     "execution_count": 96,
     "metadata": {},
     "output_type": "execute_result"
    }
   ],
   "source": [
    "#if you mix an integer and a float in any operaton, you will get a float\n",
    "a+b"
   ]
  },
  {
   "cell_type": "markdown",
   "id": "8d4ea2ff",
   "metadata": {},
   "source": [
    "2+3"
   ]
  },
  {
   "cell_type": "code",
   "execution_count": 97,
   "id": "87ec3048",
   "metadata": {},
   "outputs": [
    {
     "data": {
      "text/plain": [
       "5"
      ]
     },
     "execution_count": 97,
     "metadata": {},
     "output_type": "execute_result"
    }
   ],
   "source": [
    "2+3"
   ]
  },
  {
   "cell_type": "code",
   "execution_count": 98,
   "id": "a288c2c7",
   "metadata": {},
   "outputs": [
    {
     "data": {
      "text/plain": [
       "6"
      ]
     },
     "execution_count": 98,
     "metadata": {},
     "output_type": "execute_result"
    }
   ],
   "source": [
    "2*3"
   ]
  },
  {
   "cell_type": "code",
   "execution_count": 100,
   "id": "5825db46",
   "metadata": {},
   "outputs": [
    {
     "data": {
      "text/plain": [
       "2.0"
      ]
     },
     "execution_count": 100,
     "metadata": {},
     "output_type": "execute_result"
    }
   ],
   "source": [
    "#division is an exception: when you divide two integers, the result is always a float.\n",
    "4/2"
   ]
  },
  {
   "cell_type": "code",
   "execution_count": 103,
   "id": "070bbe97",
   "metadata": {},
   "outputs": [
    {
     "name": "stdout",
     "output_type": "stream",
     "text": [
      "2 2.0\n"
     ]
    }
   ],
   "source": [
    "#multiple assignments are also possible \n",
    "a,b=2,2.0\n",
    "print(a,b)"
   ]
  },
  {
   "cell_type": "code",
   "execution_count": 106,
   "id": "5a3a1c25",
   "metadata": {},
   "outputs": [
    {
     "data": {
      "text/plain": [
       "int"
      ]
     },
     "execution_count": 106,
     "metadata": {},
     "output_type": "execute_result"
    }
   ],
   "source": [
    "#Constant is a varibale whose value will stay the same throughout the life of the program\n",
    "#Use upper letters to indicate that you are delaing with a consent\n",
    "NUM_OF_STUDENTS =25\n",
    "type(NUM_OF_STUDENTS)"
   ]
  },
  {
   "cell_type": "code",
   "execution_count": 107,
   "id": "a277d2c8",
   "metadata": {},
   "outputs": [],
   "source": [
    "##How to deal with large numers?"
   ]
  },
  {
   "cell_type": "code",
   "execution_count": 109,
   "id": "85c43466",
   "metadata": {},
   "outputs": [
    {
     "data": {
      "text/plain": [
       "41000000"
      ]
     },
     "execution_count": 109,
     "metadata": {},
     "output_type": "execute_result"
    }
   ],
   "source": [
    "Canada_populcation= 41000000\n",
    "Canada_populcation"
   ]
  },
  {
   "cell_type": "code",
   "execution_count": 110,
   "id": "2dd4694b",
   "metadata": {},
   "outputs": [],
   "source": [
    "Canada_population_2=41_000_000"
   ]
  },
  {
   "cell_type": "code",
   "execution_count": 111,
   "id": "562b00d1",
   "metadata": {},
   "outputs": [
    {
     "data": {
      "text/plain": [
       "41000000"
      ]
     },
     "execution_count": 111,
     "metadata": {},
     "output_type": "execute_result"
    }
   ],
   "source": [
    "Canada_population_2"
   ]
  },
  {
   "cell_type": "code",
   "execution_count": 114,
   "id": "6261672e",
   "metadata": {},
   "outputs": [],
   "source": [
    "Canada_population_3 = 41e+6 #e standing for exponential"
   ]
  },
  {
   "cell_type": "code",
   "execution_count": 115,
   "id": "fa4325a1",
   "metadata": {},
   "outputs": [
    {
     "data": {
      "text/plain": [
       "41000000.0"
      ]
     },
     "execution_count": 115,
     "metadata": {},
     "output_type": "execute_result"
    }
   ],
   "source": [
    "Canada_population_3"
   ]
  },
  {
   "cell_type": "markdown",
   "id": "fe643890",
   "metadata": {},
   "source": [
    "# Numpy package"
   ]
  },
  {
   "cell_type": "code",
   "execution_count": 116,
   "id": "c5938763",
   "metadata": {},
   "outputs": [],
   "source": [
    "import numpy as np #abbreviation"
   ]
  },
  {
   "cell_type": "code",
   "execution_count": 118,
   "id": "533fba6d",
   "metadata": {},
   "outputs": [],
   "source": [
    "a =np.array([1,2,3])\n",
    "b =np.array([4,5,6])"
   ]
  },
  {
   "cell_type": "code",
   "execution_count": 119,
   "id": "ff7bd62c",
   "metadata": {},
   "outputs": [
    {
     "data": {
      "text/plain": [
       "array([1, 2, 3])"
      ]
     },
     "execution_count": 119,
     "metadata": {},
     "output_type": "execute_result"
    }
   ],
   "source": [
    "a"
   ]
  },
  {
   "cell_type": "code",
   "execution_count": 122,
   "id": "35437256",
   "metadata": {},
   "outputs": [
    {
     "data": {
      "text/plain": [
       "array([5, 7, 9])"
      ]
     },
     "execution_count": 122,
     "metadata": {},
     "output_type": "execute_result"
    }
   ],
   "source": [
    "a+b "
   ]
  },
  {
   "cell_type": "code",
   "execution_count": 121,
   "id": "b421e807",
   "metadata": {},
   "outputs": [
    {
     "data": {
      "text/plain": [
       "array([-3, -3, -3])"
      ]
     },
     "execution_count": 121,
     "metadata": {},
     "output_type": "execute_result"
    }
   ],
   "source": [
    "a-b"
   ]
  },
  {
   "cell_type": "code",
   "execution_count": 123,
   "id": "60cf9854",
   "metadata": {},
   "outputs": [
    {
     "data": {
      "text/plain": [
       "array([ 4, 10, 18])"
      ]
     },
     "execution_count": 123,
     "metadata": {},
     "output_type": "execute_result"
    }
   ],
   "source": [
    "a*b"
   ]
  },
  {
   "cell_type": "code",
   "execution_count": 125,
   "id": "0e756feb",
   "metadata": {},
   "outputs": [
    {
     "data": {
      "text/plain": [
       "32"
      ]
     },
     "execution_count": 125,
     "metadata": {},
     "output_type": "execute_result"
    }
   ],
   "source": [
    "np.dot(a,b)#(=1*4+2*5=3*6)"
   ]
  },
  {
   "cell_type": "code",
   "execution_count": 126,
   "id": "507eecc0",
   "metadata": {},
   "outputs": [
    {
     "data": {
      "text/plain": [
       "2.718281828459045"
      ]
     },
     "execution_count": 126,
     "metadata": {},
     "output_type": "execute_result"
    }
   ],
   "source": [
    "np.exp(1)"
   ]
  },
  {
   "cell_type": "code",
   "execution_count": 127,
   "id": "774d229d",
   "metadata": {},
   "outputs": [
    {
     "ename": "NameError",
     "evalue": "name 'pi' is not defined",
     "output_type": "error",
     "traceback": [
      "\u001b[0;31m---------------------------------------------------------------------------\u001b[0m",
      "\u001b[0;31mNameError\u001b[0m                                 Traceback (most recent call last)",
      "Cell \u001b[0;32mIn[127], line 1\u001b[0m\n\u001b[0;32m----> 1\u001b[0m pi\n",
      "\u001b[0;31mNameError\u001b[0m: name 'pi' is not defined"
     ]
    }
   ],
   "source": [
    "pi"
   ]
  },
  {
   "cell_type": "code",
   "execution_count": 128,
   "id": "f6c3236c",
   "metadata": {},
   "outputs": [
    {
     "data": {
      "text/plain": [
       "3.141592653589793"
      ]
     },
     "execution_count": 128,
     "metadata": {},
     "output_type": "execute_result"
    }
   ],
   "source": [
    "np.pi"
   ]
  },
  {
   "cell_type": "code",
   "execution_count": 130,
   "id": "b943198e",
   "metadata": {},
   "outputs": [
    {
     "data": {
      "text/plain": [
       "1.0"
      ]
     },
     "execution_count": 130,
     "metadata": {},
     "output_type": "execute_result"
    }
   ],
   "source": [
    "np.sin(np.pi/2)"
   ]
  },
  {
   "cell_type": "code",
   "execution_count": null,
   "id": "ace39ed3",
   "metadata": {},
   "outputs": [],
   "source": []
  }
 ],
 "metadata": {
  "kernelspec": {
   "display_name": "Python 3 (ipykernel)",
   "language": "python",
   "name": "python3"
  },
  "language_info": {
   "codemirror_mode": {
    "name": "ipython",
    "version": 3
   },
   "file_extension": ".py",
   "mimetype": "text/x-python",
   "name": "python",
   "nbconvert_exporter": "python",
   "pygments_lexer": "ipython3",
   "version": "3.11.5"
  }
 },
 "nbformat": 4,
 "nbformat_minor": 5
}
