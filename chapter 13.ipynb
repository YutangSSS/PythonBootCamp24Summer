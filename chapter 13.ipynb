{
 "cells": [
  {
   "cell_type": "code",
   "execution_count": 1,
   "id": "976324c4",
   "metadata": {},
   "outputs": [
    {
     "ename": "ModuleNotFoundError",
     "evalue": "No module named 'stm_metro'",
     "output_type": "error",
     "traceback": [
      "\u001b[0;31m---------------------------------------------------------------------------\u001b[0m",
      "\u001b[0;31mModuleNotFoundError\u001b[0m                       Traceback (most recent call last)",
      "Cell \u001b[0;32mIn[1], line 1\u001b[0m\n\u001b[0;32m----> 1\u001b[0m \u001b[38;5;28;01mfrom\u001b[39;00m \u001b[38;5;21;01mstm_metro\u001b[39;00m \u001b[38;5;28;01mimport\u001b[39;00m STM_metro\n",
      "\u001b[0;31mModuleNotFoundError\u001b[0m: No module named 'stm_metro'"
     ]
    }
   ],
   "source": [
    "from stm_metro import STM_metro"
   ]
  },
  {
   "cell_type": "markdown",
   "id": "41147cb9",
   "metadata": {},
   "source": [
    "# Use standard libraries (modules)in python\n",
    "# How to generate Random numbers"
   ]
  },
  {
   "cell_type": "code",
   "execution_count": 3,
   "id": "ceb0b9f0",
   "metadata": {},
   "outputs": [],
   "source": [
    "from random import randint"
   ]
  },
  {
   "cell_type": "code",
   "execution_count": 4,
   "id": "5944a979",
   "metadata": {},
   "outputs": [],
   "source": [
    "?randint"
   ]
  },
  {
   "cell_type": "code",
   "execution_count": 5,
   "id": "8838c74c",
   "metadata": {},
   "outputs": [
    {
     "data": {
      "text/plain": [
       "9"
      ]
     },
     "execution_count": 5,
     "metadata": {},
     "output_type": "execute_result"
    }
   ],
   "source": [
    "randint(5,10)#generate a random interger bewteen 5,10 including btoh end points"
   ]
  },
  {
   "cell_type": "code",
   "execution_count": 6,
   "id": "8c4a206b",
   "metadata": {},
   "outputs": [
    {
     "data": {
      "text/plain": [
       "8"
      ]
     },
     "execution_count": 6,
     "metadata": {},
     "output_type": "execute_result"
    }
   ],
   "source": [
    "randint(5,10)"
   ]
  },
  {
   "cell_type": "code",
   "execution_count": 7,
   "id": "2b993483",
   "metadata": {},
   "outputs": [
    {
     "data": {
      "text/plain": [
       "10"
      ]
     },
     "execution_count": 7,
     "metadata": {},
     "output_type": "execute_result"
    }
   ],
   "source": [
    "randint(5,10)"
   ]
  },
  {
   "cell_type": "code",
   "execution_count": 9,
   "id": "86717d78",
   "metadata": {},
   "outputs": [
    {
     "name": "stdout",
     "output_type": "stream",
     "text": [
      "6\n",
      "9\n",
      "9\n",
      "5\n",
      "5\n",
      "8\n",
      "9\n",
      "5\n",
      "5\n",
      "9\n"
     ]
    }
   ],
   "source": [
    "#how can we generate such a number multiple times\n",
    "for _ in range(10): #_means I don't need to use a specific iterator\n",
    "    print(randint(5,10))"
   ]
  },
  {
   "cell_type": "code",
   "execution_count": 15,
   "id": "315f8148",
   "metadata": {},
   "outputs": [
    {
     "ename": "IndentationError",
     "evalue": "expected an indented block after function definition on line 1 (753970846.py, line 2)",
     "output_type": "error",
     "traceback": [
      "\u001b[0;36m  Cell \u001b[0;32mIn[15], line 2\u001b[0;36m\u001b[0m\n\u001b[0;31m    \"\"\"Generate random integers beween a and b for n times and return a list of the numbers\"\"\"\u001b[0m\n\u001b[0m    ^\u001b[0m\n\u001b[0;31mIndentationError\u001b[0m\u001b[0;31m:\u001b[0m expected an indented block after function definition on line 1\n"
     ]
    }
   ],
   "source": [
    "def rand_int_rep(a,b,n): #we can create a fuction too\n",
    "\"\"\"Generate random integers beween a and b for n times and return a list of the numbers\"\"\"\n",
    "    num_list = []\n",
    "    for _ in range(n):\n",
    "            num_list.append(randint(a,b))\n",
    "    \n",
    "    return num_list"
   ]
  },
  {
   "cell_type": "code",
   "execution_count": 16,
   "id": "4e434e2e",
   "metadata": {},
   "outputs": [
    {
     "ename": "NameError",
     "evalue": "name 'rand_int_rep' is not defined",
     "output_type": "error",
     "traceback": [
      "\u001b[0;31m---------------------------------------------------------------------------\u001b[0m",
      "\u001b[0;31mNameError\u001b[0m                                 Traceback (most recent call last)",
      "Cell \u001b[0;32mIn[16], line 1\u001b[0m\n\u001b[0;32m----> 1\u001b[0m rand_int_rep(\u001b[38;5;241m0\u001b[39m,\u001b[38;5;241m10\u001b[39m,\u001b[38;5;241m10\u001b[39m)\n",
      "\u001b[0;31mNameError\u001b[0m: name 'rand_int_rep' is not defined"
     ]
    }
   ],
   "source": [
    "rand_int_rep(0,10,10)"
   ]
  },
  {
   "cell_type": "code",
   "execution_count": 17,
   "id": "4e181697",
   "metadata": {},
   "outputs": [
    {
     "data": {
      "text/plain": [
       "[0, 6, 7, 4, 7]"
      ]
     },
     "execution_count": 17,
     "metadata": {},
     "output_type": "execute_result"
    }
   ],
   "source": [
    "#list comprehension\n",
    "[randint(0,10)for i in range(5)]#for iterator moving from 0 to 4 #generate random interger from zero to 10"
   ]
  },
  {
   "cell_type": "code",
   "execution_count": 18,
   "id": "7b37ab84",
   "metadata": {},
   "outputs": [],
   "source": [
    "#How to do we create the same kind of random outout for stimulations?"
   ]
  },
  {
   "cell_type": "code",
   "execution_count": 19,
   "id": "314517d6",
   "metadata": {},
   "outputs": [],
   "source": [
    "from random import seed\n",
    "?seed"
   ]
  },
  {
   "cell_type": "code",
   "execution_count": 20,
   "id": "1e4d533e",
   "metadata": {},
   "outputs": [],
   "source": [
    "seed(6)"
   ]
  },
  {
   "cell_type": "code",
   "execution_count": 42,
   "id": "aa31f479",
   "metadata": {},
   "outputs": [
    {
     "ename": "NameError",
     "evalue": "name 'rand_int_rep' is not defined",
     "output_type": "error",
     "traceback": [
      "\u001b[0;31m---------------------------------------------------------------------------\u001b[0m",
      "\u001b[0;31mNameError\u001b[0m                                 Traceback (most recent call last)",
      "Cell \u001b[0;32mIn[42], line 1\u001b[0m\n\u001b[0;32m----> 1\u001b[0m rand_int_rep (\u001b[38;5;241m0\u001b[39m,\u001b[38;5;241m5\u001b[39m,\u001b[38;5;241m10\u001b[39m)\n",
      "\u001b[0;31mNameError\u001b[0m: name 'rand_int_rep' is not defined"
     ]
    }
   ],
   "source": [
    "rand_int_rep (0,5,10)"
   ]
  },
  {
   "cell_type": "code",
   "execution_count": 43,
   "id": "03f94f96",
   "metadata": {},
   "outputs": [
    {
     "ename": "NameError",
     "evalue": "name 'rand_int_rep' is not defined",
     "output_type": "error",
     "traceback": [
      "\u001b[0;31m---------------------------------------------------------------------------\u001b[0m",
      "\u001b[0;31mNameError\u001b[0m                                 Traceback (most recent call last)",
      "Cell \u001b[0;32mIn[43], line 1\u001b[0m\n\u001b[0;32m----> 1\u001b[0m rand_int_rep (\u001b[38;5;241m0\u001b[39m,\u001b[38;5;241m5\u001b[39m,\u001b[38;5;241m10\u001b[39m)\n",
      "\u001b[0;31mNameError\u001b[0m: name 'rand_int_rep' is not defined"
     ]
    }
   ],
   "source": [
    "rand_int_rep (0,5,10)"
   ]
  },
  {
   "cell_type": "code",
   "execution_count": 44,
   "id": "e119fcf9",
   "metadata": {},
   "outputs": [],
   "source": [
    "seed(6)"
   ]
  },
  {
   "cell_type": "code",
   "execution_count": 45,
   "id": "524c252a",
   "metadata": {},
   "outputs": [
    {
     "ename": "NameError",
     "evalue": "name 'rand_int_rep' is not defined",
     "output_type": "error",
     "traceback": [
      "\u001b[0;31m---------------------------------------------------------------------------\u001b[0m",
      "\u001b[0;31mNameError\u001b[0m                                 Traceback (most recent call last)",
      "Cell \u001b[0;32mIn[45], line 1\u001b[0m\n\u001b[0;32m----> 1\u001b[0m rand_int_rep(\u001b[38;5;241m0\u001b[39m,\u001b[38;5;241m5\u001b[39m,\u001b[38;5;241m10\u001b[39m)\n",
      "\u001b[0;31mNameError\u001b[0m: name 'rand_int_rep' is not defined"
     ]
    }
   ],
   "source": [
    "rand_int_rep(0,5,10)"
   ]
  },
  {
   "cell_type": "code",
   "execution_count": 46,
   "id": "2434a2c9",
   "metadata": {},
   "outputs": [],
   "source": [
    "#sampling from a list\n",
    "from random import sample"
   ]
  },
  {
   "cell_type": "code",
   "execution_count": 47,
   "id": "f1f8c16c",
   "metadata": {},
   "outputs": [],
   "source": [
    "?sample"
   ]
  },
  {
   "cell_type": "code",
   "execution_count": 48,
   "id": "dee79d56",
   "metadata": {},
   "outputs": [
    {
     "data": {
      "text/plain": [
       "['T', 'H', 'T', 'H', 'H', 'H', 'T', 'T', 'H', 'H']"
      ]
     },
     "execution_count": 48,
     "metadata": {},
     "output_type": "execute_result"
    }
   ],
   "source": [
    "coin_flip =[\"H\",\"T\"]#head and tail\n",
    "sample(coin_flip, k=10, counts=[10,10])\n",
    "#It doesn't sample \"without replacement\"\n",
    "#I'll now have 10 heads and 10 tails"
   ]
  },
  {
   "cell_type": "code",
   "execution_count": 49,
   "id": "26167517",
   "metadata": {},
   "outputs": [
    {
     "name": "stdout",
     "output_type": "stream",
     "text": [
      "['T']\n",
      "['T']\n",
      "['H']\n",
      "['T']\n",
      "['T']\n",
      "['H']\n",
      "['T']\n",
      "['H']\n",
      "['H']\n",
      "['T']\n"
     ]
    }
   ],
   "source": [
    "#or we can do \n",
    "for _ in range(10):\n",
    "    print(sample(coin_flip, k=1))"
   ]
  },
  {
   "cell_type": "code",
   "execution_count": 50,
   "id": "89fcf313",
   "metadata": {},
   "outputs": [],
   "source": [
    "from random import choices"
   ]
  },
  {
   "cell_type": "code",
   "execution_count": 51,
   "id": "0e6bbb5a",
   "metadata": {},
   "outputs": [
    {
     "name": "stdout",
     "output_type": "stream",
     "text": [
      "Object `choices #sampling with replacement` not found.\n"
     ]
    }
   ],
   "source": [
    "?choices #sampling with replacement"
   ]
  },
  {
   "cell_type": "code",
   "execution_count": 52,
   "id": "3b3e6c19",
   "metadata": {},
   "outputs": [
    {
     "data": {
      "text/plain": [
       "['T', 'T', 'H', 'H', 'T', 'H', 'H', 'H', 'T', 'T']"
      ]
     },
     "execution_count": 52,
     "metadata": {},
     "output_type": "execute_result"
    }
   ],
   "source": [
    "choices(['H','T'],k = 10)"
   ]
  },
  {
   "cell_type": "code",
   "execution_count": 53,
   "id": "ec968b74",
   "metadata": {},
   "outputs": [],
   "source": [
    "#default setting is that I pick each element with the smae probability but you cna manually change the weight you assign to each element"
   ]
  },
  {
   "cell_type": "code",
   "execution_count": 54,
   "id": "c2727f44",
   "metadata": {},
   "outputs": [
    {
     "data": {
      "text/plain": [
       "['H',\n",
       " 'H',\n",
       " 'H',\n",
       " 'H',\n",
       " 'T',\n",
       " 'H',\n",
       " 'T',\n",
       " 'H',\n",
       " 'H',\n",
       " 'H',\n",
       " 'H',\n",
       " 'T',\n",
       " 'H',\n",
       " 'H',\n",
       " 'T',\n",
       " 'H',\n",
       " 'H',\n",
       " 'H',\n",
       " 'H',\n",
       " 'H',\n",
       " 'H',\n",
       " 'H',\n",
       " 'H',\n",
       " 'H',\n",
       " 'H',\n",
       " 'H',\n",
       " 'H',\n",
       " 'H',\n",
       " 'H',\n",
       " 'H',\n",
       " 'H',\n",
       " 'H',\n",
       " 'H',\n",
       " 'H',\n",
       " 'H',\n",
       " 'H',\n",
       " 'H',\n",
       " 'H',\n",
       " 'H',\n",
       " 'H',\n",
       " 'H',\n",
       " 'H',\n",
       " 'H',\n",
       " 'H',\n",
       " 'H',\n",
       " 'T',\n",
       " 'H',\n",
       " 'H',\n",
       " 'H',\n",
       " 'H',\n",
       " 'H',\n",
       " 'H',\n",
       " 'H',\n",
       " 'H',\n",
       " 'H',\n",
       " 'H',\n",
       " 'H',\n",
       " 'H',\n",
       " 'H',\n",
       " 'T',\n",
       " 'H',\n",
       " 'H',\n",
       " 'H',\n",
       " 'H',\n",
       " 'T',\n",
       " 'H',\n",
       " 'H',\n",
       " 'H',\n",
       " 'H',\n",
       " 'H',\n",
       " 'H',\n",
       " 'H',\n",
       " 'H',\n",
       " 'T',\n",
       " 'T',\n",
       " 'H',\n",
       " 'H',\n",
       " 'H',\n",
       " 'H',\n",
       " 'H',\n",
       " 'H',\n",
       " 'H',\n",
       " 'H',\n",
       " 'H',\n",
       " 'H',\n",
       " 'H',\n",
       " 'T',\n",
       " 'H',\n",
       " 'H',\n",
       " 'H',\n",
       " 'H',\n",
       " 'T',\n",
       " 'H',\n",
       " 'H',\n",
       " 'H',\n",
       " 'H',\n",
       " 'H',\n",
       " 'T',\n",
       " 'H',\n",
       " 'H']"
      ]
     },
     "execution_count": 54,
     "metadata": {},
     "output_type": "execute_result"
    }
   ],
   "source": [
    "choices(['H','T'], weights =[0.9,0.1],k=100)"
   ]
  },
  {
   "cell_type": "markdown",
   "id": "4b6ec86a",
   "metadata": {},
   "source": [
    "# Create a new module named \"rock_scissors_paper\" that contains a class named Rock_Scissors_Paper that satisfies the followings:\n",
    "it is a class that'll be imported in the initialization of the Pokemon class as follows: self.play = Rock_Scissors_Paper()\n",
    "when the class Rock_Scissors_Paper is executed, you'll play rock-scissors-paper game with your pokemon. From the list ['rock', 'scissors', 'paper'], one of the elements will be randomly chosen for you and your Pokemon, respectively. Note that you and your Pokemon can have the same results.\n",
    "Depending on the outcome of the rock-scissors-paper game, print the corresponding results: e.g. [Your Pokemon's name] played rock. You played scissors. [Your Pokemon's name] won!"
   ]
  },
  {
   "cell_type": "code",
   "execution_count": 4,
   "id": "3298865c",
   "metadata": {},
   "outputs": [],
   "source": [
    "#TASK1 :\n",
    "rcs_list =['rock','scissors','paper']\n",
    "    #how to randomly slect rock, scissors, or paper for you and your pokemon so that\n",
    "you='rock'\n",
    "your_pokemon='scissors'"
   ]
  },
  {
   "cell_type": "code",
   "execution_count": 5,
   "id": "486a35cb",
   "metadata": {},
   "outputs": [],
   "source": [
    "#TASK2 :#how could you print depending on the outcome of the r-c-s game\n",
    "#something like \"\"\"you played rock, your pokemon played scissors, you won\"\"\"\n",
    "\n",
    "#    def you='rock'\n",
    "#        print\n",
    "#    def scissors:\n",
    "#         your_pokemon='scissors' \n",
    "        \n",
    "#    def paper:\n",
    "\n",
    "def print_outcome(you, your_pokemon):\n",
    "    if you == 'rock' and your_pokemon == 'scissors':\n",
    "        print(\"You played rock, your pokemon played scissors, so you won!\")\n",
    "    # cover all the other cases"
   ]
  },
  {
   "cell_type": "code",
   "execution_count": 6,
   "id": "70b37f55",
   "metadata": {},
   "outputs": [
    {
     "name": "stdout",
     "output_type": "stream",
     "text": [
      "You played rock, your pokemon played scissors, so you won!\n"
     ]
    }
   ],
   "source": [
    "print_outcome(you, your_pokemon)"
   ]
  },
  {
   "cell_type": "code",
   "execution_count": null,
   "id": "626da7eb",
   "metadata": {},
   "outputs": [],
   "source": [
    "#Task3 \n",
    "#create a separate class named Rock_scissor_paper containing rock_scissors_play game \n",
    "#that is played with your pokemon(that can be passed from the pokemon class)\n"
   ]
  },
  {
   "cell_type": "code",
   "execution_count": null,
   "id": "5ddc4459",
   "metadata": {},
   "outputs": [],
   "source": []
  }
 ],
 "metadata": {
  "kernelspec": {
   "display_name": "Python 3 (ipykernel)",
   "language": "python",
   "name": "python3"
  },
  "language_info": {
   "codemirror_mode": {
    "name": "ipython",
    "version": 3
   },
   "file_extension": ".py",
   "mimetype": "text/x-python",
   "name": "python",
   "nbconvert_exporter": "python",
   "pygments_lexer": "ipython3",
   "version": "3.11.5"
  }
 },
 "nbformat": 4,
 "nbformat_minor": 5
}
