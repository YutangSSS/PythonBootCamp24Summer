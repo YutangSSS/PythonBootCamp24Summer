{
 "cells": [
  {
   "cell_type": "code",
   "execution_count": 1,
   "id": "d342c7bb",
   "metadata": {},
   "outputs": [],
   "source": [
    "from pokemon2 import Pokemon"
   ]
  },
  {
   "cell_type": "code",
   "execution_count": 2,
   "id": "a9d45e74",
   "metadata": {},
   "outputs": [],
   "source": [
    "my_pokemon = Pokemon('pikachu', 'electric')"
   ]
  },
  {
   "cell_type": "code",
   "execution_count": null,
   "id": "015c7cc6",
   "metadata": {},
   "outputs": [],
   "source": [
    "my_pokemon"
   ]
  }
 ],
 "metadata": {
  "kernelspec": {
   "display_name": "Python 3 (ipykernel)",
   "language": "python",
   "name": "python3"
  },
  "language_info": {
   "codemirror_mode": {
    "name": "ipython",
    "version": 3
   },
   "file_extension": ".py",
   "mimetype": "text/x-python",
   "name": "python",
   "nbconvert_exporter": "python",
   "pygments_lexer": "ipython3",
   "version": "3.11.5"
  }
 },
 "nbformat": 4,
 "nbformat_minor": 5
}
