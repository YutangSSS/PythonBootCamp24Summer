{
 "cells": [
  {
   "cell_type": "markdown",
   "id": "92e09088",
   "metadata": {},
   "source": [
    "# writing a class in seperate classes"
   ]
  },
  {
   "cell_type": "code",
   "execution_count": 1,
   "id": "a3c30691",
   "metadata": {},
   "outputs": [],
   "source": [
    "class Pokemon: # classes are usually defined with capitalized names\n",
    "    \"\"\"Class to create pokemons\"\"\"\n",
    "\n",
    "    def __init__(self, name, ptype):\n",
    "        \"\"\"Initialize name and type attributes\"\"\"\n",
    "        self.name = name\n",
    "        self.ptype = ptype\n",
    "        self.level = 1 # Assume every pokemon instance starts with level 1\n",
    "        \n",
    "    def greeting(self):\n",
    "        \"\"\"Make your pokemon say hi to you\"\"\"\n",
    "        print(f\"{self.name} is saying hi to you!\")\n",
    "\n",
    "    def dance(self):\n",
    "        \"\"\"Make your pokemon dance\"\"\"\n",
    "        print(f\"{self.name} is dancing now!\")\n",
    "\n",
    "    def update_level(self, level):\n",
    "        \"\"\"Update the level of your pokemon\"\"\"\n",
    "        if level <=0 or level!= int(level):\n",
    "            print(f\"level has to be a positive integer!\")\n",
    "        else:\n",
    "            self.level = level\n",
    "\n",
    "    def check_level(self):\n",
    "        \"\"\"Check your pokemon's current level\"\"\"\n",
    "        print(f\"the current level of {self.name} is {self.level}.\")"
   ]
  },
  {
   "cell_type": "code",
   "execution_count": 2,
   "id": "23ff97fa",
   "metadata": {},
   "outputs": [],
   "source": [
    "# Let's define Pokemon_level class separately that deals with only level related arrtibutes and methods\n",
    "class Pokemon_level:\n",
    "    \"\"\"Everything about pokemon's level\"\"\"\n",
    "    def __init__(self, level = 1): # so the default value is 1\n",
    "        \"\"\"Initialize pokemon's level\"\"\"\n",
    "        self.level = level\n",
    "\n",
    "    def check_level(self):\n",
    "        \"\"\"Check your pokemon's current level\"\"\"\n",
    "        print(f\"the current level of {self.name} is {self.level}.\")\n",
    "        \n",
    "    def update_level(self, level):\n",
    "        \"\"\"Update the level of your pokemon\"\"\"\n",
    "        if level <=0 or level!= int(level):\n",
    "            print(f\"level has to be a positive integer!\")\n",
    "        else:\n",
    "            self.level = level\n"
   ]
  },
  {
   "cell_type": "code",
   "execution_count": 3,
   "id": "1586da85",
   "metadata": {},
   "outputs": [],
   "source": [
    "class Pokemon: # classes are usually defined with capitalized names\n",
    "    \"\"\"Class to create pokemons\"\"\"\n",
    "\n",
    "    def __init__(self, name, ptype):\n",
    "        \"\"\"Initialize name and type attributes\"\"\"\n",
    "        self.name = name\n",
    "        self.ptype = ptype\n",
    "        self.level = Pokemon_level() #So everything about the level is initialized here\n",
    "        \n",
    "    def greeting(self):\n",
    "        \"\"\"Make your pokemon say hi to you\"\"\"\n",
    "        print(f\"{self.name} is saying hi to you!\")\n",
    "\n",
    "    def dance(self):\n",
    "        \"\"\"Make your pokemon dance\"\"\"\n",
    "        print(f\"{self.name} is dancing now!\")\n",
    "        \n",
    "        #pikachu has name, ptype and level(level,check_level, update_level)\n",
    "        "
   ]
  },
  {
   "cell_type": "code",
   "execution_count": 6,
   "id": "3ec18bcf",
   "metadata": {},
   "outputs": [],
   "source": [
    "my_pokemon = Pokemon('Pikachu','electricity')\n"
   ]
  },
  {
   "cell_type": "code",
   "execution_count": 7,
   "id": "b7692a84",
   "metadata": {},
   "outputs": [
    {
     "data": {
      "text/plain": [
       "'Pikachu'"
      ]
     },
     "execution_count": 7,
     "metadata": {},
     "output_type": "execute_result"
    }
   ],
   "source": [
    "my_pokemon.name"
   ]
  },
  {
   "cell_type": "code",
   "execution_count": 8,
   "id": "6b640ef1",
   "metadata": {},
   "outputs": [
    {
     "data": {
      "text/plain": [
       "'electricity'"
      ]
     },
     "execution_count": 8,
     "metadata": {},
     "output_type": "execute_result"
    }
   ],
   "source": [
    "my_pokemon.ptype"
   ]
  },
  {
   "cell_type": "code",
   "execution_count": 9,
   "id": "87d0db13",
   "metadata": {},
   "outputs": [
    {
     "data": {
      "text/plain": [
       "<__main__.Pokemon_level at 0x10adaead0>"
      ]
     },
     "execution_count": 9,
     "metadata": {},
     "output_type": "execute_result"
    }
   ],
   "source": [
    "my_pokemon.level"
   ]
  },
  {
   "cell_type": "code",
   "execution_count": 10,
   "id": "b02a6cc6",
   "metadata": {},
   "outputs": [
    {
     "data": {
      "text/plain": [
       "__main__.Pokemon_level"
      ]
     },
     "execution_count": 10,
     "metadata": {},
     "output_type": "execute_result"
    }
   ],
   "source": [
    "type(my_pokemon.level)"
   ]
  },
  {
   "cell_type": "code",
   "execution_count": 13,
   "id": "ce82f3e2",
   "metadata": {},
   "outputs": [
    {
     "data": {
      "text/plain": [
       "1"
      ]
     },
     "execution_count": 13,
     "metadata": {},
     "output_type": "execute_result"
    }
   ],
   "source": [
    "my_pokemon.level.level #now my_pokemon level is an insatnce of  #Pokemon_level class"
   ]
  },
  {
   "cell_type": "code",
   "execution_count": 14,
   "id": "d97af9ae",
   "metadata": {},
   "outputs": [
    {
     "ename": "AttributeError",
     "evalue": "'Pokemon_level' object has no attribute 'name'",
     "output_type": "error",
     "traceback": [
      "\u001b[0;31m---------------------------------------------------------------------------\u001b[0m",
      "\u001b[0;31mAttributeError\u001b[0m                            Traceback (most recent call last)",
      "Cell \u001b[0;32mIn[14], line 1\u001b[0m\n\u001b[0;32m----> 1\u001b[0m my_pokemon\u001b[38;5;241m.\u001b[39mlevel\u001b[38;5;241m.\u001b[39mcheck_level()\n",
      "Cell \u001b[0;32mIn[2], line 10\u001b[0m, in \u001b[0;36mPokemon_level.check_level\u001b[0;34m(self)\u001b[0m\n\u001b[1;32m      8\u001b[0m \u001b[38;5;28;01mdef\u001b[39;00m \u001b[38;5;21mcheck_level\u001b[39m(\u001b[38;5;28mself\u001b[39m):\n\u001b[1;32m      9\u001b[0m \u001b[38;5;250m    \u001b[39m\u001b[38;5;124;03m\"\"\"Check your pokemon's current level\"\"\"\u001b[39;00m\n\u001b[0;32m---> 10\u001b[0m     \u001b[38;5;28mprint\u001b[39m(\u001b[38;5;124mf\u001b[39m\u001b[38;5;124m\"\u001b[39m\u001b[38;5;124mthe current level of \u001b[39m\u001b[38;5;132;01m{\u001b[39;00m\u001b[38;5;28mself\u001b[39m\u001b[38;5;241m.\u001b[39mname\u001b[38;5;132;01m}\u001b[39;00m\u001b[38;5;124m is \u001b[39m\u001b[38;5;132;01m{\u001b[39;00m\u001b[38;5;28mself\u001b[39m\u001b[38;5;241m.\u001b[39mlevel\u001b[38;5;132;01m}\u001b[39;00m\u001b[38;5;124m.\u001b[39m\u001b[38;5;124m\"\u001b[39m)\n",
      "\u001b[0;31mAttributeError\u001b[0m: 'Pokemon_level' object has no attribute 'name'"
     ]
    }
   ],
   "source": [
    "my_pokemon.level.check_level()"
   ]
  },
  {
   "cell_type": "code",
   "execution_count": 23,
   "id": "2326e334",
   "metadata": {},
   "outputs": [
    {
     "ename": "IndentationError",
     "evalue": "expected an indented block after class definition on line 20 (369821555.py, line 21)",
     "output_type": "error",
     "traceback": [
      "\u001b[0;36m  Cell \u001b[0;32mIn[23], line 21\u001b[0;36m\u001b[0m\n\u001b[0;31m    \"\"\"Class to create pokemons\"\"\"\u001b[0m\n\u001b[0m    ^\u001b[0m\n\u001b[0;31mIndentationError\u001b[0m\u001b[0;31m:\u001b[0m expected an indented block after class definition on line 20\n"
     ]
    }
   ],
   "source": [
    "#This error message occurs bc the name attributes does not exist in the \"pokemon_level\"class\n",
    "#how to fix this?\n",
    "class Pokemon_level:\n",
    "    \"\"\"Everything about pokemon's level\"\"\"\n",
    "    def __init__(self,name, level = 1): # so the default value is 1\n",
    "        \"\"\"Initialize pokemon's level\"\"\"\n",
    "        self.level = level\n",
    "        self.name = name #create a nenw attribute indie the pokemon name \n",
    "\n",
    "    def check_level(self):\n",
    "        \"\"\"Check your pokemon's current level\"\"\"\n",
    "        print(f\"the current level of {self.name} is {self.level}.\")\n",
    "        \n",
    "    def update_level(self, level):\n",
    "        \"\"\"Update the level of your pokemon\"\"\"\n",
    "        if level <=0 or level!= int(level):\n",
    "            print(f\"level has to be a positive integer!\")\n",
    "        else:\n",
    "            self.level = level\n",
    "    class Pokemon: # classes are usually defined with capitalized names\n",
    "    \"\"\"Class to create pokemons\"\"\"\n",
    "\n",
    "    def __init__(self, name, ptype):\n",
    "        \"\"\"Initialize name and type attributes\"\"\"\n",
    "        self.name = name\n",
    "        self.ptype = ptype\n",
    "        self.level = Pokemon_level() #So everything about the level is initialized here\n",
    "        \n",
    "    def greeting(self):\n",
    "        \"\"\"Make your pokemon say hi to you\"\"\"\n",
    "        print(f\"{self.name} is saying hi to you!\")\n",
    "\n",
    "    def dance(self):\n",
    "        \"\"\"Make your pokemon dance\"\"\"\n",
    "        print(f\"{self.name} is dancing now!\")\n",
    "        \n",
    "        #pikachu has name, ptype and level(level,check_level, update_level)\n",
    "        "
   ]
  },
  {
   "cell_type": "code",
   "execution_count": 24,
   "id": "e89b422c",
   "metadata": {},
   "outputs": [],
   "source": [
    "#solution1: we can pass \"name\" of the pokemon class into the \"Pokemon_level\"class\n",
    "my_pokemon = Pokemon('Pikachu','electricity')"
   ]
  },
  {
   "cell_type": "code",
   "execution_count": 25,
   "id": "f6197c5a",
   "metadata": {},
   "outputs": [
    {
     "data": {
      "text/plain": [
       "<__main__.Pokemon_level at 0x10ad51dd0>"
      ]
     },
     "execution_count": 25,
     "metadata": {},
     "output_type": "execute_result"
    }
   ],
   "source": [
    "my_pokemon.level"
   ]
  },
  {
   "cell_type": "code",
   "execution_count": 26,
   "id": "131b275e",
   "metadata": {},
   "outputs": [
    {
     "ename": "TypeError",
     "evalue": "Pokemon_level.check_level() takes 1 positional argument but 2 were given",
     "output_type": "error",
     "traceback": [
      "\u001b[0;31m---------------------------------------------------------------------------\u001b[0m",
      "\u001b[0;31mTypeError\u001b[0m                                 Traceback (most recent call last)",
      "Cell \u001b[0;32mIn[26], line 1\u001b[0m\n\u001b[0;32m----> 1\u001b[0m my_pokemon\u001b[38;5;241m.\u001b[39mlevel\u001b[38;5;241m.\u001b[39mcheck_level(\u001b[38;5;124m'\u001b[39m\u001b[38;5;124mPikachu\u001b[39m\u001b[38;5;124m'\u001b[39m)\n",
      "\u001b[0;31mTypeError\u001b[0m: Pokemon_level.check_level() takes 1 positional argument but 2 were given"
     ]
    }
   ],
   "source": [
    "my_pokemon.level.check_level('Pikachu')"
   ]
  },
  {
   "cell_type": "code",
   "execution_count": 27,
   "id": "43c3f013",
   "metadata": {},
   "outputs": [
    {
     "ename": "TypeError",
     "evalue": "Pokemon_level.check_level() takes 1 positional argument but 2 were given",
     "output_type": "error",
     "traceback": [
      "\u001b[0;31m---------------------------------------------------------------------------\u001b[0m",
      "\u001b[0;31mTypeError\u001b[0m                                 Traceback (most recent call last)",
      "Cell \u001b[0;32mIn[27], line 1\u001b[0m\n\u001b[0;32m----> 1\u001b[0m my_pokemon\u001b[38;5;241m.\u001b[39mlevel\u001b[38;5;241m.\u001b[39mcheck_level(my_pokemon\u001b[38;5;241m.\u001b[39mname)\n",
      "\u001b[0;31mTypeError\u001b[0m: Pokemon_level.check_level() takes 1 positional argument but 2 were given"
     ]
    }
   ],
   "source": [
    "my_pokemon.level.check_level(my_pokemon.name)"
   ]
  },
  {
   "cell_type": "code",
   "execution_count": 28,
   "id": "d5354b70",
   "metadata": {},
   "outputs": [],
   "source": [
    "#second solution: we can pass the slef attribute of the pokemon class into the Pokemon_level class"
   ]
  },
  {
   "cell_type": "code",
   "execution_count": 1,
   "id": "a667f335",
   "metadata": {},
   "outputs": [
    {
     "ename": "NameError",
     "evalue": "name 'my_pokemon_level' is not defined",
     "output_type": "error",
     "traceback": [
      "\u001b[0;31m---------------------------------------------------------------------------\u001b[0m",
      "\u001b[0;31mNameError\u001b[0m                                 Traceback (most recent call last)",
      "Cell \u001b[0;32mIn[1], line 1\u001b[0m\n\u001b[0;32m----> 1\u001b[0m my_pokemon_level\n",
      "\u001b[0;31mNameError\u001b[0m: name 'my_pokemon_level' is not defined"
     ]
    }
   ],
   "source": [
    "my_pokemon_level"
   ]
  },
  {
   "cell_type": "code",
   "execution_count": 2,
   "id": "73e40994",
   "metadata": {},
   "outputs": [],
   "source": [
    "import pokemon #I am inporting pokemon.py in your working directory"
   ]
  },
  {
   "cell_type": "code",
   "execution_count": 4,
   "id": "53be3010",
   "metadata": {},
   "outputs": [
    {
     "ename": "AttributeError",
     "evalue": "module 'pokemon' has no attribute 'Pokemon'",
     "output_type": "error",
     "traceback": [
      "\u001b[0;31m---------------------------------------------------------------------------\u001b[0m",
      "\u001b[0;31mAttributeError\u001b[0m                            Traceback (most recent call last)",
      "Cell \u001b[0;32mIn[4], line 2\u001b[0m\n\u001b[1;32m      1\u001b[0m \u001b[38;5;66;03m#Now we can use classes inside the pokemon module.\u001b[39;00m\n\u001b[0;32m----> 2\u001b[0m my_pokemon \u001b[38;5;241m=\u001b[39m pokemon\u001b[38;5;241m.\u001b[39mPokemon(\u001b[38;5;124m\"\u001b[39m\u001b[38;5;124mPikachu\u001b[39m\u001b[38;5;124m\"\u001b[39m,\u001b[38;5;124m'\u001b[39m\u001b[38;5;124melectricity\u001b[39m\u001b[38;5;124m'\u001b[39m)\n",
      "\u001b[0;31mAttributeError\u001b[0m: module 'pokemon' has no attribute 'Pokemon'"
     ]
    }
   ],
   "source": [
    "#Now we can use classes inside the pokemon module.\n",
    "my_pokemon = pokemon.Pokemon(\"Pikachu\",'electricity')\n",
    "#we will access pokemon class in the pokemon module"
   ]
  },
  {
   "cell_type": "code",
   "execution_count": 5,
   "id": "b969e95a",
   "metadata": {},
   "outputs": [
    {
     "ename": "NameError",
     "evalue": "name 'my_pokemon' is not defined",
     "output_type": "error",
     "traceback": [
      "\u001b[0;31m---------------------------------------------------------------------------\u001b[0m",
      "\u001b[0;31mNameError\u001b[0m                                 Traceback (most recent call last)",
      "Cell \u001b[0;32mIn[5], line 1\u001b[0m\n\u001b[0;32m----> 1\u001b[0m my_pokemon\u001b[38;5;241m.\u001b[39mlevel\n",
      "\u001b[0;31mNameError\u001b[0m: name 'my_pokemon' is not defined"
     ]
    }
   ],
   "source": [
    "my_pokemon.level"
   ]
  },
  {
   "cell_type": "code",
   "execution_count": 6,
   "id": "29ad4b52",
   "metadata": {},
   "outputs": [
    {
     "ename": "NameError",
     "evalue": "name 'my_pokemon' is not defined",
     "output_type": "error",
     "traceback": [
      "\u001b[0;31m---------------------------------------------------------------------------\u001b[0m",
      "\u001b[0;31mNameError\u001b[0m                                 Traceback (most recent call last)",
      "Cell \u001b[0;32mIn[6], line 1\u001b[0m\n\u001b[0;32m----> 1\u001b[0m my_pokemon\u001b[38;5;241m.\u001b[39mlevel\u001b[38;5;241m.\u001b[39mcheck_level\n",
      "\u001b[0;31mNameError\u001b[0m: name 'my_pokemon' is not defined"
     ]
    }
   ],
   "source": [
    "my_pokemon.level.check_level"
   ]
  },
  {
   "cell_type": "code",
   "execution_count": 7,
   "id": "e55c8051",
   "metadata": {},
   "outputs": [
    {
     "ename": "ImportError",
     "evalue": "cannot import name 'Pokemon' from 'pokemon' (/Users/yutangsong/Python_workshop_2024SU/pokemon.py)",
     "output_type": "error",
     "traceback": [
      "\u001b[0;31m---------------------------------------------------------------------------\u001b[0m",
      "\u001b[0;31mImportError\u001b[0m                               Traceback (most recent call last)",
      "Cell \u001b[0;32mIn[7], line 1\u001b[0m\n\u001b[0;32m----> 1\u001b[0m \u001b[38;5;28;01mfrom\u001b[39;00m \u001b[38;5;21;01mpokemon\u001b[39;00m \u001b[38;5;28;01mimport\u001b[39;00m Pokemon\n",
      "\u001b[0;31mImportError\u001b[0m: cannot import name 'Pokemon' from 'pokemon' (/Users/yutangsong/Python_workshop_2024SU/pokemon.py)"
     ]
    }
   ],
   "source": [
    "from pokemon import Pokemon"
   ]
  },
  {
   "cell_type": "code",
   "execution_count": 8,
   "id": "54c6b78f",
   "metadata": {},
   "outputs": [
    {
     "ename": "NameError",
     "evalue": "name 'Pokemon' is not defined",
     "output_type": "error",
     "traceback": [
      "\u001b[0;31m---------------------------------------------------------------------------\u001b[0m",
      "\u001b[0;31mNameError\u001b[0m                                 Traceback (most recent call last)",
      "Cell \u001b[0;32mIn[8], line 1\u001b[0m\n\u001b[0;32m----> 1\u001b[0m my_pokemon\u001b[38;5;241m=\u001b[39mPokemon(\u001b[38;5;124m\"\u001b[39m\u001b[38;5;124mPikachu\u001b[39m\u001b[38;5;124m\"\u001b[39m,\u001b[38;5;124m'\u001b[39m\u001b[38;5;124melectricity\u001b[39m\u001b[38;5;124m'\u001b[39m)\n",
      "\u001b[0;31mNameError\u001b[0m: name 'Pokemon' is not defined"
     ]
    }
   ],
   "source": [
    "my_pokemon=Pokemon(\"Pikachu\",'electricity')"
   ]
  },
  {
   "cell_type": "code",
   "execution_count": 9,
   "id": "a33d342b",
   "metadata": {},
   "outputs": [
    {
     "ename": "NameError",
     "evalue": "name 'my_pokemon' is not defined",
     "output_type": "error",
     "traceback": [
      "\u001b[0;31m---------------------------------------------------------------------------\u001b[0m",
      "\u001b[0;31mNameError\u001b[0m                                 Traceback (most recent call last)",
      "Cell \u001b[0;32mIn[9], line 1\u001b[0m\n\u001b[0;32m----> 1\u001b[0m my_pokemon\u001b[38;5;241m.\u001b[39mlevel\n",
      "\u001b[0;31mNameError\u001b[0m: name 'my_pokemon' is not defined"
     ]
    }
   ],
   "source": [
    "my_pokemon.level"
   ]
  },
  {
   "cell_type": "code",
   "execution_count": 10,
   "id": "8f0d4cea",
   "metadata": {},
   "outputs": [
    {
     "ename": "SyntaxError",
     "evalue": "invalid syntax (1766670197.py, line 1)",
     "output_type": "error",
     "traceback": [
      "\u001b[0;36m  Cell \u001b[0;32mIn[10], line 1\u001b[0;36m\u001b[0m\n\u001b[0;31m    my pokemon.level.check_level()\u001b[0m\n\u001b[0m       ^\u001b[0m\n\u001b[0;31mSyntaxError\u001b[0m\u001b[0;31m:\u001b[0m invalid syntax\n"
     ]
    }
   ],
   "source": [
    "my pokemon.level.check_level()"
   ]
  },
  {
   "cell_type": "code",
   "execution_count": 11,
   "id": "0538388a",
   "metadata": {},
   "outputs": [],
   "source": [
    "from pokemon import *"
   ]
  },
  {
   "cell_type": "code",
   "execution_count": null,
   "id": "54478ceb",
   "metadata": {},
   "outputs": [],
   "source": [
    "from pokemon import Pokemon, POkemon_level #This is more recommend practice."
   ]
  }
 ],
 "metadata": {
  "kernelspec": {
   "display_name": "Python 3 (ipykernel)",
   "language": "python",
   "name": "python3"
  },
  "language_info": {
   "codemirror_mode": {
    "name": "ipython",
    "version": 3
   },
   "file_extension": ".py",
   "mimetype": "text/x-python",
   "name": "python",
   "nbconvert_exporter": "python",
   "pygments_lexer": "ipython3",
   "version": "3.11.5"
  }
 },
 "nbformat": 4,
 "nbformat_minor": 5
}
